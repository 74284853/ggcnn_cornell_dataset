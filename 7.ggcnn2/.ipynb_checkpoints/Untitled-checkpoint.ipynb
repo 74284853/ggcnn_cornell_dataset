{
 "cells": [
  {
   "cell_type": "markdown",
   "metadata": {},
   "source": [
    "# 测试看一下GGCNN2\n",
    "其实单从学习代码的角度来看，这块没必要写一个notebook，直接在py文件里面改就行了，但是这个东西我想结合着论文看一下，好好研究一下网络的思路和一些比较复杂网络的构建。"
   ]
  },
  {
   "cell_type": "code",
   "execution_count": null,
   "metadata": {},
   "outputs": [],
   "source": []
  }
 ],
 "metadata": {
  "kernelspec": {
   "display_name": "Python 3",
   "language": "python",
   "name": "python3"
  },
  "language_info": {
   "codemirror_mode": {
    "name": "ipython",
    "version": 3
   },
   "file_extension": ".py",
   "mimetype": "text/x-python",
   "name": "python",
   "nbconvert_exporter": "python",
   "pygments_lexer": "ipython3",
   "version": "3.7.7"
  }
 },
 "nbformat": 4,
 "nbformat_minor": 4
}
