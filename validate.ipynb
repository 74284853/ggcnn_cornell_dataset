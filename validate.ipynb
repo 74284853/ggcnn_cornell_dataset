{
 "cells": [
  {
   "cell_type": "markdown",
   "metadata": {},
   "source": [
    "# 网络的验证"
   ]
  },
  {
   "cell_type": "markdown",
   "metadata": {},
   "source": [
    "这种验证其实也就有些类似于目标检测的验证了，比分类问题复杂些，通过一些指标而非简单的分类标签来判定真伪。\n",
    "\n",
    "如果先不看ggcnn中的思路，这块让我来做的话，分析一下，我们得到的网络输出是pos_img,ang_img和width_img，pos_img各点的值可以视作该点可抓不可抓的概率，图像大小为（300，300），太多了，那么我首先可以把最大值的1000个点筛选出来，然后找对对应的angle和width，凭借这三个参数就可以重建出这些点的抓取框，然后计算与真实各框的iou和jaccard指数等，如果都满足标准，就认为这是一次正确的抓取，这次预测也就是正确的了。\n",
    "\n",
    "那就开整，流程应该是这样的：\n",
    "- 首先是从网络的输出映射图中反求出各个实际参数代表的抓取框，主要就是要将cos和sin两个图反求出angle。\n",
    "- 然后要明确一下成功的标准，然后写函数计算这些标准，最后再集成到类或者函数里面，思路还是很明确的。\n",
    "  - 1.IoU\n",
    "  - 2.jaccard index"
   ]
  },
  {
   "cell_type": "markdown",
   "metadata": {},
   "source": [
    "## 1.数据的反求\n",
    "\n",
    "首先是通过原始的输出映射四张图把数据读出来，这边我们先运行一个训练，得到一下训练输出，然后方便处理"
   ]
  },
  {
   "cell_type": "code",
   "execution_count": 8,
   "metadata": {},
   "outputs": [
    {
     "name": "stdout",
     "output_type": "stream",
     "text": [
      "0 tensor(1.2436, grad_fn=<AddBackward0>)\n",
      "1 tensor(1.2214, grad_fn=<AddBackward0>)\n",
      "2 tensor(1.1963, grad_fn=<AddBackward0>)\n",
      "3 tensor(1.1675, grad_fn=<AddBackward0>)\n",
      "4 tensor(1.1340, grad_fn=<AddBackward0>)\n",
      "5 tensor(1.0918, grad_fn=<AddBackward0>)\n",
      "6 tensor(1.0340, grad_fn=<AddBackward0>)\n",
      "7 tensor(0.9526, grad_fn=<AddBackward0>)\n",
      "8 tensor(0.8400, grad_fn=<AddBackward0>)\n",
      "9 tensor(0.6923, grad_fn=<AddBackward0>)\n",
      "10 tensor(0.5193, grad_fn=<AddBackward0>)\n",
      "11 tensor(0.3677, grad_fn=<AddBackward0>)\n",
      "12 tensor(0.3363, grad_fn=<AddBackward0>)\n",
      "13 tensor(0.3998, grad_fn=<AddBackward0>)\n",
      "14 tensor(0.3224, grad_fn=<AddBackward0>)\n",
      "15 tensor(0.2055, grad_fn=<AddBackward0>)\n",
      "16 tensor(0.1439, grad_fn=<AddBackward0>)\n",
      "17 tensor(0.1357, grad_fn=<AddBackward0>)\n",
      "18 tensor(0.1468, grad_fn=<AddBackward0>)\n",
      "19 tensor(0.1546, grad_fn=<AddBackward0>)\n",
      "20 tensor(0.1523, grad_fn=<AddBackward0>)\n",
      "21 tensor(0.1429, grad_fn=<AddBackward0>)\n",
      "22 tensor(0.1338, grad_fn=<AddBackward0>)\n",
      "23 tensor(0.1339, grad_fn=<AddBackward0>)\n",
      "24 tensor(0.1399, grad_fn=<AddBackward0>)\n",
      "25 tensor(0.1397, grad_fn=<AddBackward0>)\n",
      "26 tensor(0.1293, grad_fn=<AddBackward0>)\n",
      "27 tensor(0.1156, grad_fn=<AddBackward0>)\n",
      "28 tensor(0.1046, grad_fn=<AddBackward0>)\n",
      "29 tensor(0.0995, grad_fn=<AddBackward0>)\n",
      "30 tensor(0.0979, grad_fn=<AddBackward0>)\n",
      "31 tensor(0.0954, grad_fn=<AddBackward0>)\n",
      "32 tensor(0.0906, grad_fn=<AddBackward0>)\n",
      "33 tensor(0.0855, grad_fn=<AddBackward0>)\n",
      "34 tensor(0.0832, grad_fn=<AddBackward0>)\n",
      "35 tensor(0.0840, grad_fn=<AddBackward0>)\n",
      "36 tensor(0.0845, grad_fn=<AddBackward0>)\n",
      "37 tensor(0.0826, grad_fn=<AddBackward0>)\n",
      "38 tensor(0.0796, grad_fn=<AddBackward0>)\n",
      "39 tensor(0.0782, grad_fn=<AddBackward0>)\n",
      "40 tensor(0.0786, grad_fn=<AddBackward0>)\n",
      "41 tensor(0.0787, grad_fn=<AddBackward0>)\n",
      "42 tensor(0.0772, grad_fn=<AddBackward0>)\n",
      "43 tensor(0.0749, grad_fn=<AddBackward0>)\n",
      "44 tensor(0.0734, grad_fn=<AddBackward0>)\n",
      "45 tensor(0.0729, grad_fn=<AddBackward0>)\n",
      "46 tensor(0.0721, grad_fn=<AddBackward0>)\n",
      "47 tensor(0.0701, grad_fn=<AddBackward0>)\n",
      "48 tensor(0.0679, grad_fn=<AddBackward0>)\n",
      "49 tensor(0.0665, grad_fn=<AddBackward0>)\n"
     ]
    }
   ],
   "source": [
    "import torch\n",
    "import torch.optim as optim\n",
    "import matplotlib.pyplot as plt\n",
    "import numpy as np\n",
    "\n",
    "from train.cornell_pro import Cornell\n",
    "from train.ggcnn import GGCNN\n",
    "\n",
    "#准备数据集\n",
    "cornell_data = Cornell('cornell')\n",
    "dataset = torch.utils.data.DataLoader(cornell_data,batch_size = 32)\n",
    "\n",
    "#从数据集中读取一个样本\n",
    "for x,y in dataset:\n",
    "    xc = x\n",
    "    yc = y\n",
    "    break\n",
    "    \n",
    "#实例化一个网络\n",
    "net = GGCNN(4)\n",
    "\n",
    "#定义一个优化器\n",
    "optimizer = optim.Adam(net.parameters())\n",
    "\n",
    "#为了能够看出效果，就在这个样本上多训练几次，得到一个很擅长这个样本的模型，然后拿它做预测输出\n",
    "\n",
    "for i in range(50):\n",
    "    losses = net.compute_loss(xc,yc)\n",
    "    \n",
    "    loss = losses['loss']\n",
    "    print(i,loss)\n",
    "    optimizer.zero_grad()\n",
    "    loss.backward()\n",
    "    \n",
    "    optimizer.step()\n",
    "\n"
   ]
  },
  {
   "cell_type": "code",
   "execution_count": 9,
   "metadata": {},
   "outputs": [],
   "source": [
    "#将输入传递到网络并计算输出\n",
    "pos,cos,sin,width = net.forward(xc)"
   ]
  },
  {
   "cell_type": "code",
   "execution_count": 12,
   "metadata": {},
   "outputs": [
    {
     "data": {
      "image/png": "[encoded data removed]",
      "text/plain": [
       "<Figure size 432x288 with 4 Axes>"
      ]
     },
     "metadata": {
      "needs_background": "light"
     },
     "output_type": "display_data"
    }
   ],
   "source": [
    "#看一下是否能够给出一个相对合理的预测\n",
    "num = 20\n",
    "\n",
    "plt.subplot(141)\n",
    "plt.title('pos_out')\n",
    "plt.imshow(pos[num][0].data.numpy(),cmap=plt.cm.gray)\n",
    "plt.subplot(142)\n",
    "plt.title('cos_out')\n",
    "plt.imshow(cos[num][0].data.numpy(),cmap=plt.cm.gray)\n",
    "plt.subplot(143)\n",
    "plt.title('sin_out')\n",
    "plt.imshow(sin[num][0].data.numpy(),cmap=plt.cm.gray)\n",
    "plt.subplot(144)\n",
    "plt.title('width_out')\n",
    "plt.imshow(width[num][0].data.numpy(),cmap=plt.cm.gray)\n",
    "plt.show()\n",
    "#看起来还不错，下面开始数据的读取和反求"
   ]
  },
  {
   "cell_type": "code",
   "execution_count": null,
   "metadata": {},
   "outputs": [],
   "source": []
  },
  {
   "cell_type": "markdown",
   "metadata": {},
   "source": [
    "## 2.标准的确定\n",
    "### 2.1 IoU的计算\n",
    "全称Intersection over Union\n",
    "![IoU计算示意图](images/iou.png)\n",
    "\n",
    "计算IoU程序的设计思路可以参考：https://blog.csdn.net/u014061630/article/details/82818112"
   ]
  },
  {
   "cell_type": "code",
   "execution_count": null,
   "metadata": {},
   "outputs": [],
   "source": []
  }
 ],
 "metadata": {
  "kernelspec": {
   "display_name": "Python 3",
   "language": "python",
   "name": "python3"
  },
  "language_info": {
   "codemirror_mode": {
    "name": "ipython",
    "version": 3
   },
   "file_extension": ".py",
   "mimetype": "text/x-python",
   "name": "python",
   "nbconvert_exporter": "python",
   "pygments_lexer": "ipython3",
   "version": "3.6.10"
  }
 },
 "nbformat": 4,
 "nbformat_minor": 4
}
