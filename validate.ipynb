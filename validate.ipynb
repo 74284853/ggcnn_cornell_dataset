{
 "cells": [
  {
   "cell_type": "markdown",
   "metadata": {},
   "source": [
    "# 网络的验证"
   ]
  },
  {
   "cell_type": "markdown",
   "metadata": {},
   "source": [
    "这种验证其实也就有些类似于目标检测的验证了，比分类问题复杂些，通过一些指标而非简单的分类标签来判定真伪。\n",
    "\n",
    "如果先不看ggcnn中的思路，这块让我来做的话，分析一下，我们得到的网络输出是pos_img,ang_img和width_img，pos_img各点的值可以视作该点可抓不可抓的概率，图像大小为（300，300），太多了，那么我首先可以把最大值的1000个点筛选出来，然后找对对应的angle和width，凭借这三个参数就可以重建出这些点的抓取框，然后计算与真实各框的iou和jaccard指数等，如果都满足标准，就认为这是一次正确的抓取，这次预测也就是正确的了。\n",
    "\n",
    "那就开整，流程应该是这样的：\n",
    "- 首先是从网络的输出映射图中反求出各个实际参数代表的抓取框，主要就是要将cos和sin两个图反求出angle。\n",
    "- 然后要明确一下成功的标准，然后写函数计算这些标准，最后再集成到类或者函数里面，思路还是很明确的。\n",
    "  - 1.IoU>某个阈值\n",
    "  - 2.jaccard index\n",
    "  - 3.angle<某个阈值（即使重合度很高，角度差太远也是不行的）\n",
    " \n",
    "最后，与之前程序的结合之处应当这样写：先对网络进行训练，每隔一定时间，执行验证函数，验证函数需要从外部载入的只有验证集数据和刚刚训练过的网络模型，在验证函数内部对验证集中的样本进行逐一预测，计算前面所设计的两个指标，如果满足，则正确样本数加1，最后的正确率=正确样本数/验证集样本总数。"
   ]
  },
  {
   "cell_type": "markdown",
   "metadata": {},
   "source": [
    "## 1.原始输出数据的处理及其中有效抓取框的提取\n",
    "此处注意，思路应当是这样的，先提取出所有的有效抓取框，也即，抓取概率为1的抓取框都应该提取出来作为候选，至于这些框中的哪些是正确的，就交由后面的两个指标来判断\n",
    "\n",
    "### 1.1原始输出数据的处理\n",
    "首先是通过原始的输出映射四张图把数据读出来，这边我们先运行一个训练，得到一下训练输出，然后方便处理"
   ]
  },
  {
   "cell_type": "code",
   "execution_count": 1,
   "metadata": {},
   "outputs": [
    {
     "name": "stdout",
     "output_type": "stream",
     "text": [
      "0 tensor(0.9046, grad_fn=<AddBackward0>)\n",
      "1 tensor(0.8910, grad_fn=<AddBackward0>)\n",
      "2 tensor(0.8755, grad_fn=<AddBackward0>)\n",
      "3 tensor(0.8560, grad_fn=<AddBackward0>)\n",
      "4 tensor(0.8299, grad_fn=<AddBackward0>)\n",
      "5 tensor(0.7927, grad_fn=<AddBackward0>)\n",
      "6 tensor(0.7372, grad_fn=<AddBackward0>)\n",
      "7 tensor(0.6564, grad_fn=<AddBackward0>)\n",
      "8 tensor(0.5467, grad_fn=<AddBackward0>)\n",
      "9 tensor(0.4086, grad_fn=<AddBackward0>)\n",
      "10 tensor(0.2600, grad_fn=<AddBackward0>)\n",
      "11 tensor(0.1967, grad_fn=<AddBackward0>)\n",
      "12 tensor(0.2829, grad_fn=<AddBackward0>)\n",
      "13 tensor(0.2275, grad_fn=<AddBackward0>)\n",
      "14 tensor(0.1363, grad_fn=<AddBackward0>)\n",
      "15 tensor(0.1042, grad_fn=<AddBackward0>)\n",
      "16 tensor(0.1187, grad_fn=<AddBackward0>)\n",
      "17 tensor(0.1405, grad_fn=<AddBackward0>)\n",
      "18 tensor(0.1496, grad_fn=<AddBackward0>)\n",
      "19 tensor(0.1436, grad_fn=<AddBackward0>)\n",
      "20 tensor(0.1296, grad_fn=<AddBackward0>)\n",
      "21 tensor(0.1150, grad_fn=<AddBackward0>)\n",
      "22 tensor(0.1089, grad_fn=<AddBackward0>)\n",
      "23 tensor(0.1136, grad_fn=<AddBackward0>)\n",
      "24 tensor(0.1180, grad_fn=<AddBackward0>)\n",
      "25 tensor(0.1104, grad_fn=<AddBackward0>)\n",
      "26 tensor(0.0971, grad_fn=<AddBackward0>)\n",
      "27 tensor(0.0890, grad_fn=<AddBackward0>)\n",
      "28 tensor(0.0888, grad_fn=<AddBackward0>)\n",
      "29 tensor(0.0912, grad_fn=<AddBackward0>)\n",
      "30 tensor(0.0905, grad_fn=<AddBackward0>)\n",
      "31 tensor(0.0859, grad_fn=<AddBackward0>)\n",
      "32 tensor(0.0805, grad_fn=<AddBackward0>)\n",
      "33 tensor(0.0785, grad_fn=<AddBackward0>)\n",
      "34 tensor(0.0809, grad_fn=<AddBackward0>)\n",
      "35 tensor(0.0822, grad_fn=<AddBackward0>)\n",
      "36 tensor(0.0796, grad_fn=<AddBackward0>)\n",
      "37 tensor(0.0761, grad_fn=<AddBackward0>)\n",
      "38 tensor(0.0743, grad_fn=<AddBackward0>)\n",
      "39 tensor(0.0746, grad_fn=<AddBackward0>)\n",
      "40 tensor(0.0747, grad_fn=<AddBackward0>)\n",
      "41 tensor(0.0730, grad_fn=<AddBackward0>)\n",
      "42 tensor(0.0703, grad_fn=<AddBackward0>)\n",
      "43 tensor(0.0687, grad_fn=<AddBackward0>)\n",
      "44 tensor(0.0685, grad_fn=<AddBackward0>)\n",
      "45 tensor(0.0682, grad_fn=<AddBackward0>)\n",
      "46 tensor(0.0664, grad_fn=<AddBackward0>)\n",
      "47 tensor(0.0643, grad_fn=<AddBackward0>)\n",
      "48 tensor(0.0638, grad_fn=<AddBackward0>)\n",
      "49 tensor(0.0639, grad_fn=<AddBackward0>)\n"
     ]
    }
   ],
   "source": [
    "import torch\n",
    "import torch.optim as optim\n",
    "import matplotlib.pyplot as plt\n",
    "import numpy as np\n",
    "\n",
    "from train.cornell_pro import Cornell\n",
    "from train.ggcnn import GGCNN\n",
    "\n",
    "#准备数据集\n",
    "cornell_data = Cornell('cornell')\n",
    "dataset = torch.utils.data.DataLoader(cornell_data,batch_size = 32)\n",
    "\n",
    "#从数据集中读取一个样本\n",
    "for x,y in dataset:\n",
    "    xc = x\n",
    "    yc = y\n",
    "    break\n",
    "    \n",
    "#实例化一个网络\n",
    "net = GGCNN(4)\n",
    "\n",
    "#定义一个优化器\n",
    "optimizer = optim.Adam(net.parameters())\n",
    "\n",
    "#为了能够看出效果，就在这个样本上多训练几次，得到一个很擅长这个样本的模型，然后拿它做预测输出\n",
    "\n",
    "for i in range(50):\n",
    "    losses = net.compute_loss(xc,yc)\n",
    "    \n",
    "    loss = losses['loss']\n",
    "    print(i,loss)\n",
    "    optimizer.zero_grad()\n",
    "    loss.backward()\n",
    "    \n",
    "    optimizer.step()\n",
    "\n"
   ]
  },
  {
   "cell_type": "code",
   "execution_count": 2,
   "metadata": {},
   "outputs": [
    {
     "data": {
      "image/png": "[encoded data removed]",
      "text/plain": [
       "<Figure size 432x288 with 4 Axes>"
      ]
     },
     "metadata": {
      "needs_background": "light"
     },
     "output_type": "display_data"
    }
   ],
   "source": [
    "#将输入传递到网络并计算输出\n",
    "pos,cos,sin,width = net.forward(xc)\n",
    "\n",
    "#可视化看一下输出是是一个相对合理的预测\n",
    "num = 20\n",
    "\n",
    "plt.subplot(141)\n",
    "plt.title('pos_out')\n",
    "plt.imshow(pos[num][0].data.numpy(),cmap=plt.cm.gray)\n",
    "plt.subplot(142)\n",
    "plt.title('cos_out')\n",
    "plt.imshow(cos[num][0].data.numpy(),cmap=plt.cm.gray)\n",
    "plt.subplot(143)\n",
    "plt.title('sin_out')\n",
    "plt.imshow(sin[num][0].data.numpy(),cmap=plt.cm.gray)\n",
    "plt.subplot(144)\n",
    "plt.title('width_out')\n",
    "plt.imshow(width[num][0].data.numpy(),cmap=plt.cm.gray)\n",
    "plt.show()"
   ]
  },
  {
   "cell_type": "markdown",
   "metadata": {},
   "source": [
    "看起来还不错，下面开始数据的读取和反求。\n",
    "\n",
    "首先是反求一下角度数据，同时对三个数据进行一下降维处理。"
   ]
  },
  {
   "cell_type": "code",
   "execution_count": 3,
   "metadata": {},
   "outputs": [],
   "source": [
    "q_img = pos.data.numpy().squeeze()#squeeze的作用通过处理前后张量的shape就可以看出来，对于单通道的图像，可视化以及后面计算的时候是不要需要第三个维度的，所以去掉了\n",
    "ang_img = (torch.atan2(sin, cos) / 2.0).data.numpy().squeeze()\n",
    "width_img = width.data.numpy().squeeze()"
   ]
  },
  {
   "cell_type": "code",
   "execution_count": 4,
   "metadata": {},
   "outputs": [
    {
     "data": {
      "image/png": "[encoded data removed]",
      "text/plain": [
       "<Figure size 432x288 with 3 Axes>"
      ]
     },
     "metadata": {
      "needs_background": "light"
     },
     "output_type": "display_data"
    }
   ],
   "source": [
    "#可视化一下看看效果，主要是看ang_img，其他俩都没变\n",
    "plt.subplot(131)\n",
    "plt.title('q_img')\n",
    "plt.imshow(q_img[num],cmap=plt.cm.gray)\n",
    "plt.subplot(132)\n",
    "plt.title('ang_img')\n",
    "plt.imshow(ang_img[num],cmap=plt.cm.gray)\n",
    "plt.subplot(133)\n",
    "plt.title('width_img')\n",
    "plt.imshow(width_img[num],cmap=plt.cm.gray)\n",
    "plt.show()"
   ]
  },
  {
   "cell_type": "markdown",
   "metadata": {},
   "source": [
    "在真正计算之前，还需要进行一个高斯滤波，原因论文中已经说过了，前面与已经可视化了滤波之前的效果，后面滤波一下，然后再看效果"
   ]
  },
  {
   "cell_type": "code",
   "execution_count": 5,
   "metadata": {},
   "outputs": [],
   "source": [
    "from skimage.filters import gaussian\n",
    "#注意此处要加上一个索引，也就是传入一个样本到gaussian函数，q_img[num],而不能将q_img整个传入，否则后面的运算会出问题，guassian这个函数无法批量处理多样本，\n",
    "q_img_g = gaussian(q_img[num], 2.0, preserve_range=True)\n",
    "ang_img_g = gaussian(ang_img[num], 2.0, preserve_range=True)\n",
    "width_img_g = gaussian(width_img[num], 1.0, preserve_range=True)"
   ]
  },
  {
   "cell_type": "code",
   "execution_count": 15,
   "metadata": {
    "scrolled": true
   },
   "outputs": [
    {
     "data": {
      "image/png": "[encoded data removed]",
      "text/plain": [
       "<Figure size 432x288 with 3 Axes>"
      ]
     },
     "metadata": {
      "needs_background": "light"
     },
     "output_type": "display_data"
    }
   ],
   "source": [
    "#可视化一下看看高斯滤波后的效果\n",
    "plt.subplot(131)\n",
    "plt.title('q_img_g')\n",
    "plt.imshow(q_img_g,cmap=plt.cm.gray)\n",
    "plt.subplot(132)\n",
    "plt.title('ang_img_g')\n",
    "plt.imshow(ang_img_g,cmap=plt.cm.gray)\n",
    "plt.subplot(133)\n",
    "plt.title('width_img_g')\n",
    "plt.imshow(width_img_g,cmap=plt.cm.gray)\n",
    "plt.show()"
   ]
  },
  {
   "cell_type": "markdown",
   "metadata": {},
   "source": [
    "可以看到输出平滑了许多，而且对比度也有所增加，具体的效果可以后面再做对比实验比对，但作者是做了对比实验的，经过高斯过滤后动态抓取效果要好很多。"
   ]
  },
  {
   "cell_type": "markdown",
   "metadata": {},
   "source": [
    "### 1.2有效抓取的提取\n",
    "这块按照我的想法就是设置一个阈值，比如1，使用np.where()函数就可以找出所有满足这个阈值的点坐标，然后挨个把他们对应的其他两个参数读出来，这样定义一个抓取的所有三个参数就都有了，可以把它构造成前面设计的Grasp类，再处理的话就方便多了。\n",
    "\n",
    "我看ggcnn的思路也是类似，但是对于最开始的有效点的提取，他直接用了一个函数peak_local_max，来自skimage.feature,我觉得可以学习一下，具体学习过程见support files，这里就直接拿来用了："
   ]
  },
  {
   "cell_type": "code",
   "execution_count": 26,
   "metadata": {},
   "outputs": [],
   "source": [
    "from skimage.feature import peak_local_max\n",
    "#变量的命名就沿用ggcnn里面的了\n",
    "local_max = peak_local_max(q_img_g, min_distance=20, threshold_abs=0.2)"
   ]
  },
  {
   "cell_type": "code",
   "execution_count": 27,
   "metadata": {},
   "outputs": [
    {
     "data": {
      "text/plain": [
       "array([], shape=(0, 2), dtype=int64)"
      ]
     },
     "execution_count": 27,
     "metadata": {},
     "output_type": "execute_result"
    }
   ],
   "source": [
    "local_max"
   ]
  },
  {
   "cell_type": "markdown",
   "metadata": {},
   "source": [
    "可以看到，这边直接按照ggcnn默认的参数来执行的话，是没有返回值的，原因肯定在于threshold_abs这个参数，因为我们可以看到可视化的图里面有局部极值，那么一定就是这个threshold_abs设置的太大了（虽然图中看着很亮，对比挺明显的，但可能是matplotlib自己可视化时做的优化），下面检查一下q_img的取值范围。"
   ]
  },
  {
   "cell_type": "code",
   "execution_count": 30,
   "metadata": {},
   "outputs": [
    {
     "data": {
      "text/plain": [
       "-0.008837031"
      ]
     },
     "execution_count": 30,
     "metadata": {},
     "output_type": "execute_result"
    }
   ],
   "source": [
    "q_img_g.min()"
   ]
  },
  {
   "cell_type": "code",
   "execution_count": 36,
   "metadata": {},
   "outputs": [
    {
     "data": {
      "text/plain": [
       "0.029856088"
      ]
     },
     "execution_count": 36,
     "metadata": {},
     "output_type": "execute_result"
    }
   ],
   "source": [
    "q_img_g.max()"
   ]
  },
  {
   "cell_type": "markdown",
   "metadata": {},
   "source": [
    "Bingo！\n",
    "\n",
    "就是因为预测出的值太小了，没有达到我们设定的峰值最低标准threshold，最根本的原因在于训练的迭代次数太少了，只有五十次，通过spyder程序测试后发现，loss会迅速下降，但q_img的max值在250次迭代左右才会达到比较理想的量级（同理这50次迭代出的angle和width偏差也是有些大，不要被可视化的图像迷惑了），如下图所示:\n",
    "![loss_max](images\\loss_and_max_value.png)（这个图片可以通过调用train_main2.py来获得，迭代了1000次）\n",
    "\n",
    "而实际训练中的迭代次数是远超200次的，所以，没问题，这个问题可以暂时忽略，对最终结果无影响，下面就暂时把threshold_abs设为0.01，接着往下进行："
   ]
  },
  {
   "cell_type": "code",
   "execution_count": 41,
   "metadata": {},
   "outputs": [
    {
     "data": {
      "text/plain": [
       "array([[150, 154]], dtype=int64)"
      ]
     },
     "execution_count": 41,
     "metadata": {},
     "output_type": "execute_result"
    }
   ],
   "source": [
    "local_max = peak_local_max(q_img_g, min_distance=20, threshold_abs=0.01, num_peaks = 1)\n",
    "local_max"
   ]
  },
  {
   "cell_type": "markdown",
   "metadata": {},
   "source": [
    "这里返回的是q_img中极值点的坐标，我们可以通过这个坐标读出该点的角度，宽度等数据，然后将其重建为一个抓取框对象Grasp_cpaw"
   ]
  },
  {
   "cell_type": "code",
   "execution_count": 54,
   "metadata": {},
   "outputs": [],
   "source": [
    "for grasp_point_array in local_max:\n",
    "    grasp_point = tuple(grasp_point_array)\n",
    "    grasp_angle = ang_img_g[grasp_point]\n",
    "    grasp_width = width_img_g[grasp_point]"
   ]
  },
  {
   "cell_type": "code",
   "execution_count": 56,
   "metadata": {},
   "outputs": [
    {
     "name": "stdout",
     "output_type": "stream",
     "text": [
      "-0.014438937\n",
      "-0.009078473\n"
     ]
    },
    {
     "data": {
      "text/plain": [
       "0.023920866"
      ]
     },
     "execution_count": 56,
     "metadata": {},
     "output_type": "execute_result"
    }
   ],
   "source": [
    "print(grasp_angle)\n",
    "print(grasp_width)\n",
    "width_img_g.max()"
   ]
  },
  {
   "cell_type": "code",
   "execution_count": null,
   "metadata": {},
   "outputs": [],
   "source": [
    "在数据集的处理中，是将width这个参数缩小了150倍的，刚才读取了一下"
   ]
  },
  {
   "cell_type": "markdown",
   "metadata": {},
   "source": [
    "下面使用这两个参数将其构造为一个Grasp_cpaw对象\n",
    "\n",
    "到这就有些问题了，因为前面的极值点在数量级上不符合要求的话，没关系，调节阈值，将相对最大的值找出来就可以了，但是angle和width在50次的迭代过程后的结果也是不准的，这是会直接影响到我构建出的抓取框形状姿态的，直接用这个不精确的值肯定会出问题，而在这边迭代250次以上又太慢了，所以我直接用spyder迭代了1000次，去它预测的angle和width结果过来使用，如下代码。"
   ]
  },
  {
   "cell_type": "code",
   "execution_count": 82,
   "metadata": {},
   "outputs": [
    {
     "name": "stdout",
     "output_type": "stream",
     "text": [
      "-0.11710874\n",
      "tensor(0.3423)\n"
     ]
    }
   ],
   "source": [
    "#这是在150，154这点标注的真实值\n",
    "ang_img = (torch.atan2(yc[2],yc[1]) / 2.0).data.numpy().squeeze()\n",
    "print(ang_img[0][150,154])\n",
    "print(yc[3][0][0][150,154])"
   ]
  },
  {
   "cell_type": "code",
   "execution_count": 83,
   "metadata": {},
   "outputs": [],
   "source": [
    "from train.grasp_pro import Grasp_cpaw\n",
    "\n",
    "#这是经过1000次迭代后预测出的值\n",
    "angle = -0.10458073\n",
    "width = 0.4398\n",
    "\n",
    "g = Grasp_cpaw(grasp_point,angle,width)#是可以不指定grasp.length的。\n",
    "#到这对象就构建好了，完成了从输出中提取一个有效抓取框的过程，可以将它们集成到一个函数里面去"
   ]
  },
  {
   "cell_type": "code",
   "execution_count": 99,
   "metadata": {},
   "outputs": [],
   "source": [
    "def detect_grasps(q_img, ang_img, width_img=None, no_grasps=1):\n",
    "    '''\n",
    "    :功能: 从给定的网络预测输出中提取有效的抓取框\n",
    "    :参数: q_img     : Tensor,经过处理的网络pos预测输出\n",
    "    :参数: angle     : Tensor,从网络输出的cos和sin值中计算得来的角度值\n",
    "    :参数: width_img : Tensor,经过处理的网络width预测输出\n",
    "    :参数: no_grasp  : int,期望得到的抓取框的个数\n",
    "    :返回: grasps    : list,包含提取到的多个抓取框类的列表\n",
    "    '''\n",
    "    \n",
    "    local_max = peak_local_max(q_img, min_distance=20, threshold_abs=0.01, num_peaks=no_grasps)#实际使用时记得把这个阈值改大点\n",
    "    \n",
    "    grasps = []\n",
    "    for grasp_point_array in local_max:\n",
    "        grasp_point = tuple(grasp_point_array)\n",
    "        grasp_angle = ang_img_g[grasp_point]\n",
    "    \n",
    "    g = Grasp_cpaw(grasp_point, grasp_angle)\n",
    "    if width_img is not None:\n",
    "        g.width = width_img[grasp_point]\n",
    "        g.length = g.width/2\n",
    "    grasps.append(g)\n",
    "    \n",
    "    return grasps"
   ]
  },
  {
   "cell_type": "code",
   "execution_count": 100,
   "metadata": {},
   "outputs": [],
   "source": [
    "grasps = detect_grasps(q_img_g,ang_img_g,width_img_g)"
   ]
  },
  {
   "cell_type": "code",
   "execution_count": 103,
   "metadata": {},
   "outputs": [
    {
     "name": "stdout",
     "output_type": "stream",
     "text": [
      "(150, 154)\n",
      "-0.10458073\n",
      "0.4398\n",
      "0.2199\n"
     ]
    }
   ],
   "source": [
    "grasps[0].angle = -0.10458073\n",
    "grasps[0].width = 0.4398\n",
    "grasps[0].length = grasps[0].width/2\n",
    "\n",
    "print(grasps[0].center)\n",
    "print(grasps[0].angle)\n",
    "print(grasps[0].width)\n",
    "print(grasps[0].length)"
   ]
  },
  {
   "cell_type": "markdown",
   "metadata": {},
   "source": [
    "提取出本次预测的最优的抓取框之后，就可以通过比较它和真实标注之间的一些指标来判断这次预测的抓取是否为正确的，下面看这些指标的计算方式。"
   ]
  },
  {
   "cell_type": "markdown",
   "metadata": {},
   "source": [
    "## 2.标准的确定\n",
    "### 2.1 IoU的计算\n",
    "全称Intersection over Union\n",
    "![IoU计算示意图](images/iou.png)\n",
    "\n",
    "计算IoU程序的设计思路可以参考：https://blog.csdn.net/u014061630/article/details/82818112"
   ]
  },
  {
   "cell_type": "markdown",
   "metadata": {},
   "source": [
    "先不考虑具体细节实施的话，这块的流程可以总结为一下几点：\n",
    "- 从网络输出中提取出面向本样本所有的有效抓取框（通过q_img来判定，这个工作前面已完成）\n",
    "- 从原始数据集中获取该样本的真实标注Grasps，对于每一个有效抓取框，计算其与真实标注中每一个标注框的iou值，角度等指标是否符合标准，如果各项标注都符合，则认为这个预测框是正确的，进而认为本次预测是正确的。\n",
    "\n",
    "好的，开整"
   ]
  },
  {
   "cell_type": "markdown",
   "metadata": {},
   "source": [
    " 首先，必须得清楚，iou这个指标是相对而言的，肯定是两个抓取框之间才会有iou的计算，提取到的抓取框本身是一个了，还要给它输入一个抓取框才行，这里给它输入一个包含当前id所有真实标注框的列表，循环比对去计算，只要它跟其中一个框的iou满足要求了，就认为这个预测是正确的。"
   ]
  },
  {
   "cell_type": "code",
   "execution_count": null,
   "metadata": {},
   "outputs": [],
   "source": [
    "def iou(g,g_true):\n",
    "    '''\n",
    "    :功能 :    计算两个给定框的iou\n",
    "    :参数 : g :当前\n",
    "    :参数 : g :\n",
    "    :返回 : g :\n",
    "    '''\n",
    "    \n",
    "    rr1, cc1 = g.polygon_coords()\n",
    "    rr2, cc2 = polygon(g_true.points[:, 0], g_true.points[:, 1])\n",
    "    "
   ]
  }
 ],
 "metadata": {
  "kernelspec": {
   "display_name": "Python 3",
   "language": "python",
   "name": "python3"
  },
  "language_info": {
   "codemirror_mode": {
    "name": "ipython",
    "version": 3
   },
   "file_extension": ".py",
   "mimetype": "text/x-python",
   "name": "python",
   "nbconvert_exporter": "python",
   "pygments_lexer": "ipython3",
   "version": "3.7.7"
  }
 },
 "nbformat": 4,
 "nbformat_minor": 4
}
