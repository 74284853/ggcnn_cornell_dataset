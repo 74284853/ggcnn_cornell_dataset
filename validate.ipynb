{
 "cells": [
  {
   "cell_type": "markdown",
   "metadata": {},
   "source": [
    "# 网络的验证"
   ]
  },
  {
   "cell_type": "markdown",
   "metadata": {},
   "source": [
    "这种验证其实也就有些类似于目标检测的验证了，比分类问题复杂些，通过一些指标而非简单的分类标签来判定真伪。\n",
    "\n",
    "如果先不看ggcnn中的思路，这块让我来做的话，分析一下，我们得到的网络输出是pos_img,ang_img和width_img，pos_img各点的值可以视作该点可抓不可抓的概率，图像大小为（300，300），太多了，那么我首先可以把最大值的1000个点筛选出来，然后找对对应的angle和width，凭借这三个参数就可以重建出这些点的抓取框，然后计算与真实各框的iou和jaccard指数等，如果都满足标准，就认为这是一次正确的抓取，这次预测也就是正确的了。\n",
    "\n",
    "那就开整，流程应该是这样的：\n",
    "- 首先是从网络的输出映射图中反求出各个实际参数代表的抓取框，主要就是要将cos和sin两个图反求出angle。\n",
    "- 然后要明确一下成功的标准，然后写函数计算这些标准，最后再集成到类或者函数里面，思路还是很明确的。\n",
    "  - 1.IoU>某个阈值\n",
    "  - 2.jaccard index\n",
    "  - 3.angle<某个阈值（即使重合度很高，角度差太远也是不行的）\n",
    " \n",
    "最后，与之前程序的结合之处应当这样写：先对网络进行训练，每隔一定时间，执行验证函数，验证函数需要从外部载入的只有验证集数据和刚刚训练过的网络模型，在验证函数内部对验证集中的样本进行逐一预测，计算前面所设计的两个指标，如果满足，则正确样本数加1，最后的正确率=正确样本数/验证集样本总数。"
   ]
  },
  {
   "cell_type": "markdown",
   "metadata": {},
   "source": [
    "## 1.原始输出数据的处理及其中有效抓取框的提取\n",
    "此处注意，思路应当是这样的，先提取出所有的有效抓取框，也即，抓取概率为1的抓取框都应该提取出来作为候选，至于这些框中的哪些是正确的，就交由后面的两个指标来判断\n",
    "\n",
    "### 1.1原始输出数据的处理\n",
    "首先是通过原始的输出映射四张图把数据读出来，这边我们先运行一个训练，得到一下训练输出，然后方便处理"
   ]
  },
  {
   "cell_type": "code",
   "execution_count": 1,
   "metadata": {},
   "outputs": [
    {
     "name": "stdout",
     "output_type": "stream",
     "text": [
      "0 tensor(1.0629, grad_fn=<AddBackward0>)\n",
      "1 tensor(1.0310, grad_fn=<AddBackward0>)\n",
      "2 tensor(0.9955, grad_fn=<AddBackward0>)\n",
      "3 tensor(0.9548, grad_fn=<AddBackward0>)\n",
      "4 tensor(0.9069, grad_fn=<AddBackward0>)\n",
      "5 tensor(0.8485, grad_fn=<AddBackward0>)\n",
      "6 tensor(0.7752, grad_fn=<AddBackward0>)\n",
      "7 tensor(0.6830, grad_fn=<AddBackward0>)\n",
      "8 tensor(0.5706, grad_fn=<AddBackward0>)\n",
      "9 tensor(0.4454, grad_fn=<AddBackward0>)\n",
      "10 tensor(0.3314, grad_fn=<AddBackward0>)\n",
      "11 tensor(0.2935, grad_fn=<AddBackward0>)\n",
      "12 tensor(0.3165, grad_fn=<AddBackward0>)\n",
      "13 tensor(0.2656, grad_fn=<AddBackward0>)\n",
      "14 tensor(0.1841, grad_fn=<AddBackward0>)\n",
      "15 tensor(0.1321, grad_fn=<AddBackward0>)\n",
      "16 tensor(0.1136, grad_fn=<AddBackward0>)\n",
      "17 tensor(0.1128, grad_fn=<AddBackward0>)\n",
      "18 tensor(0.1138, grad_fn=<AddBackward0>)\n",
      "19 tensor(0.1101, grad_fn=<AddBackward0>)\n",
      "20 tensor(0.1020, grad_fn=<AddBackward0>)\n",
      "21 tensor(0.0930, grad_fn=<AddBackward0>)\n",
      "22 tensor(0.0876, grad_fn=<AddBackward0>)\n",
      "23 tensor(0.0891, grad_fn=<AddBackward0>)\n",
      "24 tensor(0.0924, grad_fn=<AddBackward0>)\n",
      "25 tensor(0.0920, grad_fn=<AddBackward0>)\n",
      "26 tensor(0.0870, grad_fn=<AddBackward0>)\n",
      "27 tensor(0.0800, grad_fn=<AddBackward0>)\n",
      "28 tensor(0.0749, grad_fn=<AddBackward0>)\n",
      "29 tensor(0.0731, grad_fn=<AddBackward0>)\n",
      "30 tensor(0.0728, grad_fn=<AddBackward0>)\n",
      "31 tensor(0.0714, grad_fn=<AddBackward0>)\n",
      "32 tensor(0.0684, grad_fn=<AddBackward0>)\n",
      "33 tensor(0.0652, grad_fn=<AddBackward0>)\n",
      "34 tensor(0.0635, grad_fn=<AddBackward0>)\n",
      "35 tensor(0.0631, grad_fn=<AddBackward0>)\n",
      "36 tensor(0.0617, grad_fn=<AddBackward0>)\n",
      "37 tensor(0.0592, grad_fn=<AddBackward0>)\n",
      "38 tensor(0.0570, grad_fn=<AddBackward0>)\n",
      "39 tensor(0.0557, grad_fn=<AddBackward0>)\n",
      "40 tensor(0.0551, grad_fn=<AddBackward0>)\n",
      "41 tensor(0.0545, grad_fn=<AddBackward0>)\n",
      "42 tensor(0.0537, grad_fn=<AddBackward0>)\n",
      "43 tensor(0.0528, grad_fn=<AddBackward0>)\n",
      "44 tensor(0.0524, grad_fn=<AddBackward0>)\n",
      "45 tensor(0.0523, grad_fn=<AddBackward0>)\n",
      "46 tensor(0.0523, grad_fn=<AddBackward0>)\n",
      "47 tensor(0.0520, grad_fn=<AddBackward0>)\n",
      "48 tensor(0.0515, grad_fn=<AddBackward0>)\n",
      "49 tensor(0.0511, grad_fn=<AddBackward0>)\n",
      "50 tensor(0.0509, grad_fn=<AddBackward0>)\n",
      "51 tensor(0.0508, grad_fn=<AddBackward0>)\n",
      "52 tensor(0.0504, grad_fn=<AddBackward0>)\n",
      "53 tensor(0.0500, grad_fn=<AddBackward0>)\n",
      "54 tensor(0.0495, grad_fn=<AddBackward0>)\n",
      "55 tensor(0.0492, grad_fn=<AddBackward0>)\n",
      "56 tensor(0.0490, grad_fn=<AddBackward0>)\n",
      "57 tensor(0.0487, grad_fn=<AddBackward0>)\n",
      "58 tensor(0.0483, grad_fn=<AddBackward0>)\n",
      "59 tensor(0.0480, grad_fn=<AddBackward0>)\n",
      "60 tensor(0.0478, grad_fn=<AddBackward0>)\n",
      "61 tensor(0.0477, grad_fn=<AddBackward0>)\n",
      "62 tensor(0.0475, grad_fn=<AddBackward0>)\n",
      "63 tensor(0.0473, grad_fn=<AddBackward0>)\n",
      "64 tensor(0.0471, grad_fn=<AddBackward0>)\n",
      "65 tensor(0.0470, grad_fn=<AddBackward0>)\n",
      "66 tensor(0.0469, grad_fn=<AddBackward0>)\n",
      "67 tensor(0.0467, grad_fn=<AddBackward0>)\n",
      "68 tensor(0.0465, grad_fn=<AddBackward0>)\n",
      "69 tensor(0.0464, grad_fn=<AddBackward0>)\n",
      "70 tensor(0.0463, grad_fn=<AddBackward0>)\n",
      "71 tensor(0.0462, grad_fn=<AddBackward0>)\n",
      "72 tensor(0.0461, grad_fn=<AddBackward0>)\n",
      "73 tensor(0.0460, grad_fn=<AddBackward0>)\n",
      "74 tensor(0.0459, grad_fn=<AddBackward0>)\n",
      "75 tensor(0.0458, grad_fn=<AddBackward0>)\n",
      "76 tensor(0.0457, grad_fn=<AddBackward0>)\n",
      "77 tensor(0.0456, grad_fn=<AddBackward0>)\n",
      "78 tensor(0.0455, grad_fn=<AddBackward0>)\n",
      "79 tensor(0.0454, grad_fn=<AddBackward0>)\n",
      "80 tensor(0.0453, grad_fn=<AddBackward0>)\n",
      "81 tensor(0.0452, grad_fn=<AddBackward0>)\n",
      "82 tensor(0.0451, grad_fn=<AddBackward0>)\n",
      "83 tensor(0.0450, grad_fn=<AddBackward0>)\n",
      "84 tensor(0.0449, grad_fn=<AddBackward0>)\n",
      "85 tensor(0.0448, grad_fn=<AddBackward0>)\n",
      "86 tensor(0.0447, grad_fn=<AddBackward0>)\n",
      "87 tensor(0.0446, grad_fn=<AddBackward0>)\n",
      "88 tensor(0.0446, grad_fn=<AddBackward0>)\n",
      "89 tensor(0.0445, grad_fn=<AddBackward0>)\n",
      "90 tensor(0.0444, grad_fn=<AddBackward0>)\n",
      "91 tensor(0.0443, grad_fn=<AddBackward0>)\n",
      "92 tensor(0.0443, grad_fn=<AddBackward0>)\n",
      "93 tensor(0.0442, grad_fn=<AddBackward0>)\n",
      "94 tensor(0.0441, grad_fn=<AddBackward0>)\n",
      "95 tensor(0.0440, grad_fn=<AddBackward0>)\n",
      "96 tensor(0.0439, grad_fn=<AddBackward0>)\n",
      "97 tensor(0.0439, grad_fn=<AddBackward0>)\n",
      "98 tensor(0.0438, grad_fn=<AddBackward0>)\n",
      "99 tensor(0.0437, grad_fn=<AddBackward0>)\n",
      "100 tensor(0.0436, grad_fn=<AddBackward0>)\n",
      "101 tensor(0.0435, grad_fn=<AddBackward0>)\n",
      "102 tensor(0.0435, grad_fn=<AddBackward0>)\n",
      "103 tensor(0.0434, grad_fn=<AddBackward0>)\n",
      "104 tensor(0.0433, grad_fn=<AddBackward0>)\n",
      "105 tensor(0.0432, grad_fn=<AddBackward0>)\n",
      "106 tensor(0.0432, grad_fn=<AddBackward0>)\n",
      "107 tensor(0.0431, grad_fn=<AddBackward0>)\n",
      "108 tensor(0.0430, grad_fn=<AddBackward0>)\n",
      "109 tensor(0.0429, grad_fn=<AddBackward0>)\n",
      "110 tensor(0.0429, grad_fn=<AddBackward0>)\n",
      "111 tensor(0.0428, grad_fn=<AddBackward0>)\n",
      "112 tensor(0.0427, grad_fn=<AddBackward0>)\n",
      "113 tensor(0.0427, grad_fn=<AddBackward0>)\n",
      "114 tensor(0.0426, grad_fn=<AddBackward0>)\n",
      "115 tensor(0.0425, grad_fn=<AddBackward0>)\n",
      "116 tensor(0.0425, grad_fn=<AddBackward0>)\n",
      "117 tensor(0.0424, grad_fn=<AddBackward0>)\n",
      "118 tensor(0.0423, grad_fn=<AddBackward0>)\n",
      "119 tensor(0.0422, grad_fn=<AddBackward0>)\n",
      "120 tensor(0.0422, grad_fn=<AddBackward0>)\n",
      "121 tensor(0.0421, grad_fn=<AddBackward0>)\n",
      "122 tensor(0.0420, grad_fn=<AddBackward0>)\n",
      "123 tensor(0.0419, grad_fn=<AddBackward0>)\n",
      "124 tensor(0.0419, grad_fn=<AddBackward0>)\n",
      "125 tensor(0.0418, grad_fn=<AddBackward0>)\n",
      "126 tensor(0.0417, grad_fn=<AddBackward0>)\n",
      "127 tensor(0.0417, grad_fn=<AddBackward0>)\n",
      "128 tensor(0.0416, grad_fn=<AddBackward0>)\n",
      "129 tensor(0.0415, grad_fn=<AddBackward0>)\n",
      "130 tensor(0.0415, grad_fn=<AddBackward0>)\n",
      "131 tensor(0.0414, grad_fn=<AddBackward0>)\n",
      "132 tensor(0.0413, grad_fn=<AddBackward0>)\n",
      "133 tensor(0.0413, grad_fn=<AddBackward0>)\n",
      "134 tensor(0.0412, grad_fn=<AddBackward0>)\n",
      "135 tensor(0.0411, grad_fn=<AddBackward0>)\n",
      "136 tensor(0.0411, grad_fn=<AddBackward0>)\n",
      "137 tensor(0.0410, grad_fn=<AddBackward0>)\n",
      "138 tensor(0.0409, grad_fn=<AddBackward0>)\n",
      "139 tensor(0.0409, grad_fn=<AddBackward0>)\n",
      "140 tensor(0.0408, grad_fn=<AddBackward0>)\n",
      "141 tensor(0.0407, grad_fn=<AddBackward0>)\n",
      "142 tensor(0.0406, grad_fn=<AddBackward0>)\n",
      "143 tensor(0.0406, grad_fn=<AddBackward0>)\n",
      "144 tensor(0.0405, grad_fn=<AddBackward0>)\n",
      "145 tensor(0.0404, grad_fn=<AddBackward0>)\n",
      "146 tensor(0.0404, grad_fn=<AddBackward0>)\n",
      "147 tensor(0.0403, grad_fn=<AddBackward0>)\n",
      "148 tensor(0.0402, grad_fn=<AddBackward0>)\n",
      "149 tensor(0.0401, grad_fn=<AddBackward0>)\n",
      "150 tensor(0.0401, grad_fn=<AddBackward0>)\n",
      "151 tensor(0.0400, grad_fn=<AddBackward0>)\n",
      "152 tensor(0.0399, grad_fn=<AddBackward0>)\n",
      "153 tensor(0.0399, grad_fn=<AddBackward0>)\n",
      "154 tensor(0.0398, grad_fn=<AddBackward0>)\n",
      "155 tensor(0.0397, grad_fn=<AddBackward0>)\n",
      "156 tensor(0.0396, grad_fn=<AddBackward0>)\n",
      "157 tensor(0.0396, grad_fn=<AddBackward0>)\n",
      "158 tensor(0.0395, grad_fn=<AddBackward0>)\n",
      "159 tensor(0.0394, grad_fn=<AddBackward0>)\n",
      "160 tensor(0.0394, grad_fn=<AddBackward0>)\n",
      "161 tensor(0.0393, grad_fn=<AddBackward0>)\n",
      "162 tensor(0.0392, grad_fn=<AddBackward0>)\n",
      "163 tensor(0.0392, grad_fn=<AddBackward0>)\n",
      "164 tensor(0.0391, grad_fn=<AddBackward0>)\n",
      "165 tensor(0.0390, grad_fn=<AddBackward0>)\n",
      "166 tensor(0.0390, grad_fn=<AddBackward0>)\n",
      "167 tensor(0.0389, grad_fn=<AddBackward0>)\n",
      "168 tensor(0.0388, grad_fn=<AddBackward0>)\n",
      "169 tensor(0.0388, grad_fn=<AddBackward0>)\n",
      "170 tensor(0.0387, grad_fn=<AddBackward0>)\n",
      "171 tensor(0.0386, grad_fn=<AddBackward0>)\n",
      "172 tensor(0.0385, grad_fn=<AddBackward0>)\n",
      "173 tensor(0.0385, grad_fn=<AddBackward0>)\n",
      "174 tensor(0.0384, grad_fn=<AddBackward0>)\n",
      "175 tensor(0.0384, grad_fn=<AddBackward0>)\n",
      "176 tensor(0.0382, grad_fn=<AddBackward0>)\n",
      "177 tensor(0.0382, grad_fn=<AddBackward0>)\n",
      "178 tensor(0.0382, grad_fn=<AddBackward0>)\n",
      "179 tensor(0.0380, grad_fn=<AddBackward0>)\n",
      "180 tensor(0.0380, grad_fn=<AddBackward0>)\n",
      "181 tensor(0.0379, grad_fn=<AddBackward0>)\n",
      "182 tensor(0.0378, grad_fn=<AddBackward0>)\n",
      "183 tensor(0.0378, grad_fn=<AddBackward0>)\n",
      "184 tensor(0.0378, grad_fn=<AddBackward0>)\n",
      "185 tensor(0.0376, grad_fn=<AddBackward0>)\n",
      "186 tensor(0.0376, grad_fn=<AddBackward0>)\n",
      "187 tensor(0.0375, grad_fn=<AddBackward0>)\n",
      "188 tensor(0.0374, grad_fn=<AddBackward0>)\n",
      "189 tensor(0.0374, grad_fn=<AddBackward0>)\n",
      "190 tensor(0.0373, grad_fn=<AddBackward0>)\n",
      "191 tensor(0.0371, grad_fn=<AddBackward0>)\n",
      "192 tensor(0.0371, grad_fn=<AddBackward0>)\n",
      "193 tensor(0.0370, grad_fn=<AddBackward0>)\n"
     ]
    },
    {
     "name": "stdout",
     "output_type": "stream",
     "text": [
      "194 tensor(0.0369, grad_fn=<AddBackward0>)\n",
      "195 tensor(0.0369, grad_fn=<AddBackward0>)\n",
      "196 tensor(0.0368, grad_fn=<AddBackward0>)\n",
      "197 tensor(0.0367, grad_fn=<AddBackward0>)\n",
      "198 tensor(0.0366, grad_fn=<AddBackward0>)\n",
      "199 tensor(0.0365, grad_fn=<AddBackward0>)\n"
     ]
    }
   ],
   "source": [
    "import torch\n",
    "import torch.optim as optim\n",
    "import matplotlib.pyplot as plt\n",
    "import numpy as np\n",
    "\n",
    "from train.cornell_pro import Cornell\n",
    "from train.ggcnn import GGCNN\n",
    "\n",
    "#准备数据集\n",
    "cornell_data = Cornell('cornell')\n",
    "dataset = torch.utils.data.DataLoader(cornell_data,batch_size = 32)\n",
    "\n",
    "#从数据集中读取一个样本\n",
    "for x,y,_ in dataset:\n",
    "    xc = x\n",
    "    yc = y\n",
    "    break\n",
    "    \n",
    "#实例化一个网络\n",
    "net = GGCNN(4)\n",
    "\n",
    "#定义一个优化器\n",
    "optimizer = optim.Adam(net.parameters())\n",
    "\n",
    "#为了能够看出效果，就在这个样本上多训练几次，得到一个很擅长这个样本的模型，然后拿它做预测输出\n",
    "\n",
    "for i in range(200):\n",
    "    losses = net.compute_loss(xc,yc)\n",
    "    \n",
    "    loss = losses['loss']\n",
    "    print(i,loss)\n",
    "    optimizer.zero_grad()\n",
    "    loss.backward()\n",
    "    \n",
    "    optimizer.step()\n",
    "\n"
   ]
  },
  {
   "cell_type": "code",
   "execution_count": 2,
   "metadata": {},
   "outputs": [
    {
     "data": {
      "image/png": "[encoded data removed]",
      "text/plain": [
       "<Figure size 432x288 with 4 Axes>"
      ]
     },
     "metadata": {
      "needs_background": "light"
     },
     "output_type": "display_data"
    }
   ],
   "source": [
    "#将输入传递到网络并计算输出\n",
    "pos,cos,sin,width = net.forward(xc)\n",
    "\n",
    "#可视化看一下输出是是一个相对合理的预测\n",
    "num = 20\n",
    "\n",
    "plt.subplot(141)\n",
    "plt.title('pos_out')\n",
    "plt.imshow(pos[num][0].data.numpy(),cmap=plt.cm.gray)\n",
    "plt.subplot(142)\n",
    "plt.title('cos_out')\n",
    "plt.imshow(cos[num][0].data.numpy(),cmap=plt.cm.gray)\n",
    "plt.subplot(143)\n",
    "plt.title('sin_out')\n",
    "plt.imshow(sin[num][0].data.numpy(),cmap=plt.cm.gray)\n",
    "plt.subplot(144)\n",
    "plt.title('width_out')\n",
    "plt.imshow(width[num][0].data.numpy(),cmap=plt.cm.gray)\n",
    "plt.show()"
   ]
  },
  {
   "cell_type": "markdown",
   "metadata": {},
   "source": [
    "看起来还不错，下面开始数据的读取和反求。\n",
    "\n",
    "首先是反求一下角度数据，同时对三个数据进行一下降维处理。"
   ]
  },
  {
   "cell_type": "code",
   "execution_count": 3,
   "metadata": {},
   "outputs": [],
   "source": [
    "q_img = pos.data.numpy().squeeze()#squeeze的作用通过处理前后张量的shape就可以看出来，对于单通道的图像，可视化以及后面计算的时候是不要需要第三个维度的，所以去掉了\n",
    "ang_img = (torch.atan2(sin, cos) / 2.0).data.numpy().squeeze()\n",
    "width_img = width.data.numpy().squeeze()"
   ]
  },
  {
   "cell_type": "code",
   "execution_count": 4,
   "metadata": {},
   "outputs": [
    {
     "data": {
      "image/png": "[encoded data removed]",
      "text/plain": [
       "<Figure size 432x288 with 3 Axes>"
      ]
     },
     "metadata": {
      "needs_background": "light"
     },
     "output_type": "display_data"
    }
   ],
   "source": [
    "#可视化一下看看效果，主要是看ang_img，其他俩都没变\n",
    "plt.subplot(131)\n",
    "plt.title('q_img')\n",
    "plt.imshow(q_img[num],cmap=plt.cm.gray)\n",
    "plt.subplot(132)\n",
    "plt.title('ang_img')\n",
    "plt.imshow(ang_img[num],cmap=plt.cm.gray)\n",
    "plt.subplot(133)\n",
    "plt.title('width_img')\n",
    "plt.imshow(width_img[num],cmap=plt.cm.gray)\n",
    "plt.show()"
   ]
  },
  {
   "cell_type": "markdown",
   "metadata": {},
   "source": [
    "在真正计算之前，还需要进行一个高斯滤波，原因论文中已经说过了，前面已经可视化了滤波之前的效果，后面滤波一下，然后再看效果"
   ]
  },
  {
   "cell_type": "code",
   "execution_count": 5,
   "metadata": {},
   "outputs": [],
   "source": [
    "from skimage.filters import gaussian\n",
    "#注意此处要加上一个索引，也就是传入一个样本到gaussian函数，q_img[num],而不能将q_img整个传入，否则后面的运算会出问题，guassian这个函数无法批量处理多样本，\n",
    "q_img_g = gaussian(q_img[num], 2.0, preserve_range=True)\n",
    "ang_img_g = gaussian(ang_img[num], 2.0, preserve_range=True)\n",
    "width_img_g = gaussian(width_img[num], 1.0, preserve_range=True)"
   ]
  },
  {
   "cell_type": "code",
   "execution_count": 6,
   "metadata": {
    "scrolled": true
   },
   "outputs": [
    {
     "data": {
      "image/png": "[encoded data removed]",
      "text/plain": [
       "<Figure size 432x288 with 3 Axes>"
      ]
     },
     "metadata": {
      "needs_background": "light"
     },
     "output_type": "display_data"
    }
   ],
   "source": [
    "#可视化一下看看高斯滤波后的效果\n",
    "plt.subplot(131)\n",
    "plt.title('q_img_g')\n",
    "plt.imshow(q_img_g,cmap=plt.cm.gray)\n",
    "plt.subplot(132)\n",
    "plt.title('ang_img_g')\n",
    "plt.imshow(ang_img_g,cmap=plt.cm.gray)\n",
    "plt.subplot(133)\n",
    "plt.title('width_img_g')\n",
    "plt.imshow(width_img_g,cmap=plt.cm.gray)\n",
    "plt.show()"
   ]
  },
  {
   "cell_type": "markdown",
   "metadata": {},
   "source": [
    "可以看到输出平滑了许多，而且对比度也有所增加，具体的效果可以后面再做对比实验比对，但作者是做了对比实验的，经过高斯过滤后动态抓取效果要好很多。"
   ]
  },
  {
   "cell_type": "markdown",
   "metadata": {},
   "source": [
    "### 1.2有效抓取的提取\n",
    "这块按照我的想法就是设置一个阈值，比如1，使用np.where()函数就可以找出所有满足这个阈值的点坐标，然后挨个把他们对应的其他两个参数读出来，这样定义一个抓取的所有三个参数就都有了，可以把它构造成前面设计的Grasp类，再处理的话就方便多了。\n",
    "\n",
    "我看ggcnn的思路也是类似，但是对于最开始的有效点的提取，他直接用了一个函数peak_local_max，来自skimage.feature,我觉得可以学习一下，具体学习过程见support files，这里就直接拿来用了："
   ]
  },
  {
   "cell_type": "code",
   "execution_count": 7,
   "metadata": {},
   "outputs": [],
   "source": [
    "from skimage.feature import peak_local_max\n",
    "#变量的命名就沿用ggcnn里面的了\n",
    "local_max = peak_local_max(q_img_g, min_distance=20, threshold_abs=0.2)"
   ]
  },
  {
   "cell_type": "code",
   "execution_count": 8,
   "metadata": {},
   "outputs": [
    {
     "data": {
      "text/plain": [
       "array([], shape=(0, 2), dtype=int64)"
      ]
     },
     "execution_count": 8,
     "metadata": {},
     "output_type": "execute_result"
    }
   ],
   "source": [
    "local_max"
   ]
  },
  {
   "cell_type": "markdown",
   "metadata": {},
   "source": [
    "可以看到，这边直接按照ggcnn默认的参数来执行的话，是没有返回值的，原因肯定在于threshold_abs这个参数，因为我们可以看到可视化的图里面有局部极值，那么一定就是这个threshold_abs设置的太大了（虽然图中看着很亮，对比挺明显的，但可能是matplotlib自己可视化时做的优化），下面检查一下q_img的取值范围。"
   ]
  },
  {
   "cell_type": "code",
   "execution_count": 9,
   "metadata": {},
   "outputs": [
    {
     "data": {
      "text/plain": [
       "0.0023028883"
      ]
     },
     "execution_count": 9,
     "metadata": {},
     "output_type": "execute_result"
    }
   ],
   "source": [
    "q_img_g.min()"
   ]
  },
  {
   "cell_type": "code",
   "execution_count": 10,
   "metadata": {},
   "outputs": [
    {
     "data": {
      "text/plain": [
       "0.04903289"
      ]
     },
     "execution_count": 10,
     "metadata": {},
     "output_type": "execute_result"
    }
   ],
   "source": [
    "q_img_g.max()"
   ]
  },
  {
   "cell_type": "markdown",
   "metadata": {},
   "source": [
    "Bingo！\n",
    "\n",
    "就是因为预测出的值太小了，没有达到我们设定的峰值最低标准threshold，最根本的原因在于训练的迭代次数太少了，只有五十次，通过spyder程序测试后发现，loss会迅速下降，但q_img的max值在250次迭代左右才会达到比较理想的量级（同理这50次迭代出的angle和width偏差也是有些大，不要被可视化的图像迷惑了），如下图所示:\n",
    "![loss_max](images\\loss_and_max_value.png)（这个图片可以通过调用train_main2.py来获得，迭代了1000次）\n",
    "\n",
    "而实际训练中的迭代次数是远超200次的，所以，没问题，这个问题可以暂时忽略，对最终结果无影响，下面就暂时把threshold_abs设为0.01，接着往下进行："
   ]
  },
  {
   "cell_type": "code",
   "execution_count": 11,
   "metadata": {},
   "outputs": [
    {
     "name": "stdout",
     "output_type": "stream",
     "text": [
      "[[157 186]]\n"
     ]
    }
   ],
   "source": [
    "local_max = peak_local_max(q_img_g, min_distance=20, threshold_abs=0.04, num_peaks = 1)\n",
    "print(local_max)"
   ]
  },
  {
   "cell_type": "markdown",
   "metadata": {},
   "source": [
    "这里返回的是q_img中极值点的坐标，我们可以通过这个坐标读出该点的角度，宽度等数据，然后将其重建为一个抓取框对象Grasp_cpaw"
   ]
  },
  {
   "cell_type": "code",
   "execution_count": 12,
   "metadata": {},
   "outputs": [],
   "source": [
    "for grasp_point_array in local_max:\n",
    "    grasp_point = tuple(grasp_point_array)\n",
    "    grasp_angle = ang_img_g[grasp_point]\n",
    "    grasp_width = width_img_g[grasp_point]"
   ]
  },
  {
   "cell_type": "code",
   "execution_count": 13,
   "metadata": {},
   "outputs": [
    {
     "name": "stdout",
     "output_type": "stream",
     "text": [
      "-0.02155074\n",
      "0.02936153\n"
     ]
    },
    {
     "data": {
      "text/plain": [
       "0.034607332"
      ]
     },
     "execution_count": 13,
     "metadata": {},
     "output_type": "execute_result"
    }
   ],
   "source": [
    "print(grasp_angle)\n",
    "print(grasp_width)\n",
    "width_img_g.max()"
   ]
  },
  {
   "cell_type": "markdown",
   "metadata": {},
   "source": [
    "在数据集的处理中，是将width这个参数缩小了150倍的，刚才读取了一下"
   ]
  },
  {
   "cell_type": "markdown",
   "metadata": {},
   "source": [
    "下面使用这两个参数将其构造为一个Grasp_cpaw对象\n",
    "\n",
    "到这就有些问题了，因为前面的极值点在数量级上不符合要求的话，没关系，调节阈值，将相对最大的值找出来就可以了，但是angle和width在50次的迭代过程后的结果也是不准的，这是会直接影响到我构建出的抓取框形状姿态的，直接用这个不精确的值肯定会出问题，而在这边迭代250次以上又太慢了，所以我直接用spyder迭代了1000次，去它预测的angle和width结果过来使用，如下代码。"
   ]
  },
  {
   "cell_type": "code",
   "execution_count": 14,
   "metadata": {},
   "outputs": [],
   "source": [
    "from train.grasp_pro import Grasp_cpaw\n",
    "\n",
    "#这是经过1000次迭代后预测出的值\n",
    "angle = -0.10458073\n",
    "width = 0.4398\n",
    "\n",
    "g = Grasp_cpaw(grasp_point,angle,width)#是可以不指定grasp.length的。\n",
    "#到这对象就构建好了，完成了从输出中提取一个有效抓取框的过程，可以将它们集成到一个函数里面去"
   ]
  },
  {
   "cell_type": "code",
   "execution_count": 15,
   "metadata": {},
   "outputs": [],
   "source": [
    "def detect_grasps(q_img, ang_img, width_img=None, no_grasps=1):\n",
    "    '''\n",
    "    :功能: 从给定的网络预测输出中提取有效的抓取框\n",
    "    :参数: q_img     : Tensor,经过处理的网络pos预测输出\n",
    "    :参数: angle     : Tensor,从网络输出的cos和sin值中计算得来的角度值\n",
    "    :参数: width_img : Tensor,经过处理的网络width预测输出\n",
    "    :参数: no_grasp  : int,期望得到的抓取框的个数\n",
    "    :返回: grasps    : list,包含提取到的多个抓取框类的列表\n",
    "    '''\n",
    "    \n",
    "    local_max = peak_local_max(q_img, min_distance=20, threshold_abs=0.01, num_peaks=no_grasps)#实际使用时记得把这个阈值改大点\n",
    "    \n",
    "    grasps = []\n",
    "    for grasp_point_array in local_max:\n",
    "        grasp_point = tuple(grasp_point_array)\n",
    "        grasp_angle = ang_img_g[grasp_point]\n",
    "    \n",
    "    g = Grasp_cpaw(grasp_point, grasp_angle)#width下一句再指定\n",
    "    if width_img is not None:\n",
    "        g.width = width_img[grasp_point]\n",
    "        g.length = g.width/2\n",
    "    grasps.append(g)\n",
    "    \n",
    "    return grasps"
   ]
  },
  {
   "cell_type": "code",
   "execution_count": 16,
   "metadata": {},
   "outputs": [],
   "source": [
    "grasps = detect_grasps(q_img_g,ang_img_g,width_img_g)"
   ]
  },
  {
   "cell_type": "code",
   "execution_count": 17,
   "metadata": {},
   "outputs": [
    {
     "name": "stdout",
     "output_type": "stream",
     "text": [
      "(157, 186)\n",
      "-0.10458073\n",
      "65.97\n",
      "32.985\n"
     ]
    }
   ],
   "source": [
    "grasps[0].angle = -0.10458073\n",
    "grasps[0].width = 0.4398*150 #将其缩放到正常的范围\n",
    "grasps[0].length = grasps[0].width/2\n",
    "\n",
    "print(grasps[0].center)\n",
    "print(grasps[0].angle)\n",
    "print(grasps[0].width)\n",
    "print(grasps[0].length)"
   ]
  },
  {
   "cell_type": "markdown",
   "metadata": {},
   "source": [
    "提取出本次预测的最优的抓取框之后，就可以通过比较它和真实标注之间的一些指标来判断这次预测的抓取是否为正确的，下面看这些指标的计算方式。"
   ]
  },
  {
   "cell_type": "markdown",
   "metadata": {},
   "source": [
    "## 2.标准的确定\n",
    "### 2.1 IoU的计算\n",
    "全称Intersection over Union\n",
    "![IoU计算示意图](images/iou.png)\n",
    "\n",
    "计算IoU程序的设计思路可以参考：https://blog.csdn.net/u014061630/article/details/82818112"
   ]
  },
  {
   "cell_type": "markdown",
   "metadata": {},
   "source": [
    "先不考虑具体细节实施的话，这块的流程可以总结为一下几点：\n",
    "- 从网络输出中提取出面向本样本所有的有效抓取框（通过q_img来判定，这个工作前面已完成）\n",
    "- 从原始数据集中获取该样本的真实标注Grasps，对于每一个有效抓取框，计算其与真实标注中每一个标注框的iou值，角度等指标是否符合标准，如果各项标注都符合，则认为这个预测框是正确的，进而认为本次预测是正确的。\n",
    "\n",
    "好的，开整"
   ]
  },
  {
   "cell_type": "markdown",
   "metadata": {},
   "source": [
    " 首先，必须得清楚，iou这个指标是相对而言的，肯定是两个抓取框之间才会有iou的计算，提取到的抓取框本身是一个了，还要给它输入一个抓取框才行，这里给它输入一个包含当前id所有真实标注框的列表，循环比对去计算，只要它跟其中一个框的iou满足要求了，就认为这个预测是正确的。"
   ]
  },
  {
   "cell_type": "markdown",
   "metadata": {},
   "source": [
    "iou的计算本质上是通过面积的大小来进行的，面积的大小又要通过像素点的多少来体现，提取矩形内部像素点的方法可以用之前用过的polygon函数，为了好看，我们直接生成空白的图片，然后将里面的抓取框可视化出来。"
   ]
  },
  {
   "cell_type": "code",
   "execution_count": 25,
   "metadata": {},
   "outputs": [
    {
     "name": "stdout",
     "output_type": "stream",
     "text": [
      "what the fuck!\n",
      "[142 151]\n",
      "[array([[253, 320],\n",
      "       [309, 324],\n",
      "       [307, 350],\n",
      "       [251, 346]]), array([[255, 325],\n",
      "       [308, 332],\n",
      "       [313, 295],\n",
      "       [260, 288]]), array([[260, 303],\n",
      "       [311, 309],\n",
      "       [314, 283],\n",
      "       [263, 277]]), array([[258, 279],\n",
      "       [320, 282],\n",
      "       [321, 261],\n",
      "       [259, 258]])]\n",
      "what the fuck!\n",
      "[[[111 169]\n",
      "  [167 173]\n",
      "  [165 199]\n",
      "  [109 195]]\n",
      "\n",
      " [[113 174]\n",
      "  [166 181]\n",
      "  [171 144]\n",
      "  [118 137]]\n",
      "\n",
      " [[118 152]\n",
      "  [169 158]\n",
      "  [172 132]\n",
      "  [121 126]]\n",
      "\n",
      " [[116 128]\n",
      "  [178 131]\n",
      "  [179 110]\n",
      "  [117 107]]]\n"
     ]
    }
   ],
   "source": [
    "#把这个样本的几个真实的点找出来供后面计算对比，这块的对比直接去读yc里面的话，太多了，所以还是从默认的标注里面读取，把那几个原始的标注框用作对比就好了。\n",
    "import glob\n",
    "import os\n",
    "from validate.grasp_pro import Grasps\n",
    "idx = 0\n",
    "\n",
    "cornell_path = 'cornell'\n",
    "\n",
    "graspf = glob.glob(os.path.join(cornell_path,'*','pcd*cpos.txt'))\n",
    "graspf.sort()\n",
    "\n",
    "rgbf = [filename.replace('cpos.txt','r.png') for filename in graspf]\n",
    "depthf = [filename.replace('cpos.txt','d.tiff') for filename in graspf]\n",
    "\n",
    "grasp_true = Grasps.load_from_cornell_files(graspf[idx])\n",
    "print(grasp_true.center//2)\n",
    "print(grasp_true.points)\n",
    "print(grasp_true.points-grasp_true.center//2)"
   ]
  },
  {
   "cell_type": "code",
   "execution_count": 51,
   "metadata": {
    "scrolled": true
   },
   "outputs": [
    {
     "name": "stdout",
     "output_type": "stream",
     "text": [
      "what the fuck!\n",
      "[[125 166]\n",
      " [191 173]\n",
      " [188 205]\n",
      " [122 198]]\n",
      "[[111 169]\n",
      " [167 173]\n",
      " [165 199]\n",
      " [109 195]]\n"
     ]
    },
    {
     "data": {
      "image/png": "[encoded data removed]",
      "text/plain": [
       "<Figure size 432x288 with 2 Axes>"
      ]
     },
     "metadata": {
      "needs_background": "light"
     },
     "output_type": "display_data"
    }
   ],
   "source": [
    "#假设有两张大小为300X300的图片a,b，里面各包含一个抓取矩形，我们现在要计算这两个矩形的iou\n",
    "import cv2\n",
    "#首先生成这两张图片（生成图片只是为了可视化好看，其实计算iou只通过矩形角点坐标就可以实现了，不需要放在一个图片里面）\n",
    "a = np.zeros([300,300])\n",
    "\n",
    "\n",
    "#读取抓取框的数据，还是用真实的数据来操作吧\n",
    "a_points = grasps[0].as_gr.points.astype(np.uint8)\n",
    "b_points = grasp_true.points[0]-grasp_true.center//2#经过测试，就标注的第一个框重叠较好（从下面的可视化里面也可以看出），所以，就用它来计算\n",
    "\n",
    "print(a_points)\n",
    "print(b_points)\n",
    "\n",
    "#给图片添加抓取矩形\n",
    "a = cv2.rectangle(a,tuple(a_points[0]),tuple(a_points[2]),2)\n",
    "plt.subplot(211)\n",
    "plt.imshow(a)\n",
    "\n",
    "cv2.rectangle(a,tuple(b_points[0]),tuple(b_points[2]),2)\n",
    "\n",
    "plt.subplot(212)\n",
    "plt.imshow(a)\n",
    "plt.show()\n",
    "plt.imsave('a.png',a)"
   ]
  },
  {
   "cell_type": "markdown",
   "metadata": {},
   "source": [
    "下面计算iou"
   ]
  },
  {
   "cell_type": "code",
   "execution_count": 41,
   "metadata": {},
   "outputs": [],
   "source": [
    "from skimage.draw import polygon\n",
    "#先提取出两个框的所覆盖区域\n",
    "rr1, cc1 = grasps[0].as_gr.polygon_coords()#现在是中心点和角度定义的抓取，要转换成四个角点定义的抓取才方便操作\n",
    "rr2, cc2 = polygon(b_points[:, 0], b_points[:, 1])"
   ]
  },
  {
   "cell_type": "code",
   "execution_count": 48,
   "metadata": {},
   "outputs": [
    {
     "data": {
      "text/plain": [
       "(192, 206)"
      ]
     },
     "execution_count": 48,
     "metadata": {},
     "output_type": "execute_result"
    }
   ],
   "source": [
    "#读取两个框的极限位置\n",
    "r_max = max(rr1.max(),rr2.max())+1\n",
    "c_max = max(cc1.max(),cc2.max())+1\n",
    "\n",
    "r_max,c_max"
   ]
  },
  {
   "cell_type": "markdown",
   "metadata": {},
   "source": [
    "上面的操作就是提取出了远的角点，在上面的例子中，就是这个红圈圈出来的点。\n",
    "![max_iou](images/max_iou.png)"
   ]
  },
  {
   "cell_type": "code",
   "execution_count": null,
   "metadata": {},
   "outputs": [],
   "source": [
    "def iou(g,g_true):\n",
    "    '''\n",
    "    :功能 :        计算两个给定框的iou\n",
    "    :参数 : g     :Grasp对象预测结果中反求出的抓取框\n",
    "    :参数 : g_true:Grasp对象真实标注抓取框\n",
    "    :返回 : g:\n",
    "    '''\n",
    "    #先提取出两个框的所覆盖区域\n",
    "    rr1, cc1 = g.as_gr.polygon_coords()#现在是中心点和角度定义的抓取，要转换成四个角点定义的抓取才方便操作\n",
    "    rr2, cc2 = polygon(g_true.points[:, 0], g_true.points[:, 1])\n",
    "    \n",
    "    #读取两个框的极限位置\n",
    "    r_max = max(rr1.max(),rr2.max())+1\n",
    "    c_max = max(cc1.max(),cc2.max())+1\n",
    "    \n",
    "    #根据最大的边界来确定蒙版画布大小\n",
    "    canvas = np.zeros((r_max,c_max))\n",
    "    canvas[rr1,cc1] += 1\n",
    "    canvas[rr2,cc2] += 1\n",
    "    \n",
    "    union = np.sum(canvas > 0)\n",
    "    \n",
    "    if union == 0:\n",
    "        return 0\n",
    "    \n",
    "    intersection = np.sum(canvas == 2)\n",
    "    return intersection/union"
   ]
  },
  {
   "cell_type": "code",
   "execution_count": null,
   "metadata": {},
   "outputs": [],
   "source": []
  }
 ],
 "metadata": {
  "kernelspec": {
   "display_name": "Python 3",
   "language": "python",
   "name": "python3"
  },
  "language_info": {
   "codemirror_mode": {
    "name": "ipython",
    "version": 3
   },
   "file_extension": ".py",
   "mimetype": "text/x-python",
   "name": "python",
   "nbconvert_exporter": "python",
   "pygments_lexer": "ipython3",
   "version": "3.7.7"
  }
 },
 "nbformat": 4,
 "nbformat_minor": 4
}
