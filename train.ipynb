{
 "cells": [
  {
   "cell_type": "markdown",
   "metadata": {},
   "source": [
    "# 可以开始训练了\n",
    "- by 刘道会\n",
    "- 2020-08 于重庆大学"
   ]
  },
  {
   "cell_type": "markdown",
   "metadata": {},
   "source": [
    "基本流程如下：\n",
    "- 导入数据集\n",
    "- 导入网络模型\n",
    "- 定义主函数\n",
    " - 定义训练参数\n",
    " - 定义优化器\n",
    " - 定义主循环"
   ]
  },
  {
   "cell_type": "markdown",
   "metadata": {},
   "source": [
    "## 0.正式开始前还是简单先测试一下"
   ]
  },
  {
   "cell_type": "code",
   "execution_count": 1,
   "metadata": {},
   "outputs": [],
   "source": [
    "import torch\n",
    "import torch.optim as optim\n",
    "import matplotlib.pyplot as plt\n",
    "import numpy as np\n",
    "\n",
    "from train.cornell_pro import Cornell\n",
    "from train.ggcnn import GGCNN"
   ]
  },
  {
   "cell_type": "code",
   "execution_count": 2,
   "metadata": {},
   "outputs": [
    {
     "name": "stdout",
     "output_type": "stream",
     "text": [
      "0\n",
      "(300, 300, 3)\n",
      "1\n",
      "(300, 300, 3)\n",
      "2\n",
      "(300, 300, 3)\n",
      "3\n",
      "(300, 300, 3)\n",
      "4\n",
      "(300, 300, 3)\n",
      "5\n",
      "(300, 300, 3)\n",
      "6\n",
      "(300, 300, 3)\n",
      "7\n",
      "(300, 300, 3)\n",
      "8\n",
      "(300, 300, 3)\n",
      "9\n",
      "(300, 300, 3)\n",
      "10\n",
      "(300, 300, 3)\n",
      "11\n",
      "(300, 300, 3)\n",
      "12\n",
      "(300, 300, 3)\n",
      "13\n",
      "(300, 300, 3)\n",
      "14\n",
      "(300, 300, 3)\n",
      "15\n",
      "(300, 300, 3)\n",
      "16\n",
      "(300, 300, 3)\n",
      "17\n",
      "(300, 300, 3)\n",
      "18\n",
      "(300, 300, 3)\n",
      "19\n",
      "(300, 300, 3)\n",
      "20\n",
      "(300, 300, 3)\n",
      "21\n",
      "(300, 300, 3)\n",
      "22\n",
      "(300, 300, 3)\n",
      "23\n",
      "(300, 300, 3)\n",
      "24\n",
      "(300, 300, 3)\n",
      "25\n",
      "(300, 300, 3)\n",
      "26\n",
      "(300, 300, 3)\n",
      "27\n",
      "(300, 300, 3)\n",
      "28\n",
      "(300, 300, 3)\n",
      "29\n",
      "(300, 300, 3)\n",
      "30\n",
      "(300, 300, 3)\n",
      "31\n",
      "(300, 300, 3)\n"
     ]
    }
   ],
   "source": [
    "#准备数据集\n",
    "cornell_data = Cornell('cornell')\n",
    "dataset = torch.utils.data.DataLoader(cornell_data,batch_size = 32)\n",
    "\n",
    "#从数据集中读取一个样本\n",
    "for x,y in dataset:\n",
    "    xc = x\n",
    "    yc = y\n",
    "    break"
   ]
  },
  {
   "cell_type": "code",
   "execution_count": 3,
   "metadata": {},
   "outputs": [],
   "source": [
    "#实例化一个网络\n",
    "net = GGCNN(4)\n",
    "\n",
    "#定义一个优化器\n",
    "optimizer = optim.Adam(net.parameters())\n",
    "\n",
    "#将输入传递到网络并计算输出\n",
    "pos,cos,sin,width = net.forward(xc)"
   ]
  },
  {
   "cell_type": "code",
   "execution_count": 4,
   "metadata": {},
   "outputs": [
    {
     "data": {
      "image/png": "[encoded data removed]",
      "text/plain": [
       "<Figure size 432x288 with 4 Axes>"
      ]
     },
     "metadata": {
      "needs_background": "light"
     },
     "output_type": "display_data"
    }
   ],
   "source": [
    "plt.subplot(141)\n",
    "plt.title('pos_out')\n",
    "plt.imshow(pos[0][0].data.numpy())\n",
    "plt.subplot(142)\n",
    "plt.title('cos_out')\n",
    "plt.imshow(cos[0][0].data.numpy())\n",
    "plt.subplot(143)\n",
    "plt.title('sin_out')\n",
    "plt.imshow(sin[0][0].data.numpy())\n",
    "plt.subplot(144)\n",
    "plt.title('width_out')\n",
    "plt.imshow(width[0][0].data.numpy())\n",
    "plt.show()"
   ]
  },
  {
   "cell_type": "code",
   "execution_count": 5,
   "metadata": {},
   "outputs": [
    {
     "name": "stdout",
     "output_type": "stream",
     "text": [
      "tensor(1.0497, grad_fn=<AddBackward0>)\n"
     ]
    }
   ],
   "source": [
    "#计算损失\n",
    "losses = net.compute_loss(xc,yc)\n",
    "loss = losses['loss']\n",
    "\n",
    "print(loss)"
   ]
  },
  {
   "cell_type": "code",
   "execution_count": 6,
   "metadata": {},
   "outputs": [],
   "source": [
    "#反向传播优化\n",
    "optimizer.zero_grad()\n",
    "loss.backward()\n",
    "\n",
    "optimizer.step()"
   ]
  },
  {
   "cell_type": "code",
   "execution_count": 7,
   "metadata": {},
   "outputs": [
    {
     "name": "stdout",
     "output_type": "stream",
     "text": [
      "tensor(1.0290, grad_fn=<AddBackward0>)\n"
     ]
    }
   ],
   "source": [
    "losses = net.compute_loss(xc,yc)\n",
    "loss = losses['loss']\n",
    "\n",
    "print(loss)"
   ]
  },
  {
   "cell_type": "markdown",
   "metadata": {},
   "source": [
    "可以看到经过一次优化之后，loss减小了，不过一次说明不了什么，下面就在这一个样本上优化一百次，看看loss如果变得很小的话，就说明目前的工作没有跑偏，可以继续"
   ]
  },
  {
   "cell_type": "code",
   "execution_count": 8,
   "metadata": {},
   "outputs": [
    {
     "data": {
      "text/plain": [
       "'\\ndevice = torch.device(\"cuda:0\")\\n\\nnet = net.to(device)\\n\\nx = xc.to(device)\\ny = [yy.to(device) for yy in yc]\\n\\n'"
      ]
     },
     "execution_count": 8,
     "metadata": {},
     "output_type": "execute_result"
    }
   ],
   "source": [
    "'''\n",
    "device = torch.device(\"cuda:0\")\n",
    "\n",
    "net = net.to(device)\n",
    "\n",
    "x = xc.to(device)\n",
    "y = [yy.to(device) for yy in yc]\n",
    "\n",
    "'''\n",
    "#这些是指定GPU为训练设备的代码，但不知道为什么在jupyter notebook里面会报错，但是在spyder里面是没有问题的，训练速度那叫一个快，\n",
    "#因为jupyter这边主要是为了调试，也不会真的训练，所以暂时就这样吧，不管了，用cpu就用cpu吧,不过gpu的速度比cpu快了感觉不下30倍，\n",
    "#因为jupyter这开始训练之后，我spyder那边调了挺久，后面又迭代了1000次，结果回过头来jupyter这还是没迭代完100次"
   ]
  },
  {
   "cell_type": "code",
   "execution_count": 9,
   "metadata": {},
   "outputs": [
    {
     "name": "stdout",
     "output_type": "stream",
     "text": [
      "0\n",
      "tensor(1.0290, grad_fn=<AddBackward0>)\n"
     ]
    }
   ],
   "source": [
    "for i in range(10):\n",
    "    losses = net.compute_loss(xc,yc)\n",
    "    loss = losses['loss']\n",
    "    print(i)\n",
    "    print(loss)\n",
    "    \n",
    "    #反向传播优化\n",
    "    optimizer.zero_grad()\n",
    "    loss.backward()\n",
    "    \n",
    "    optimizer.step()"
   ]
  },
  {
   "cell_type": "markdown",
   "metadata": {},
   "source": [
    "可以看到loss一直在降低，说明训练有效，再可视化看一下它训练完后的预测结果，所以ojbk，开整"
   ]
  },
  {
   "cell_type": "code",
   "execution_count": 10,
   "metadata": {},
   "outputs": [
    {
     "data": {
      "image/png": "[encoded data removed]",
      "text/plain": [
       "<Figure size 432x288 with 4 Axes>"
      ]
     },
     "metadata": {
      "needs_background": "light"
     },
     "output_type": "display_data"
    }
   ],
   "source": [
    "pos,cos,sin,width = net.forward(xc)\n",
    "\n",
    "num = 20\n",
    "\n",
    "plt.subplot(141)\n",
    "plt.title('pos_out')\n",
    "plt.imshow(pos[num][0].data.numpy(),cmap=plt.cm.gray)\n",
    "plt.subplot(142)\n",
    "plt.title('cos_out')\n",
    "plt.imshow(cos[num][0].data.numpy(),cmap=plt.cm.gray)\n",
    "plt.subplot(143)\n",
    "plt.title('sin_out')\n",
    "plt.imshow(sin[num][0].data.numpy(),cmap=plt.cm.gray)\n",
    "plt.subplot(144)\n",
    "plt.title('width_out')\n",
    "plt.imshow(width[num][0].data.numpy(),cmap=plt.cm.gray)\n",
    "plt.show()"
   ]
  },
  {
   "cell_type": "markdown",
   "metadata": {},
   "source": [
    "可以看到，是比较符合预期的，所以，前面的工作已经做完了，后面可以集成了。"
   ]
  },
  {
   "cell_type": "markdown",
   "metadata": {},
   "source": [
    "## 1.导入数据集并进行必要的参数设置"
   ]
  },
  {
   "cell_type": "code",
   "execution_count": 11,
   "metadata": {},
   "outputs": [],
   "source": [
    "cornell_data = Cornell('cornell')\n",
    "dataset = torch.utils.data.DataLoader(cornell_data,batch_size = 32,shuffle = True)\n",
    "\n",
    "batch_size = 32\n",
    "batches_per_epoch = 1000\n",
    "epochs = 30\n",
    "lr = 0.001\n"
   ]
  },
  {
   "cell_type": "markdown",
   "metadata": {},
   "source": [
    "## 2.导入网络模型并进行必要的参数设置"
   ]
  },
  {
   "cell_type": "code",
   "execution_count": 12,
   "metadata": {},
   "outputs": [],
   "source": [
    "#实例化一个网络\n",
    "net = GGCNN(4)"
   ]
  },
  {
   "cell_type": "markdown",
   "metadata": {},
   "source": [
    "## 3.定义各个子函数"
   ]
  },
  {
   "cell_type": "markdown",
   "metadata": {},
   "source": [
    "### 3.1定义训练函数"
   ]
  },
  {
   "cell_type": "code",
   "execution_count": 13,
   "metadata": {},
   "outputs": [],
   "source": [
    "def train(epoch,net,device,train_data,optimizer,batches_per_epoch):\n",
    "    \"\"\"\n",
    "    :功能: 执行一个训练epoch\n",
    "    :参数: epoch             : 当前所在的epoch数\n",
    "    :参数: net               : 要使用的网络模型\n",
    "    :参数: device            : 训练使用的设备\n",
    "    :参数: train_data        : 训练所用数据集\n",
    "    :参数: optimizer         : 优化器\n",
    "    :参数: batches_per_epoch : 每个epoch训练中所用的数据批数\n",
    "\n",
    "    :返回: 本epoch的平均损失\n",
    "    \"\"\"\n",
    "    #结果字典，最后返回用\n",
    "    results = {\n",
    "        'loss': 0,\n",
    "        'losses': {\n",
    "        }\n",
    "    }\n",
    "    \n",
    "    #训练模式，所有的层和参数都会考虑进来，eval模式下比如dropout这种层会不使能\n",
    "    net.train()\n",
    "    \n",
    "    batch_idx = 0\n",
    "    \n",
    "    #开始样本训练迭代\n",
    "    while batch_idx < batches_per_epoch:\n",
    "        for x, y in train_data:\n",
    "            batch_idx += 1\n",
    "            if batch_idx >= batches_per_epoch:\n",
    "                break\n",
    "            \n",
    "            #将数据传到GPU，目前jupyter下无法使用\n",
    "            # xc = x.to(device)\n",
    "            # yc = [yy.to(device) for yy in y]\n",
    "            \n",
    "            lossdict = net.compute_loss(xc,yc)\n",
    "            \n",
    "            #获取当前损失\n",
    "            loss = lossdict['loss']\n",
    "            \n",
    "            #打印一下训练过程\n",
    "            if batch_idx % 2 == 0:\n",
    "                print('Epoch: {}, Batch: {}, Loss: {:0.4f}'.format(epoch, batch_idx, loss.item()))\n",
    "            \n",
    "            #记录总共的损失\n",
    "            results['loss'] += loss.item()\n",
    "            #单独记录各项损失，pos,cos,sin,width\n",
    "            for ln, l in lossdict['losses'].items():\n",
    "                if ln not in results['losses']:\n",
    "                    results['losses'][ln] = 0\n",
    "                results['losses'][ln] += l.item()\n",
    "            \n",
    "            #反向传播优化模型\n",
    "            optimizer.zero_grad()\n",
    "            loss.backward()\n",
    "            optimizer.step()\n",
    "        \n",
    "        #计算总共的平均损失\n",
    "        results['loss'] /= batch_idx\n",
    "        \n",
    "        #计算各项的平均损失\n",
    "        for l in results['losses']:\n",
    "            results['losses'][l] /= batch_idx\n",
    "        return results"
   ]
  },
  {
   "cell_type": "code",
   "execution_count": 14,
   "metadata": {},
   "outputs": [],
   "source": [
    "def run():\n",
    "    #获取设备\n",
    "    device = torch.device(\"cuda:0\")\n",
    "    #net = net.to(device)\n",
    "    \n",
    "    #设置优化器\n",
    "    optimizer = optim.Adam(net.parameters())\n",
    "    \n",
    "    #开始主循环\n",
    "    for epoch in range(epochs):\n",
    "        train_results = train(epoch, net, device, dataset, optimizer, batches_per_epoch)"
   ]
  },
  {
   "cell_type": "code",
   "execution_count": 15,
   "metadata": {},
   "outputs": [
    {
     "name": "stdout",
     "output_type": "stream",
     "text": [
      "485\n",
      "(300, 300, 3)\n",
      "844\n",
      "(276, 300)\n",
      "(276, 300, 3)\n",
      "391\n",
      "(300, 300, 3)\n",
      "616\n",
      "(300, 300, 3)\n",
      "788\n",
      "(300, 300, 3)\n",
      "168\n",
      "(300, 300, 3)\n",
      "230\n",
      "(300, 300, 3)\n",
      "345\n",
      "(300, 300, 3)\n",
      "675\n",
      "(300, 300, 3)\n",
      "138\n",
      "(300, 300, 3)\n",
      "124\n",
      "(300, 300, 3)\n",
      "587\n",
      "(300, 300, 3)\n",
      "351\n",
      "(300, 300, 3)\n",
      "586\n",
      "(300, 300, 3)\n",
      "603\n",
      "(300, 300, 3)\n",
      "219\n",
      "(300, 300, 3)\n",
      "462\n",
      "(300, 300, 3)\n",
      "763\n",
      "(300, 300, 3)\n",
      "64\n",
      "(300, 300, 3)\n",
      "402\n",
      "(300, 300, 3)\n",
      "63\n",
      "(300, 300, 3)\n",
      "848\n",
      "(269, 300)\n",
      "(269, 300, 3)\n",
      "133\n",
      "(300, 300, 3)\n",
      "357\n",
      "(300, 300, 3)\n",
      "380\n",
      "(300, 300, 3)\n",
      "72\n",
      "(300, 300, 3)\n",
      "668\n",
      "(300, 300, 3)\n",
      "617\n",
      "(300, 300, 3)\n",
      "338\n",
      "(300, 300, 3)\n",
      "298\n",
      "(300, 300, 3)\n",
      "309\n",
      "(300, 300, 3)\n",
      "85\n",
      "(300, 300, 3)\n",
      "336\n",
      "(300, 300, 3)\n",
      "395\n",
      "(300, 300, 3)\n",
      "187\n",
      "(300, 300, 3)\n",
      "858\n",
      "(288, 300)\n",
      "(288, 300, 3)\n",
      "170\n",
      "(300, 300, 3)\n",
      "701\n",
      "(300, 300, 3)\n",
      "811\n",
      "(300, 300, 3)\n",
      "69\n",
      "(300, 300, 3)\n",
      "760\n",
      "(300, 300, 3)\n",
      "679\n",
      "(300, 300, 3)\n",
      "456\n",
      "(300, 300, 3)\n",
      "553\n",
      "(300, 300, 3)\n",
      "75\n",
      "(300, 300, 3)\n",
      "432\n",
      "(300, 300, 3)\n",
      "267\n",
      "(300, 300, 3)\n",
      "376\n",
      "(300, 300, 3)\n",
      "441\n",
      "(300, 300, 3)\n",
      "335\n",
      "(300, 300, 3)\n",
      "171\n",
      "(300, 300, 3)\n",
      "460\n",
      "(300, 300, 3)\n",
      "658\n",
      "(300, 300, 3)\n",
      "308\n",
      "(300, 300, 3)\n",
      "79\n",
      "(300, 300, 3)\n",
      "507\n",
      "(300, 300, 3)\n",
      "215\n",
      "(300, 300, 3)\n",
      "628\n",
      "(300, 300, 3)\n",
      "9\n",
      "(300, 300, 3)\n",
      "440\n",
      "(300, 300, 3)\n",
      "708\n",
      "(300, 300, 3)\n",
      "497\n",
      "(300, 300, 3)\n",
      "125\n",
      "(300, 300, 3)\n",
      "366\n",
      "(300, 300, 3)\n",
      "Epoch: 0, Batch: 2, Loss: 1.1016\n",
      "819\n",
      "(300, 300, 3)\n",
      "722\n",
      "(300, 300, 3)\n",
      "408\n",
      "(300, 300, 3)\n",
      "867\n",
      "(265, 300)\n",
      "(265, 300, 3)\n",
      "293\n",
      "(300, 300, 3)\n",
      "756\n",
      "(300, 300, 3)\n",
      "710\n",
      "(300, 300, 3)\n",
      "744\n",
      "(300, 300, 3)\n",
      "206\n",
      "(300, 300, 3)\n",
      "74\n",
      "(300, 300, 3)\n",
      "814\n",
      "(300, 300, 3)\n",
      "334\n",
      "(300, 300, 3)\n",
      "52\n",
      "(300, 300, 3)\n",
      "368\n",
      "(300, 300, 3)\n",
      "455\n",
      "(300, 300, 3)\n",
      "856\n",
      "(293, 300)\n",
      "(293, 300, 3)\n",
      "277\n",
      "(300, 300, 3)\n",
      "863\n",
      "(300, 300, 3)\n",
      "852\n",
      "(285, 300)\n",
      "(285, 300, 3)\n",
      "823\n",
      "(300, 300, 3)\n",
      "870\n",
      "(261, 300)\n",
      "(261, 300, 3)\n",
      "310\n",
      "(300, 300, 3)\n",
      "565\n",
      "(300, 300, 3)\n",
      "300\n",
      "(300, 300, 3)\n",
      "765\n",
      "(300, 300, 3)\n",
      "643\n",
      "(300, 300, 3)\n",
      "31\n",
      "(300, 300, 3)\n",
      "259\n",
      "(300, 300, 3)\n",
      "394\n",
      "(300, 300, 3)\n",
      "697\n",
      "(300, 300, 3)\n",
      "851\n",
      "(254, 300)\n",
      "(254, 300, 3)\n",
      "201\n",
      "(300, 300, 3)\n",
      "782\n",
      "(300, 300, 3)\n",
      "618\n",
      "(300, 300, 3)\n",
      "873\n",
      "(267, 300)\n",
      "(267, 300, 3)\n",
      "320\n",
      "(300, 300, 3)\n",
      "853\n",
      "(253, 300)\n",
      "(253, 300, 3)\n",
      "692\n",
      "(300, 300, 3)\n",
      "430\n",
      "(300, 300, 3)\n",
      "610\n",
      "(300, 300, 3)\n",
      "712\n",
      "(300, 300, 3)\n",
      "592\n",
      "(300, 300, 3)\n",
      "226\n",
      "(300, 300, 3)\n",
      "718\n",
      "(300, 300, 3)\n",
      "186\n",
      "(300, 300, 3)\n",
      "613\n",
      "(300, 300, 3)\n",
      "807\n",
      "(300, 300, 3)\n",
      "343\n",
      "(300, 300, 3)\n",
      "513\n",
      "(300, 300, 3)\n",
      "213\n",
      "(300, 300, 3)\n",
      "541\n",
      "(300, 300, 3)\n",
      "825\n",
      "(299, 300)\n",
      "(299, 300, 3)\n",
      "38\n",
      "(300, 300, 3)\n",
      "611\n",
      "(300, 300, 3)\n",
      "102\n",
      "(300, 300, 3)\n",
      "864\n",
      "(286, 300)\n",
      "(286, 300, 3)\n",
      "799\n",
      "(300, 300, 3)\n",
      "3\n",
      "(300, 300, 3)\n",
      "205\n",
      "(300, 300, 3)\n",
      "550\n",
      "(300, 300, 3)\n",
      "680\n",
      "(300, 300, 3)\n",
      "644\n",
      "(300, 300, 3)\n",
      "321\n",
      "(300, 300, 3)\n",
      "37\n",
      "(300, 300, 3)\n",
      "Epoch: 0, Batch: 4, Loss: 1.0611\n",
      "521\n",
      "(300, 300, 3)\n",
      "0\n",
      "(300, 300, 3)\n",
      "88\n",
      "(300, 300, 3)\n",
      "105\n",
      "(300, 300, 3)\n",
      "128\n",
      "(300, 300, 3)\n",
      "167\n",
      "(300, 300, 3)\n",
      "837\n",
      "(283, 300)\n",
      "(283, 300, 3)\n",
      "387\n",
      "(300, 300, 3)\n",
      "339\n",
      "(300, 300, 3)\n",
      "517\n",
      "(300, 300, 3)\n",
      "256\n",
      "(300, 300, 3)\n",
      "176\n",
      "(300, 300, 3)\n",
      "728\n",
      "(300, 300, 3)\n",
      "637\n",
      "(300, 300, 3)\n",
      "209\n",
      "(300, 300, 3)\n",
      "740\n",
      "(300, 300, 3)\n",
      "512\n",
      "(300, 300, 3)\n",
      "757\n",
      "(300, 300, 3)\n",
      "657\n",
      "(300, 300, 3)\n",
      "822\n",
      "(300, 300, 3)\n",
      "112\n",
      "(300, 300, 3)\n",
      "80\n",
      "(300, 300, 3)\n",
      "768\n",
      "(300, 300, 3)\n",
      "648\n",
      "(300, 300, 3)\n",
      "135\n",
      "(300, 300, 3)\n",
      "523\n",
      "(300, 300, 3)\n",
      "90\n",
      "(300, 300, 3)\n",
      "792\n",
      "(300, 300, 3)\n",
      "537\n",
      "(300, 300, 3)\n",
      "282\n",
      "(300, 300, 3)\n",
      "484\n",
      "(300, 300, 3)\n",
      "11\n",
      "(300, 300, 3)\n",
      "683\n",
      "(300, 300, 3)\n",
      "479\n",
      "(300, 300, 3)\n",
      "555\n",
      "(300, 300, 3)\n",
      "519\n",
      "(300, 300, 3)\n",
      "89\n",
      "(300, 300, 3)\n",
      "506\n",
      "(300, 300, 3)\n",
      "690\n",
      "(300, 300, 3)\n",
      "276\n",
      "(300, 300, 3)\n",
      "281\n",
      "(300, 300, 3)\n",
      "217\n",
      "(300, 300, 3)\n",
      "129\n",
      "(300, 300, 3)\n",
      "466\n",
      "(300, 300, 3)\n",
      "284\n",
      "(300, 300, 3)\n",
      "836\n",
      "(289, 300)\n",
      "(289, 300, 3)\n",
      "247\n",
      "(300, 300, 3)\n",
      "65\n",
      "(300, 300, 3)\n",
      "28\n",
      "(300, 300, 3)\n",
      "283\n",
      "(300, 300, 3)\n",
      "248\n",
      "(300, 300, 3)\n",
      "604\n",
      "(300, 300, 3)\n",
      "559\n",
      "(300, 300, 3)\n",
      "360\n",
      "(0, 300)\n"
     ]
    },
    {
     "ename": "ValueError",
     "evalue": "('Cannot warp empty image with dimensions', (0, 300))",
     "output_type": "error",
     "traceback": [
      "\u001b[0;31m---------------------------------------------------------------------------\u001b[0m",
      "\u001b[0;31mValueError\u001b[0m                                Traceback (most recent call last)",
      "\u001b[0;32m<ipython-input-15-ec9775ede022>\u001b[0m in \u001b[0;36m<module>\u001b[0;34m\u001b[0m\n\u001b[0;32m----> 1\u001b[0;31m \u001b[0mrun\u001b[0m\u001b[0;34m(\u001b[0m\u001b[0;34m)\u001b[0m\u001b[0;34m\u001b[0m\u001b[0;34m\u001b[0m\u001b[0m\n\u001b[0m",
      "\u001b[0;32m<ipython-input-14-6b7b3b09a7b1>\u001b[0m in \u001b[0;36mrun\u001b[0;34m()\u001b[0m\n\u001b[1;32m      9\u001b[0m     \u001b[0;31m#开始主循环\u001b[0m\u001b[0;34m\u001b[0m\u001b[0;34m\u001b[0m\u001b[0;34m\u001b[0m\u001b[0m\n\u001b[1;32m     10\u001b[0m     \u001b[0;32mfor\u001b[0m \u001b[0mepoch\u001b[0m \u001b[0;32min\u001b[0m \u001b[0mrange\u001b[0m\u001b[0;34m(\u001b[0m\u001b[0mepochs\u001b[0m\u001b[0;34m)\u001b[0m\u001b[0;34m:\u001b[0m\u001b[0;34m\u001b[0m\u001b[0;34m\u001b[0m\u001b[0m\n\u001b[0;32m---> 11\u001b[0;31m         \u001b[0mtrain_results\u001b[0m \u001b[0;34m=\u001b[0m \u001b[0mtrain\u001b[0m\u001b[0;34m(\u001b[0m\u001b[0mepoch\u001b[0m\u001b[0;34m,\u001b[0m \u001b[0mnet\u001b[0m\u001b[0;34m,\u001b[0m \u001b[0mdevice\u001b[0m\u001b[0;34m,\u001b[0m \u001b[0mdataset\u001b[0m\u001b[0;34m,\u001b[0m \u001b[0moptimizer\u001b[0m\u001b[0;34m,\u001b[0m \u001b[0mbatches_per_epoch\u001b[0m\u001b[0;34m)\u001b[0m\u001b[0;34m\u001b[0m\u001b[0;34m\u001b[0m\u001b[0m\n\u001b[0m",
      "\u001b[0;32m<ipython-input-13-29718055fa8c>\u001b[0m in \u001b[0;36mtrain\u001b[0;34m(epoch, net, device, train_data, optimizer, batches_per_epoch)\u001b[0m\n\u001b[1;32m     25\u001b[0m     \u001b[0;31m#开始样本训练迭代\u001b[0m\u001b[0;34m\u001b[0m\u001b[0;34m\u001b[0m\u001b[0;34m\u001b[0m\u001b[0m\n\u001b[1;32m     26\u001b[0m     \u001b[0;32mwhile\u001b[0m \u001b[0mbatch_idx\u001b[0m \u001b[0;34m<\u001b[0m \u001b[0mbatches_per_epoch\u001b[0m\u001b[0;34m:\u001b[0m\u001b[0;34m\u001b[0m\u001b[0;34m\u001b[0m\u001b[0m\n\u001b[0;32m---> 27\u001b[0;31m         \u001b[0;32mfor\u001b[0m \u001b[0mx\u001b[0m\u001b[0;34m,\u001b[0m \u001b[0my\u001b[0m \u001b[0;32min\u001b[0m \u001b[0mtrain_data\u001b[0m\u001b[0;34m:\u001b[0m\u001b[0;34m\u001b[0m\u001b[0;34m\u001b[0m\u001b[0m\n\u001b[0m\u001b[1;32m     28\u001b[0m             \u001b[0mbatch_idx\u001b[0m \u001b[0;34m+=\u001b[0m \u001b[0;36m1\u001b[0m\u001b[0;34m\u001b[0m\u001b[0;34m\u001b[0m\u001b[0m\n\u001b[1;32m     29\u001b[0m             \u001b[0;32mif\u001b[0m \u001b[0mbatch_idx\u001b[0m \u001b[0;34m>=\u001b[0m \u001b[0mbatches_per_epoch\u001b[0m\u001b[0;34m:\u001b[0m\u001b[0;34m\u001b[0m\u001b[0;34m\u001b[0m\u001b[0m\n",
      "\u001b[0;32m~/anaconda3/envs/gg_cnn/lib/python3.6/site-packages/torch/utils/data/dataloader.py\u001b[0m in \u001b[0;36m__next__\u001b[0;34m(self)\u001b[0m\n\u001b[1;32m    343\u001b[0m \u001b[0;34m\u001b[0m\u001b[0m\n\u001b[1;32m    344\u001b[0m     \u001b[0;32mdef\u001b[0m \u001b[0m__next__\u001b[0m\u001b[0;34m(\u001b[0m\u001b[0mself\u001b[0m\u001b[0;34m)\u001b[0m\u001b[0;34m:\u001b[0m\u001b[0;34m\u001b[0m\u001b[0;34m\u001b[0m\u001b[0m\n\u001b[0;32m--> 345\u001b[0;31m         \u001b[0mdata\u001b[0m \u001b[0;34m=\u001b[0m \u001b[0mself\u001b[0m\u001b[0;34m.\u001b[0m\u001b[0m_next_data\u001b[0m\u001b[0;34m(\u001b[0m\u001b[0;34m)\u001b[0m\u001b[0;34m\u001b[0m\u001b[0;34m\u001b[0m\u001b[0m\n\u001b[0m\u001b[1;32m    346\u001b[0m         \u001b[0mself\u001b[0m\u001b[0;34m.\u001b[0m\u001b[0m_num_yielded\u001b[0m \u001b[0;34m+=\u001b[0m \u001b[0;36m1\u001b[0m\u001b[0;34m\u001b[0m\u001b[0;34m\u001b[0m\u001b[0m\n\u001b[1;32m    347\u001b[0m         \u001b[0;32mif\u001b[0m \u001b[0mself\u001b[0m\u001b[0;34m.\u001b[0m\u001b[0m_dataset_kind\u001b[0m \u001b[0;34m==\u001b[0m \u001b[0m_DatasetKind\u001b[0m\u001b[0;34m.\u001b[0m\u001b[0mIterable\u001b[0m \u001b[0;32mand\u001b[0m\u001b[0;31m \u001b[0m\u001b[0;31m\\\u001b[0m\u001b[0;34m\u001b[0m\u001b[0;34m\u001b[0m\u001b[0m\n",
      "\u001b[0;32m~/anaconda3/envs/gg_cnn/lib/python3.6/site-packages/torch/utils/data/dataloader.py\u001b[0m in \u001b[0;36m_next_data\u001b[0;34m(self)\u001b[0m\n\u001b[1;32m    383\u001b[0m     \u001b[0;32mdef\u001b[0m \u001b[0m_next_data\u001b[0m\u001b[0;34m(\u001b[0m\u001b[0mself\u001b[0m\u001b[0;34m)\u001b[0m\u001b[0;34m:\u001b[0m\u001b[0;34m\u001b[0m\u001b[0;34m\u001b[0m\u001b[0m\n\u001b[1;32m    384\u001b[0m         \u001b[0mindex\u001b[0m \u001b[0;34m=\u001b[0m \u001b[0mself\u001b[0m\u001b[0;34m.\u001b[0m\u001b[0m_next_index\u001b[0m\u001b[0;34m(\u001b[0m\u001b[0;34m)\u001b[0m  \u001b[0;31m# may raise StopIteration\u001b[0m\u001b[0;34m\u001b[0m\u001b[0;34m\u001b[0m\u001b[0m\n\u001b[0;32m--> 385\u001b[0;31m         \u001b[0mdata\u001b[0m \u001b[0;34m=\u001b[0m \u001b[0mself\u001b[0m\u001b[0;34m.\u001b[0m\u001b[0m_dataset_fetcher\u001b[0m\u001b[0;34m.\u001b[0m\u001b[0mfetch\u001b[0m\u001b[0;34m(\u001b[0m\u001b[0mindex\u001b[0m\u001b[0;34m)\u001b[0m  \u001b[0;31m# may raise StopIteration\u001b[0m\u001b[0;34m\u001b[0m\u001b[0;34m\u001b[0m\u001b[0m\n\u001b[0m\u001b[1;32m    386\u001b[0m         \u001b[0;32mif\u001b[0m \u001b[0mself\u001b[0m\u001b[0;34m.\u001b[0m\u001b[0m_pin_memory\u001b[0m\u001b[0;34m:\u001b[0m\u001b[0;34m\u001b[0m\u001b[0;34m\u001b[0m\u001b[0m\n\u001b[1;32m    387\u001b[0m             \u001b[0mdata\u001b[0m \u001b[0;34m=\u001b[0m \u001b[0m_utils\u001b[0m\u001b[0;34m.\u001b[0m\u001b[0mpin_memory\u001b[0m\u001b[0;34m.\u001b[0m\u001b[0mpin_memory\u001b[0m\u001b[0;34m(\u001b[0m\u001b[0mdata\u001b[0m\u001b[0;34m)\u001b[0m\u001b[0;34m\u001b[0m\u001b[0;34m\u001b[0m\u001b[0m\n",
      "\u001b[0;32m~/anaconda3/envs/gg_cnn/lib/python3.6/site-packages/torch/utils/data/_utils/fetch.py\u001b[0m in \u001b[0;36mfetch\u001b[0;34m(self, possibly_batched_index)\u001b[0m\n\u001b[1;32m     42\u001b[0m     \u001b[0;32mdef\u001b[0m \u001b[0mfetch\u001b[0m\u001b[0;34m(\u001b[0m\u001b[0mself\u001b[0m\u001b[0;34m,\u001b[0m \u001b[0mpossibly_batched_index\u001b[0m\u001b[0;34m)\u001b[0m\u001b[0;34m:\u001b[0m\u001b[0;34m\u001b[0m\u001b[0;34m\u001b[0m\u001b[0m\n\u001b[1;32m     43\u001b[0m         \u001b[0;32mif\u001b[0m \u001b[0mself\u001b[0m\u001b[0;34m.\u001b[0m\u001b[0mauto_collation\u001b[0m\u001b[0;34m:\u001b[0m\u001b[0;34m\u001b[0m\u001b[0;34m\u001b[0m\u001b[0m\n\u001b[0;32m---> 44\u001b[0;31m             \u001b[0mdata\u001b[0m \u001b[0;34m=\u001b[0m \u001b[0;34m[\u001b[0m\u001b[0mself\u001b[0m\u001b[0;34m.\u001b[0m\u001b[0mdataset\u001b[0m\u001b[0;34m[\u001b[0m\u001b[0midx\u001b[0m\u001b[0;34m]\u001b[0m \u001b[0;32mfor\u001b[0m \u001b[0midx\u001b[0m \u001b[0;32min\u001b[0m \u001b[0mpossibly_batched_index\u001b[0m\u001b[0;34m]\u001b[0m\u001b[0;34m\u001b[0m\u001b[0;34m\u001b[0m\u001b[0m\n\u001b[0m\u001b[1;32m     45\u001b[0m         \u001b[0;32melse\u001b[0m\u001b[0;34m:\u001b[0m\u001b[0;34m\u001b[0m\u001b[0;34m\u001b[0m\u001b[0m\n\u001b[1;32m     46\u001b[0m             \u001b[0mdata\u001b[0m \u001b[0;34m=\u001b[0m \u001b[0mself\u001b[0m\u001b[0;34m.\u001b[0m\u001b[0mdataset\u001b[0m\u001b[0;34m[\u001b[0m\u001b[0mpossibly_batched_index\u001b[0m\u001b[0;34m]\u001b[0m\u001b[0;34m\u001b[0m\u001b[0;34m\u001b[0m\u001b[0m\n",
      "\u001b[0;32m~/anaconda3/envs/gg_cnn/lib/python3.6/site-packages/torch/utils/data/_utils/fetch.py\u001b[0m in \u001b[0;36m<listcomp>\u001b[0;34m(.0)\u001b[0m\n\u001b[1;32m     42\u001b[0m     \u001b[0;32mdef\u001b[0m \u001b[0mfetch\u001b[0m\u001b[0;34m(\u001b[0m\u001b[0mself\u001b[0m\u001b[0;34m,\u001b[0m \u001b[0mpossibly_batched_index\u001b[0m\u001b[0;34m)\u001b[0m\u001b[0;34m:\u001b[0m\u001b[0;34m\u001b[0m\u001b[0;34m\u001b[0m\u001b[0m\n\u001b[1;32m     43\u001b[0m         \u001b[0;32mif\u001b[0m \u001b[0mself\u001b[0m\u001b[0;34m.\u001b[0m\u001b[0mauto_collation\u001b[0m\u001b[0;34m:\u001b[0m\u001b[0;34m\u001b[0m\u001b[0;34m\u001b[0m\u001b[0m\n\u001b[0;32m---> 44\u001b[0;31m             \u001b[0mdata\u001b[0m \u001b[0;34m=\u001b[0m \u001b[0;34m[\u001b[0m\u001b[0mself\u001b[0m\u001b[0;34m.\u001b[0m\u001b[0mdataset\u001b[0m\u001b[0;34m[\u001b[0m\u001b[0midx\u001b[0m\u001b[0;34m]\u001b[0m \u001b[0;32mfor\u001b[0m \u001b[0midx\u001b[0m \u001b[0;32min\u001b[0m \u001b[0mpossibly_batched_index\u001b[0m\u001b[0;34m]\u001b[0m\u001b[0;34m\u001b[0m\u001b[0;34m\u001b[0m\u001b[0m\n\u001b[0m\u001b[1;32m     45\u001b[0m         \u001b[0;32melse\u001b[0m\u001b[0;34m:\u001b[0m\u001b[0;34m\u001b[0m\u001b[0;34m\u001b[0m\u001b[0m\n\u001b[1;32m     46\u001b[0m             \u001b[0mdata\u001b[0m \u001b[0;34m=\u001b[0m \u001b[0mself\u001b[0m\u001b[0;34m.\u001b[0m\u001b[0mdataset\u001b[0m\u001b[0;34m[\u001b[0m\u001b[0mpossibly_batched_index\u001b[0m\u001b[0;34m]\u001b[0m\u001b[0;34m\u001b[0m\u001b[0;34m\u001b[0m\u001b[0m\n",
      "\u001b[0;32m~/Documents/github_repository/cornell_dataset/train/cornell_pro.py\u001b[0m in \u001b[0;36m__getitem__\u001b[0;34m(self, idx)\u001b[0m\n\u001b[1;32m    125\u001b[0m         \u001b[0;31m# 载入深度图像\u001b[0m\u001b[0;34m\u001b[0m\u001b[0;34m\u001b[0m\u001b[0;34m\u001b[0m\u001b[0m\n\u001b[1;32m    126\u001b[0m         \u001b[0;32mif\u001b[0m \u001b[0mself\u001b[0m\u001b[0;34m.\u001b[0m\u001b[0minclude_depth\u001b[0m\u001b[0;34m:\u001b[0m\u001b[0;34m\u001b[0m\u001b[0;34m\u001b[0m\u001b[0m\n\u001b[0;32m--> 127\u001b[0;31m             \u001b[0mdepth_img\u001b[0m \u001b[0;34m=\u001b[0m \u001b[0mself\u001b[0m\u001b[0;34m.\u001b[0m\u001b[0mget_depth\u001b[0m\u001b[0;34m(\u001b[0m\u001b[0midx\u001b[0m\u001b[0;34m)\u001b[0m\u001b[0;34m\u001b[0m\u001b[0;34m\u001b[0m\u001b[0m\n\u001b[0m\u001b[1;32m    128\u001b[0m             \u001b[0mx\u001b[0m \u001b[0;34m=\u001b[0m \u001b[0mself\u001b[0m\u001b[0;34m.\u001b[0m\u001b[0mnumpy_to_torch\u001b[0m\u001b[0;34m(\u001b[0m\u001b[0mdepth_img\u001b[0m\u001b[0;34m)\u001b[0m\u001b[0;34m\u001b[0m\u001b[0;34m\u001b[0m\u001b[0m\n\u001b[1;32m    129\u001b[0m         \u001b[0;31m# 载入rgb图像\u001b[0m\u001b[0;34m\u001b[0m\u001b[0;34m\u001b[0m\u001b[0;34m\u001b[0m\u001b[0m\n",
      "\u001b[0;32m~/Documents/github_repository/cornell_dataset/train/cornell_pro.py\u001b[0m in \u001b[0;36mget_depth\u001b[0;34m(self, idx)\u001b[0m\n\u001b[1;32m    102\u001b[0m         \u001b[0mcenter\u001b[0m\u001b[0;34m,\u001b[0m\u001b[0mleft\u001b[0m\u001b[0;34m,\u001b[0m\u001b[0mtop\u001b[0m \u001b[0;34m=\u001b[0m \u001b[0mself\u001b[0m\u001b[0;34m.\u001b[0m\u001b[0m_get_crop_attrs\u001b[0m\u001b[0;34m(\u001b[0m\u001b[0midx\u001b[0m\u001b[0;34m)\u001b[0m\u001b[0;34m\u001b[0m\u001b[0;34m\u001b[0m\u001b[0m\n\u001b[1;32m    103\u001b[0m         \u001b[0mdepth_img\u001b[0m\u001b[0;34m.\u001b[0m\u001b[0mcrop\u001b[0m\u001b[0;34m(\u001b[0m\u001b[0;34m(\u001b[0m\u001b[0mleft\u001b[0m\u001b[0;34m,\u001b[0m\u001b[0mtop\u001b[0m\u001b[0;34m)\u001b[0m\u001b[0;34m,\u001b[0m\u001b[0;34m(\u001b[0m\u001b[0mleft\u001b[0m\u001b[0;34m+\u001b[0m\u001b[0mself\u001b[0m\u001b[0;34m.\u001b[0m\u001b[0moutput_size\u001b[0m\u001b[0;34m,\u001b[0m\u001b[0mtop\u001b[0m\u001b[0;34m+\u001b[0m\u001b[0mself\u001b[0m\u001b[0;34m.\u001b[0m\u001b[0moutput_size\u001b[0m\u001b[0;34m)\u001b[0m\u001b[0;34m)\u001b[0m\u001b[0;34m\u001b[0m\u001b[0;34m\u001b[0m\u001b[0m\n\u001b[0;32m--> 104\u001b[0;31m         \u001b[0mdepth_img\u001b[0m\u001b[0;34m.\u001b[0m\u001b[0mresize\u001b[0m\u001b[0;34m(\u001b[0m\u001b[0;34m(\u001b[0m\u001b[0mself\u001b[0m\u001b[0;34m.\u001b[0m\u001b[0moutput_size\u001b[0m\u001b[0;34m,\u001b[0m \u001b[0mself\u001b[0m\u001b[0;34m.\u001b[0m\u001b[0moutput_size\u001b[0m\u001b[0;34m)\u001b[0m\u001b[0;34m)\u001b[0m\u001b[0;34m\u001b[0m\u001b[0;34m\u001b[0m\u001b[0m\n\u001b[0m\u001b[1;32m    105\u001b[0m \u001b[0;34m\u001b[0m\u001b[0m\n\u001b[1;32m    106\u001b[0m         \u001b[0;32mreturn\u001b[0m \u001b[0mdepth_img\u001b[0m\u001b[0;34m.\u001b[0m\u001b[0mimg\u001b[0m\u001b[0;34m\u001b[0m\u001b[0;34m\u001b[0m\u001b[0m\n",
      "\u001b[0;32m~/Documents/github_repository/cornell_dataset/train/image_pro.py\u001b[0m in \u001b[0;36mresize\u001b[0;34m(self, shape)\u001b[0m\n\u001b[1;32m     60\u001b[0m             \u001b[0;32mreturn\u001b[0m\u001b[0;34m\u001b[0m\u001b[0;34m\u001b[0m\u001b[0m\n\u001b[1;32m     61\u001b[0m         \u001b[0mprint\u001b[0m\u001b[0;34m(\u001b[0m\u001b[0mself\u001b[0m\u001b[0;34m.\u001b[0m\u001b[0mimg\u001b[0m\u001b[0;34m.\u001b[0m\u001b[0mshape\u001b[0m\u001b[0;34m)\u001b[0m\u001b[0;34m\u001b[0m\u001b[0;34m\u001b[0m\u001b[0m\n\u001b[0;32m---> 62\u001b[0;31m         \u001b[0mself\u001b[0m\u001b[0;34m.\u001b[0m\u001b[0mimg\u001b[0m \u001b[0;34m=\u001b[0m \u001b[0mresize\u001b[0m\u001b[0;34m(\u001b[0m\u001b[0mself\u001b[0m\u001b[0;34m.\u001b[0m\u001b[0mimg\u001b[0m\u001b[0;34m,\u001b[0m \u001b[0mshape\u001b[0m\u001b[0;34m,\u001b[0m \u001b[0mpreserve_range\u001b[0m\u001b[0;34m=\u001b[0m\u001b[0;32mTrue\u001b[0m\u001b[0;34m)\u001b[0m\u001b[0;34m.\u001b[0m\u001b[0mastype\u001b[0m\u001b[0;34m(\u001b[0m\u001b[0mself\u001b[0m\u001b[0;34m.\u001b[0m\u001b[0mimg\u001b[0m\u001b[0;34m.\u001b[0m\u001b[0mdtype\u001b[0m\u001b[0;34m)\u001b[0m\u001b[0;34m\u001b[0m\u001b[0;34m\u001b[0m\u001b[0m\n\u001b[0m\u001b[1;32m     63\u001b[0m \u001b[0;34m\u001b[0m\u001b[0m\n\u001b[1;32m     64\u001b[0m \u001b[0;32mclass\u001b[0m \u001b[0mDepthImage\u001b[0m\u001b[0;34m(\u001b[0m\u001b[0mImage\u001b[0m\u001b[0;34m)\u001b[0m\u001b[0;34m:\u001b[0m\u001b[0;34m\u001b[0m\u001b[0;34m\u001b[0m\u001b[0m\n",
      "\u001b[0;32m~/anaconda3/envs/gg_cnn/lib/python3.6/site-packages/skimage/transform/_warps.py\u001b[0m in \u001b[0;36mresize\u001b[0;34m(image, output_shape, order, mode, cval, clip, preserve_range, anti_aliasing, anti_aliasing_sigma)\u001b[0m\n\u001b[1;32m    176\u001b[0m         out = warp(image, tform, output_shape=output_shape, order=order,\n\u001b[1;32m    177\u001b[0m                    \u001b[0mmode\u001b[0m\u001b[0;34m=\u001b[0m\u001b[0mmode\u001b[0m\u001b[0;34m,\u001b[0m \u001b[0mcval\u001b[0m\u001b[0;34m=\u001b[0m\u001b[0mcval\u001b[0m\u001b[0;34m,\u001b[0m \u001b[0mclip\u001b[0m\u001b[0;34m=\u001b[0m\u001b[0mclip\u001b[0m\u001b[0;34m,\u001b[0m\u001b[0;34m\u001b[0m\u001b[0;34m\u001b[0m\u001b[0m\n\u001b[0;32m--> 178\u001b[0;31m                    preserve_range=preserve_range)\n\u001b[0m\u001b[1;32m    179\u001b[0m \u001b[0;34m\u001b[0m\u001b[0m\n\u001b[1;32m    180\u001b[0m     \u001b[0;32melse\u001b[0m\u001b[0;34m:\u001b[0m  \u001b[0;31m# n-dimensional interpolation\u001b[0m\u001b[0;34m\u001b[0m\u001b[0;34m\u001b[0m\u001b[0m\n",
      "\u001b[0;32m~/anaconda3/envs/gg_cnn/lib/python3.6/site-packages/skimage/transform/_warps.py\u001b[0m in \u001b[0;36mwarp\u001b[0;34m(image, inverse_map, map_args, output_shape, order, mode, cval, clip, preserve_range)\u001b[0m\n\u001b[1;32m    826\u001b[0m     \u001b[0;32mif\u001b[0m \u001b[0mimage\u001b[0m\u001b[0;34m.\u001b[0m\u001b[0msize\u001b[0m \u001b[0;34m==\u001b[0m \u001b[0;36m0\u001b[0m\u001b[0;34m:\u001b[0m\u001b[0;34m\u001b[0m\u001b[0;34m\u001b[0m\u001b[0m\n\u001b[1;32m    827\u001b[0m         raise ValueError(\"Cannot warp empty image with dimensions\",\n\u001b[0;32m--> 828\u001b[0;31m                          image.shape)\n\u001b[0m\u001b[1;32m    829\u001b[0m \u001b[0;34m\u001b[0m\u001b[0m\n\u001b[1;32m    830\u001b[0m     \u001b[0morder\u001b[0m \u001b[0;34m=\u001b[0m \u001b[0m_validate_interpolation_order\u001b[0m\u001b[0;34m(\u001b[0m\u001b[0mimage\u001b[0m\u001b[0;34m.\u001b[0m\u001b[0mdtype\u001b[0m\u001b[0;34m,\u001b[0m \u001b[0morder\u001b[0m\u001b[0;34m)\u001b[0m\u001b[0;34m\u001b[0m\u001b[0;34m\u001b[0m\u001b[0m\n",
      "\u001b[0;31mValueError\u001b[0m: ('Cannot warp empty image with dimensions', (0, 300))"
     ]
    }
   ],
   "source": [
    "run()"
   ]
  },
  {
   "cell_type": "markdown",
   "metadata": {},
   "source": [
    "这边训练的时候，一开始没问题，后面报了这个错误，说是维度不匹配，有的图是[4,299,300]，这就说明是裁剪那块出了问题，上网查了一下也没什么结果，不过好在这是复现，ggcnn那边没报错，就说明它肯定是解决了这个问题的，cornell_data里面的get_depth和git_rgb有个resize函数，估计是解决这个问题的，我拿来试试"
   ]
  },
  {
   "cell_type": "markdown",
   "metadata": {},
   "source": [
    "果然解决了，不过又报了一个新的错误：'Cannot warp empty image with dimensions', (0, 300))"
   ]
  },
  {
   "cell_type": "markdown",
   "metadata": {},
   "source": [
    "\n",
    "调试过程如下：因为他说shape是（0,300），那么在image_resize之前加上一句print(self.img.shape)后面打印了发现确实有个数据是（0,300），这就是异常数据了，然后在cornell里面的\\_\\_getitem\\_\\_后面加一句print(idx)，看一下到底是哪一个，然后发现是360,计算一下，那就是大概第四个文件夹第60张图片的样子。"
   ]
  },
  {
   "cell_type": "code",
   "execution_count": 16,
   "metadata": {},
   "outputs": [
    {
     "data": {
      "text/plain": [
       "(0, 300)"
      ]
     },
     "execution_count": 16,
     "metadata": {},
     "output_type": "execute_result"
    }
   ],
   "source": [
    "(300, 300, 3)\n",
    "28\n",
    "(300, 300, 3)\n",
    "283\n",
    "(300, 300, 3)\n",
    "248\n",
    "(300, 300, 3)\n",
    "604\n",
    "(300, 300, 3)\n",
    "559\n",
    "(300, 300, 3)\n",
    "360\n",
    "(0, 300)"
   ]
  },
  {
   "cell_type": "markdown",
   "metadata": {},
   "source": [
    "打开看一下是这样的：\n",
    "![pcd0460r.png](images/pcd0460r.png)"
   ]
  },
  {
   "cell_type": "markdown",
   "metadata": {},
   "source": [
    "这也太偏了吧，按照之前的策略对其进行裁剪的话肯定会出问题的，这就是之前在net_data_stream里面，被我缺省掉的裁剪边界代码的取值判定的作用，当时觉得对象大都放置在中心，还是太天真了，现在乖乖地加回来吧。"
   ]
  },
  {
   "cell_type": "markdown",
   "metadata": {},
   "source": [
    "先看看对这个图片直接裁剪的话会怎么样"
   ]
  },
  {
   "cell_type": "code",
   "execution_count": 39,
   "metadata": {},
   "outputs": [
    {
     "data": {
      "image/png": "[encoded data removed]",
      "text/plain": [
       "<Figure size 432x288 with 2 Axes>"
      ]
     },
     "metadata": {
      "needs_background": "light"
     },
     "output_type": "display_data"
    }
   ],
   "source": [
    "#先把文件都读进来\n",
    "import os\n",
    "import glob\n",
    "import cv2\n",
    "import matplotlib.pyplot as plt\n",
    "\n",
    "from train.image_pro import Image\n",
    "from train.image_pro import DepthImage\n",
    "from train.grasp_pro import Grasps\n",
    "\n",
    "\n",
    "\n",
    "cornell_path = 'cornell'\n",
    "graspf = glob.glob(os.path.join(cornell_path,'*','pcd*cpos.txt'))\n",
    "graspf.sort()\n",
    "\n",
    "rgbf = [filename.replace('cpos.txt','r.png') for filename in graspf]\n",
    "depthf = [filename.replace('cpos.txt','d.tiff') for filename in graspf]\n",
    "\n",
    "rgb_img = Image.from_file(rgbf[360])\n",
    "depth_img = DepthImage.from_file(depthf[360])\n",
    "\n",
    "grasps = Grasps.load_from_cornell_files(graspf[360])\n",
    "\n",
    "output_size = (300,300)\n",
    "\n",
    "center = grasps.center\n",
    "\n",
    "#注意原点在左上角\n",
    "top_left = (int(center[0]-output_size[0]//2),int(center[1]-output_size[1]//2))\n",
    "bottom_right = (int(center[0]+output_size[0]//2),int(center[1]+output_size[1]//2))\n",
    "\n",
    "cv2.rectangle(rgb_img.img,top_left,bottom_right,(0,0,1))\n",
    "cv2.rectangle(depth_img.img,top_left,bottom_right,(0,0,1))\n",
    "\n",
    "plt.subplot(121)\n",
    "plt.imshow(rgb_img.img)\n",
    "plt.subplot(122)\n",
    "plt.imshow(depth_img.img)\n",
    "plt.show()"
   ]
  },
  {
   "cell_type": "markdown",
   "metadata": {},
   "source": [
    "可以看到，边框溢出边界了，这时候如果对其进行裁剪的话看一下会得到什么？"
   ]
  },
  {
   "cell_type": "code",
   "execution_count": 41,
   "metadata": {},
   "outputs": [
    {
     "data": {
      "text/plain": [
       "(0, 300, 3)"
      ]
     },
     "execution_count": 41,
     "metadata": {},
     "output_type": "execute_result"
    }
   ],
   "source": [
    "rgb_img.crop(top_left,bottom_right)\n",
    "rgb_img.img.shape"
   ]
  },
  {
   "cell_type": "markdown",
   "metadata": {},
   "source": [
    "得到了一个行数为0的矩阵，说明出现了错误，看一下top_left和bottom_right的值"
   ]
  },
  {
   "cell_type": "code",
   "execution_count": 42,
   "metadata": {},
   "outputs": [
    {
     "name": "stdout",
     "output_type": "stream",
     "text": [
      "(155, -7) (455, 293)\n"
     ]
    }
   ],
   "source": [
    "print(top_left,bottom_right)"
   ]
  },
  {
   "cell_type": "markdown",
   "metadata": {},
   "source": [
    "可以看到里面出现了负数，后面裁剪切片的时候是这样的："
   ]
  },
  {
   "cell_type": "code",
   "execution_count": null,
   "metadata": {},
   "outputs": [],
   "source": [
    "self.img = self.img[top_left[1]:bottom_right[1], top_left[0]:bottom_right[0]]"
   ]
  },
  {
   "cell_type": "markdown",
   "metadata": {},
   "source": [
    "代入数据的是这样的："
   ]
  },
  {
   "cell_type": "code",
   "execution_count": null,
   "metadata": {},
   "outputs": [],
   "source": [
    "self.img = self.img[-7:293, 155:455]"
   ]
  },
  {
   "cell_type": "markdown",
   "metadata": {},
   "source": [
    "numpy数组切片索引出现负数，这个工作机制怎么说？测试一下"
   ]
  },
  {
   "cell_type": "markdown",
   "metadata": {},
   "source": []
  }
 ],
 "metadata": {
  "kernelspec": {
   "display_name": "Python 3",
   "language": "python",
   "name": "python3"
  },
  "language_info": {
   "codemirror_mode": {
    "name": "ipython",
    "version": 3
   },
   "file_extension": ".py",
   "mimetype": "text/x-python",
   "name": "python",
   "nbconvert_exporter": "python",
   "pygments_lexer": "ipython3",
   "version": "3.6.10"
  }
 },
 "nbformat": 4,
 "nbformat_minor": 4
}
