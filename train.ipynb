{
 "cells": [
  {
   "cell_type": "markdown",
   "metadata": {},
   "source": [
    "# 可以开始训练了\n",
    "- by 刘道会\n",
    "- 2020-08 于重庆大学"
   ]
  },
  {
   "cell_type": "markdown",
   "metadata": {},
   "source": [
    "基本流程如下：\n",
    "- 导入数据集\n",
    "- 导入网络模型\n",
    "- 定义主函数\n",
    " - 定义训练参数\n",
    " - 定义优化器\n",
    " - 定义主循环"
   ]
  },
  {
   "cell_type": "markdown",
   "metadata": {},
   "source": [
    "## 0.正式开始前还是简单先测试一下"
   ]
  },
  {
   "cell_type": "code",
   "execution_count": 1,
   "metadata": {},
   "outputs": [],
   "source": [
    "import torch\n",
    "import torch.optim as optim\n",
    "import matplotlib.pyplot as plt\n",
    "import numpy as np\n",
    "\n",
    "from train.cornell_pro import Cornell\n",
    "from train.ggcnn import GGCNN"
   ]
  },
  {
   "cell_type": "code",
   "execution_count": 2,
   "metadata": {},
   "outputs": [
    {
     "name": "stdout",
     "output_type": "stream",
     "text": [
      "(300, 300, 3)\n",
      "(300, 300, 3)\n",
      "(300, 300, 3)\n",
      "(300, 300, 3)\n",
      "(300, 300, 3)\n",
      "(300, 300, 3)\n",
      "(300, 300, 3)\n",
      "(300, 300, 3)\n",
      "(300, 300, 3)\n",
      "(300, 300, 3)\n",
      "(300, 300, 3)\n",
      "(300, 300, 3)\n",
      "(300, 300, 3)\n",
      "(300, 300, 3)\n",
      "(300, 300, 3)\n",
      "(300, 300, 3)\n",
      "(300, 300, 3)\n",
      "(300, 300, 3)\n",
      "(300, 300, 3)\n",
      "(300, 300, 3)\n",
      "(300, 300, 3)\n",
      "(300, 300, 3)\n",
      "(300, 300, 3)\n",
      "(300, 300, 3)\n",
      "(300, 300, 3)\n",
      "(300, 300, 3)\n",
      "(300, 300, 3)\n",
      "(300, 300, 3)\n",
      "(300, 300, 3)\n",
      "(300, 300, 3)\n",
      "(300, 300, 3)\n",
      "(300, 300, 3)\n"
     ]
    }
   ],
   "source": [
    "#准备数据集\n",
    "cornell_data = Cornell('cornell')\n",
    "dataset = torch.utils.data.DataLoader(cornell_data,batch_size = 32)\n",
    "\n",
    "#从数据集中读取一个样本\n",
    "for x,y in dataset:\n",
    "    xc = x\n",
    "    yc = y\n",
    "    break"
   ]
  },
  {
   "cell_type": "code",
   "execution_count": 3,
   "metadata": {},
   "outputs": [],
   "source": [
    "#实例化一个网络\n",
    "net = GGCNN(4)\n",
    "\n",
    "#定义一个优化器\n",
    "optimizer = optim.Adam(net.parameters())\n",
    "\n",
    "#将输入传递到网络并计算输出\n",
    "pos,cos,sin,width = net.forward(xc)"
   ]
  },
  {
   "cell_type": "code",
   "execution_count": 4,
   "metadata": {},
   "outputs": [
    {
     "data": {
      "image/png": "[encoded data removed]",
      "text/plain": [
       "<Figure size 432x288 with 4 Axes>"
      ]
     },
     "metadata": {
      "needs_background": "light"
     },
     "output_type": "display_data"
    }
   ],
   "source": [
    "plt.subplot(141)\n",
    "plt.title('pos_out')\n",
    "plt.imshow(pos[0][0].data.numpy())\n",
    "plt.subplot(142)\n",
    "plt.title('cos_out')\n",
    "plt.imshow(cos[0][0].data.numpy())\n",
    "plt.subplot(143)\n",
    "plt.title('sin_out')\n",
    "plt.imshow(sin[0][0].data.numpy())\n",
    "plt.subplot(144)\n",
    "plt.title('width_out')\n",
    "plt.imshow(width[0][0].data.numpy())\n",
    "plt.show()"
   ]
  },
  {
   "cell_type": "code",
   "execution_count": 5,
   "metadata": {},
   "outputs": [
    {
     "name": "stdout",
     "output_type": "stream",
     "text": [
      "tensor(1.0594, grad_fn=<AddBackward0>)\n"
     ]
    }
   ],
   "source": [
    "#计算损失\n",
    "losses = net.compute_loss(xc,yc)\n",
    "loss = losses['loss']\n",
    "\n",
    "print(loss)"
   ]
  },
  {
   "cell_type": "code",
   "execution_count": 6,
   "metadata": {},
   "outputs": [],
   "source": [
    "#反向传播优化\n",
    "optimizer.zero_grad()\n",
    "loss.backward()\n",
    "\n",
    "optimizer.step()"
   ]
  },
  {
   "cell_type": "code",
   "execution_count": 7,
   "metadata": {},
   "outputs": [
    {
     "name": "stdout",
     "output_type": "stream",
     "text": [
      "tensor(1.0297, grad_fn=<AddBackward0>)\n"
     ]
    }
   ],
   "source": [
    "losses = net.compute_loss(xc,yc)\n",
    "loss = losses['loss']\n",
    "\n",
    "print(loss)"
   ]
  },
  {
   "cell_type": "markdown",
   "metadata": {},
   "source": [
    "可以看到经过一次优化之后，loss减小了，不过一次说明不了什么，下面就在这一个样本上优化一百次，看看loss如果变得很小的话，就说明目前的工作没有跑偏，可以继续"
   ]
  },
  {
   "cell_type": "code",
   "execution_count": 8,
   "metadata": {},
   "outputs": [
    {
     "data": {
      "text/plain": [
       "'\\ndevice = torch.device(\"cuda:0\")\\n\\nnet = net.to(device)\\n\\nx = xc.to(device)\\ny = [yy.to(device) for yy in yc]\\n\\n'"
      ]
     },
     "execution_count": 8,
     "metadata": {},
     "output_type": "execute_result"
    }
   ],
   "source": [
    "'''\n",
    "device = torch.device(\"cuda:0\")\n",
    "\n",
    "net = net.to(device)\n",
    "\n",
    "x = xc.to(device)\n",
    "y = [yy.to(device) for yy in yc]\n",
    "\n",
    "'''\n",
    "#这些是指定GPU为训练设备的代码，但不知道为什么在jupyter notebook里面会报错，但是在spyder里面是没有问题的，训练速度那叫一个快，\n",
    "#因为jupyter这边主要是为了调试，也不会真的训练，所以暂时就这样吧，不管了，用cpu就用cpu吧,不过gpu的速度比cpu快了感觉不下30倍，\n",
    "#因为jupyter这开始训练之后，我spyder那边调了挺久，后面又迭代了1000次，结果回过头来jupyter这还是没迭代完100次"
   ]
  },
  {
   "cell_type": "code",
   "execution_count": 9,
   "metadata": {},
   "outputs": [
    {
     "name": "stdout",
     "output_type": "stream",
     "text": [
      "0\n",
      "tensor(1.0297, grad_fn=<AddBackward0>)\n"
     ]
    }
   ],
   "source": [
    "for i in range(1):\n",
    "    losses = net.compute_loss(xc,yc)\n",
    "    loss = losses['loss']\n",
    "    print(i)\n",
    "    print(loss)\n",
    "    \n",
    "    #反向传播优化\n",
    "    optimizer.zero_grad()\n",
    "    loss.backward()\n",
    "    \n",
    "    optimizer.step()"
   ]
  },
  {
   "cell_type": "markdown",
   "metadata": {},
   "source": [
    "可以看到loss一直在降低，再可视化看一下它训练完后的预测结果，所以ojbk，开整"
   ]
  },
  {
   "cell_type": "code",
   "execution_count": 10,
   "metadata": {},
   "outputs": [
    {
     "data": {
      "image/png": "[encoded data removed]",
      "text/plain": [
       "<Figure size 432x288 with 4 Axes>"
      ]
     },
     "metadata": {
      "needs_background": "light"
     },
     "output_type": "display_data"
    }
   ],
   "source": [
    "pos,cos,sin,width = net.forward(xc)\n",
    "\n",
    "num = 20\n",
    "\n",
    "plt.subplot(141)\n",
    "plt.title('pos_out')\n",
    "plt.imshow(pos[num][0].data.numpy(),cmap=plt.cm.gray)\n",
    "plt.subplot(142)\n",
    "plt.title('cos_out')\n",
    "plt.imshow(cos[num][0].data.numpy(),cmap=plt.cm.gray)\n",
    "plt.subplot(143)\n",
    "plt.title('sin_out')\n",
    "plt.imshow(sin[num][0].data.numpy(),cmap=plt.cm.gray)\n",
    "plt.subplot(144)\n",
    "plt.title('width_out')\n",
    "plt.imshow(width[num][0].data.numpy(),cmap=plt.cm.gray)\n",
    "plt.show()"
   ]
  },
  {
   "cell_type": "markdown",
   "metadata": {},
   "source": [
    "可以看到，是比较符合预期的，所以，前面的工作已经做完了，后面可以集成了。"
   ]
  },
  {
   "cell_type": "markdown",
   "metadata": {},
   "source": [
    "## 1.导入数据集并进行必要的参数设置"
   ]
  },
  {
   "cell_type": "code",
   "execution_count": 11,
   "metadata": {},
   "outputs": [],
   "source": [
    "cornell_data = Cornell('cornell')\n",
    "dataset = torch.utils.data.DataLoader(cornell_data,batch_size = 32,shuffle = True)\n",
    "\n",
    "batch_size = 32\n",
    "batches_per_epoch = 1000\n",
    "epochs = 30\n",
    "lr = 0.001\n"
   ]
  },
  {
   "cell_type": "markdown",
   "metadata": {},
   "source": [
    "## 2.导入网络模型并进行必要的参数设置"
   ]
  },
  {
   "cell_type": "code",
   "execution_count": 12,
   "metadata": {},
   "outputs": [],
   "source": [
    "#实例化一个网络\n",
    "net = GGCNN(4)"
   ]
  },
  {
   "cell_type": "markdown",
   "metadata": {},
   "source": [
    "## 3.定义各个子函数"
   ]
  },
  {
   "cell_type": "markdown",
   "metadata": {},
   "source": [
    "### 3.1定义训练函数"
   ]
  },
  {
   "cell_type": "code",
   "execution_count": 13,
   "metadata": {},
   "outputs": [],
   "source": [
    "def train(epoch,net,device,train_data,optimizer,batches_per_epoch):\n",
    "    \"\"\"\n",
    "    :功能: 执行一个训练epoch\n",
    "    :参数: epoch             : 当前所在的epoch数\n",
    "    :参数: net               : 要使用的网络模型\n",
    "    :参数: device            : 训练使用的设备\n",
    "    :参数: train_data        : 训练所用数据集\n",
    "    :参数: optimizer         : 优化器\n",
    "    :参数: batches_per_epoch : 每个epoch训练中所用的数据批数\n",
    "\n",
    "    :返回: 本epoch的平均损失\n",
    "    \"\"\"\n",
    "    #结果字典，最后返回用\n",
    "    results = {\n",
    "        'loss': 0,\n",
    "        'losses': {\n",
    "        }\n",
    "    }\n",
    "    \n",
    "    #训练模式，所有的层和参数都会考虑进来，eval模式下比如dropout这种层会不使能\n",
    "    net.train()\n",
    "    \n",
    "    batch_idx = 0\n",
    "    \n",
    "    #开始样本训练迭代\n",
    "    while batch_idx < batches_per_epoch:\n",
    "        for x, y in train_data:\n",
    "            batch_idx += 1\n",
    "            if batch_idx >= batches_per_epoch:\n",
    "                break\n",
    "            \n",
    "            #将数据传到GPU，目前jupyter下无法使用\n",
    "            # xc = x.to(device)\n",
    "            # yc = [yy.to(device) for yy in y]\n",
    "            \n",
    "            lossdict = net.compute_loss(xc,yc)\n",
    "            \n",
    "            #获取当前损失\n",
    "            loss = lossdict['loss']\n",
    "            \n",
    "            #打印一下训练过程\n",
    "            if batch_idx % 2 == 0:\n",
    "                print('Epoch: {}, Batch: {}, Loss: {:0.4f}'.format(epoch, batch_idx, loss.item()))\n",
    "            \n",
    "            #记录总共的损失\n",
    "            results['loss'] += loss.item()\n",
    "            #单独记录各项损失，pos,cos,sin,width\n",
    "            for ln, l in lossdict['losses'].items():\n",
    "                if ln not in results['losses']:\n",
    "                    results['losses'][ln] = 0\n",
    "                results['losses'][ln] += l.item()\n",
    "            \n",
    "            #反向传播优化模型\n",
    "            optimizer.zero_grad()\n",
    "            loss.backward()\n",
    "            optimizer.step()\n",
    "        \n",
    "        #计算总共的平均损失\n",
    "        results['loss'] /= batch_idx\n",
    "        \n",
    "        #计算各项的平均损失\n",
    "        for l in results['losses']:\n",
    "            results['losses'][l] /= batch_idx\n",
    "        return results"
   ]
  },
  {
   "cell_type": "code",
   "execution_count": 14,
   "metadata": {},
   "outputs": [],
   "source": [
    "def run():\n",
    "    #获取设备\n",
    "    device = torch.device(\"cuda:0\")\n",
    "    #net = net.to(device)\n",
    "    \n",
    "    #设置优化器\n",
    "    optimizer = optim.Adam(net.parameters())\n",
    "    \n",
    "    #开始主循环\n",
    "    for epoch in range(epochs):\n",
    "        train_results = train(epoch, net, device, dataset, optimizer, batches_per_epoch)"
   ]
  },
  {
   "cell_type": "code",
   "execution_count": 15,
   "metadata": {},
   "outputs": [
    {
     "name": "stdout",
     "output_type": "stream",
     "text": [
      "(300, 300, 3)\n",
      "(298, 300)\n",
      "(298, 300, 3)\n",
      "(300, 300, 3)\n",
      "(300, 300, 3)\n",
      "(300, 300, 3)\n",
      "(300, 300, 3)\n",
      "(300, 300, 3)\n",
      "(300, 300, 3)\n",
      "(300, 300, 3)\n",
      "(300, 300, 3)\n",
      "(300, 300, 3)\n",
      "(300, 300, 3)\n",
      "(300, 300, 3)\n",
      "(300, 300, 3)\n",
      "(300, 300, 3)\n",
      "(300, 300, 3)\n",
      "(300, 300, 3)\n",
      "(300, 300, 3)\n",
      "(300, 300, 3)\n",
      "(300, 300, 3)\n",
      "(300, 300, 3)\n",
      "(300, 300, 3)\n",
      "(300, 300, 3)\n",
      "(300, 300, 3)\n",
      "(300, 300, 3)\n",
      "(300, 300, 3)\n",
      "(300, 300, 3)\n",
      "(300, 300, 3)\n",
      "(300, 300, 3)\n",
      "(300, 300, 3)\n",
      "(300, 300, 3)\n",
      "(300, 300, 3)\n",
      "(300, 300, 3)\n",
      "(300, 300, 3)\n",
      "(300, 300, 3)\n",
      "(300, 300, 3)\n",
      "(300, 300, 3)\n",
      "(300, 300, 3)\n",
      "(300, 300, 3)\n",
      "(300, 300, 3)\n",
      "(300, 300, 3)\n",
      "(300, 300, 3)\n",
      "(253, 300)\n",
      "(253, 300, 3)\n",
      "(300, 300, 3)\n",
      "(300, 300, 3)\n",
      "(300, 300, 3)\n",
      "(300, 300, 3)\n",
      "(300, 300, 3)\n",
      "(300, 300, 3)\n",
      "(285, 300)\n",
      "(285, 300, 3)\n",
      "(300, 300, 3)\n",
      "(300, 300, 3)\n",
      "(300, 300, 3)\n",
      "(300, 300, 3)\n",
      "(300, 300, 3)\n",
      "(300, 300, 3)\n",
      "(300, 300, 3)\n",
      "(300, 300, 3)\n",
      "(300, 300, 3)\n",
      "(300, 300, 3)\n",
      "(300, 300, 3)\n",
      "(300, 300, 3)\n",
      "(300, 300, 3)\n",
      "(300, 300, 3)\n",
      "Epoch: 0, Batch: 2, Loss: 0.8987\n",
      "(300, 300, 3)\n",
      "(300, 300, 3)\n",
      "(300, 300, 3)\n",
      "(300, 300, 3)\n",
      "(300, 300, 3)\n",
      "(300, 300, 3)\n",
      "(300, 300, 3)\n",
      "(300, 300, 3)\n",
      "(300, 300, 3)\n",
      "(300, 300, 3)\n",
      "(300, 300, 3)\n",
      "(300, 300, 3)\n",
      "(300, 300, 3)\n",
      "(300, 300, 3)\n",
      "(281, 300)\n",
      "(281, 300, 3)\n",
      "(300, 300, 3)\n",
      "(292, 300)\n",
      "(292, 300, 3)\n",
      "(300, 300, 3)\n",
      "(300, 300, 3)\n",
      "(300, 300, 3)\n",
      "(300, 300, 3)\n",
      "(300, 300, 3)\n",
      "(300, 300, 3)\n",
      "(300, 300, 3)\n",
      "(300, 300, 3)\n",
      "(300, 300, 3)\n",
      "(300, 300, 3)\n",
      "(300, 300, 3)\n",
      "(300, 300, 3)\n",
      "(300, 300, 3)\n",
      "(300, 300, 3)\n",
      "(300, 300, 3)\n",
      "(300, 300, 3)\n",
      "(300, 300, 3)\n",
      "(300, 300, 3)\n",
      "(300, 300, 3)\n",
      "(300, 300, 3)\n",
      "(300, 300, 3)\n",
      "(300, 300, 3)\n",
      "(300, 300, 3)\n",
      "(300, 300, 3)\n",
      "(300, 300, 3)\n",
      "(300, 300, 3)\n",
      "(300, 300, 3)\n",
      "(300, 300, 3)\n",
      "(300, 300, 3)\n",
      "(300, 300, 3)\n",
      "(300, 300, 3)\n",
      "(300, 300, 3)\n",
      "(300, 300, 3)\n",
      "(300, 300, 3)\n",
      "(300, 300, 3)\n",
      "(300, 300, 3)\n",
      "(300, 300, 3)\n",
      "(300, 300, 3)\n",
      "(300, 300, 3)\n",
      "(300, 300, 3)\n",
      "(300, 300, 3)\n",
      "(300, 300, 3)\n",
      "(300, 300, 3)\n",
      "(300, 300, 3)\n",
      "(300, 300, 3)\n",
      "(300, 300, 3)\n",
      "(300, 300, 3)\n",
      "Epoch: 0, Batch: 4, Loss: 0.8611\n",
      "(300, 300, 3)\n",
      "(300, 300, 3)\n",
      "(300, 300, 3)\n",
      "(300, 300, 3)\n",
      "(300, 300, 3)\n",
      "(300, 300, 3)\n",
      "(300, 300, 3)\n",
      "(300, 300, 3)\n",
      "(300, 300, 3)\n",
      "(300, 300, 3)\n",
      "(300, 300, 3)\n",
      "(300, 300, 3)\n",
      "(300, 300, 3)\n",
      "(300, 300, 3)\n",
      "(0, 300)\n"
     ]
    },
    {
     "ename": "ValueError",
     "evalue": "('Cannot warp empty image with dimensions', (0, 300))",
     "output_type": "error",
     "traceback": [
      "\u001b[0;31m---------------------------------------------------------------------------\u001b[0m",
      "\u001b[0;31mValueError\u001b[0m                                Traceback (most recent call last)",
      "\u001b[0;32m<ipython-input-15-ec9775ede022>\u001b[0m in \u001b[0;36m<module>\u001b[0;34m\u001b[0m\n\u001b[0;32m----> 1\u001b[0;31m \u001b[0mrun\u001b[0m\u001b[0;34m(\u001b[0m\u001b[0;34m)\u001b[0m\u001b[0;34m\u001b[0m\u001b[0;34m\u001b[0m\u001b[0m\n\u001b[0m",
      "\u001b[0;32m<ipython-input-14-6b7b3b09a7b1>\u001b[0m in \u001b[0;36mrun\u001b[0;34m()\u001b[0m\n\u001b[1;32m      9\u001b[0m     \u001b[0;31m#开始主循环\u001b[0m\u001b[0;34m\u001b[0m\u001b[0;34m\u001b[0m\u001b[0;34m\u001b[0m\u001b[0m\n\u001b[1;32m     10\u001b[0m     \u001b[0;32mfor\u001b[0m \u001b[0mepoch\u001b[0m \u001b[0;32min\u001b[0m \u001b[0mrange\u001b[0m\u001b[0;34m(\u001b[0m\u001b[0mepochs\u001b[0m\u001b[0;34m)\u001b[0m\u001b[0;34m:\u001b[0m\u001b[0;34m\u001b[0m\u001b[0;34m\u001b[0m\u001b[0m\n\u001b[0;32m---> 11\u001b[0;31m         \u001b[0mtrain_results\u001b[0m \u001b[0;34m=\u001b[0m \u001b[0mtrain\u001b[0m\u001b[0;34m(\u001b[0m\u001b[0mepoch\u001b[0m\u001b[0;34m,\u001b[0m \u001b[0mnet\u001b[0m\u001b[0;34m,\u001b[0m \u001b[0mdevice\u001b[0m\u001b[0;34m,\u001b[0m \u001b[0mdataset\u001b[0m\u001b[0;34m,\u001b[0m \u001b[0moptimizer\u001b[0m\u001b[0;34m,\u001b[0m \u001b[0mbatches_per_epoch\u001b[0m\u001b[0;34m)\u001b[0m\u001b[0;34m\u001b[0m\u001b[0;34m\u001b[0m\u001b[0m\n\u001b[0m",
      "\u001b[0;32m<ipython-input-13-29718055fa8c>\u001b[0m in \u001b[0;36mtrain\u001b[0;34m(epoch, net, device, train_data, optimizer, batches_per_epoch)\u001b[0m\n\u001b[1;32m     25\u001b[0m     \u001b[0;31m#开始样本训练迭代\u001b[0m\u001b[0;34m\u001b[0m\u001b[0;34m\u001b[0m\u001b[0;34m\u001b[0m\u001b[0m\n\u001b[1;32m     26\u001b[0m     \u001b[0;32mwhile\u001b[0m \u001b[0mbatch_idx\u001b[0m \u001b[0;34m<\u001b[0m \u001b[0mbatches_per_epoch\u001b[0m\u001b[0;34m:\u001b[0m\u001b[0;34m\u001b[0m\u001b[0;34m\u001b[0m\u001b[0m\n\u001b[0;32m---> 27\u001b[0;31m         \u001b[0;32mfor\u001b[0m \u001b[0mx\u001b[0m\u001b[0;34m,\u001b[0m \u001b[0my\u001b[0m \u001b[0;32min\u001b[0m \u001b[0mtrain_data\u001b[0m\u001b[0;34m:\u001b[0m\u001b[0;34m\u001b[0m\u001b[0;34m\u001b[0m\u001b[0m\n\u001b[0m\u001b[1;32m     28\u001b[0m             \u001b[0mbatch_idx\u001b[0m \u001b[0;34m+=\u001b[0m \u001b[0;36m1\u001b[0m\u001b[0;34m\u001b[0m\u001b[0;34m\u001b[0m\u001b[0m\n\u001b[1;32m     29\u001b[0m             \u001b[0;32mif\u001b[0m \u001b[0mbatch_idx\u001b[0m \u001b[0;34m>=\u001b[0m \u001b[0mbatches_per_epoch\u001b[0m\u001b[0;34m:\u001b[0m\u001b[0;34m\u001b[0m\u001b[0;34m\u001b[0m\u001b[0m\n",
      "\u001b[0;32m~/anaconda3/envs/gg_cnn/lib/python3.6/site-packages/torch/utils/data/dataloader.py\u001b[0m in \u001b[0;36m__next__\u001b[0;34m(self)\u001b[0m\n\u001b[1;32m    343\u001b[0m \u001b[0;34m\u001b[0m\u001b[0m\n\u001b[1;32m    344\u001b[0m     \u001b[0;32mdef\u001b[0m \u001b[0m__next__\u001b[0m\u001b[0;34m(\u001b[0m\u001b[0mself\u001b[0m\u001b[0;34m)\u001b[0m\u001b[0;34m:\u001b[0m\u001b[0;34m\u001b[0m\u001b[0;34m\u001b[0m\u001b[0m\n\u001b[0;32m--> 345\u001b[0;31m         \u001b[0mdata\u001b[0m \u001b[0;34m=\u001b[0m \u001b[0mself\u001b[0m\u001b[0;34m.\u001b[0m\u001b[0m_next_data\u001b[0m\u001b[0;34m(\u001b[0m\u001b[0;34m)\u001b[0m\u001b[0;34m\u001b[0m\u001b[0;34m\u001b[0m\u001b[0m\n\u001b[0m\u001b[1;32m    346\u001b[0m         \u001b[0mself\u001b[0m\u001b[0;34m.\u001b[0m\u001b[0m_num_yielded\u001b[0m \u001b[0;34m+=\u001b[0m \u001b[0;36m1\u001b[0m\u001b[0;34m\u001b[0m\u001b[0;34m\u001b[0m\u001b[0m\n\u001b[1;32m    347\u001b[0m         \u001b[0;32mif\u001b[0m \u001b[0mself\u001b[0m\u001b[0;34m.\u001b[0m\u001b[0m_dataset_kind\u001b[0m \u001b[0;34m==\u001b[0m \u001b[0m_DatasetKind\u001b[0m\u001b[0;34m.\u001b[0m\u001b[0mIterable\u001b[0m \u001b[0;32mand\u001b[0m\u001b[0;31m \u001b[0m\u001b[0;31m\\\u001b[0m\u001b[0;34m\u001b[0m\u001b[0;34m\u001b[0m\u001b[0m\n",
      "\u001b[0;32m~/anaconda3/envs/gg_cnn/lib/python3.6/site-packages/torch/utils/data/dataloader.py\u001b[0m in \u001b[0;36m_next_data\u001b[0;34m(self)\u001b[0m\n\u001b[1;32m    383\u001b[0m     \u001b[0;32mdef\u001b[0m \u001b[0m_next_data\u001b[0m\u001b[0;34m(\u001b[0m\u001b[0mself\u001b[0m\u001b[0;34m)\u001b[0m\u001b[0;34m:\u001b[0m\u001b[0;34m\u001b[0m\u001b[0;34m\u001b[0m\u001b[0m\n\u001b[1;32m    384\u001b[0m         \u001b[0mindex\u001b[0m \u001b[0;34m=\u001b[0m \u001b[0mself\u001b[0m\u001b[0;34m.\u001b[0m\u001b[0m_next_index\u001b[0m\u001b[0;34m(\u001b[0m\u001b[0;34m)\u001b[0m  \u001b[0;31m# may raise StopIteration\u001b[0m\u001b[0;34m\u001b[0m\u001b[0;34m\u001b[0m\u001b[0m\n\u001b[0;32m--> 385\u001b[0;31m         \u001b[0mdata\u001b[0m \u001b[0;34m=\u001b[0m \u001b[0mself\u001b[0m\u001b[0;34m.\u001b[0m\u001b[0m_dataset_fetcher\u001b[0m\u001b[0;34m.\u001b[0m\u001b[0mfetch\u001b[0m\u001b[0;34m(\u001b[0m\u001b[0mindex\u001b[0m\u001b[0;34m)\u001b[0m  \u001b[0;31m# may raise StopIteration\u001b[0m\u001b[0;34m\u001b[0m\u001b[0;34m\u001b[0m\u001b[0m\n\u001b[0m\u001b[1;32m    386\u001b[0m         \u001b[0;32mif\u001b[0m \u001b[0mself\u001b[0m\u001b[0;34m.\u001b[0m\u001b[0m_pin_memory\u001b[0m\u001b[0;34m:\u001b[0m\u001b[0;34m\u001b[0m\u001b[0;34m\u001b[0m\u001b[0m\n\u001b[1;32m    387\u001b[0m             \u001b[0mdata\u001b[0m \u001b[0;34m=\u001b[0m \u001b[0m_utils\u001b[0m\u001b[0;34m.\u001b[0m\u001b[0mpin_memory\u001b[0m\u001b[0;34m.\u001b[0m\u001b[0mpin_memory\u001b[0m\u001b[0;34m(\u001b[0m\u001b[0mdata\u001b[0m\u001b[0;34m)\u001b[0m\u001b[0;34m\u001b[0m\u001b[0;34m\u001b[0m\u001b[0m\n",
      "\u001b[0;32m~/anaconda3/envs/gg_cnn/lib/python3.6/site-packages/torch/utils/data/_utils/fetch.py\u001b[0m in \u001b[0;36mfetch\u001b[0;34m(self, possibly_batched_index)\u001b[0m\n\u001b[1;32m     42\u001b[0m     \u001b[0;32mdef\u001b[0m \u001b[0mfetch\u001b[0m\u001b[0;34m(\u001b[0m\u001b[0mself\u001b[0m\u001b[0;34m,\u001b[0m \u001b[0mpossibly_batched_index\u001b[0m\u001b[0;34m)\u001b[0m\u001b[0;34m:\u001b[0m\u001b[0;34m\u001b[0m\u001b[0;34m\u001b[0m\u001b[0m\n\u001b[1;32m     43\u001b[0m         \u001b[0;32mif\u001b[0m \u001b[0mself\u001b[0m\u001b[0;34m.\u001b[0m\u001b[0mauto_collation\u001b[0m\u001b[0;34m:\u001b[0m\u001b[0;34m\u001b[0m\u001b[0;34m\u001b[0m\u001b[0m\n\u001b[0;32m---> 44\u001b[0;31m             \u001b[0mdata\u001b[0m \u001b[0;34m=\u001b[0m \u001b[0;34m[\u001b[0m\u001b[0mself\u001b[0m\u001b[0;34m.\u001b[0m\u001b[0mdataset\u001b[0m\u001b[0;34m[\u001b[0m\u001b[0midx\u001b[0m\u001b[0;34m]\u001b[0m \u001b[0;32mfor\u001b[0m \u001b[0midx\u001b[0m \u001b[0;32min\u001b[0m \u001b[0mpossibly_batched_index\u001b[0m\u001b[0;34m]\u001b[0m\u001b[0;34m\u001b[0m\u001b[0;34m\u001b[0m\u001b[0m\n\u001b[0m\u001b[1;32m     45\u001b[0m         \u001b[0;32melse\u001b[0m\u001b[0;34m:\u001b[0m\u001b[0;34m\u001b[0m\u001b[0;34m\u001b[0m\u001b[0m\n\u001b[1;32m     46\u001b[0m             \u001b[0mdata\u001b[0m \u001b[0;34m=\u001b[0m \u001b[0mself\u001b[0m\u001b[0;34m.\u001b[0m\u001b[0mdataset\u001b[0m\u001b[0;34m[\u001b[0m\u001b[0mpossibly_batched_index\u001b[0m\u001b[0;34m]\u001b[0m\u001b[0;34m\u001b[0m\u001b[0;34m\u001b[0m\u001b[0m\n",
      "\u001b[0;32m~/anaconda3/envs/gg_cnn/lib/python3.6/site-packages/torch/utils/data/_utils/fetch.py\u001b[0m in \u001b[0;36m<listcomp>\u001b[0;34m(.0)\u001b[0m\n\u001b[1;32m     42\u001b[0m     \u001b[0;32mdef\u001b[0m \u001b[0mfetch\u001b[0m\u001b[0;34m(\u001b[0m\u001b[0mself\u001b[0m\u001b[0;34m,\u001b[0m \u001b[0mpossibly_batched_index\u001b[0m\u001b[0;34m)\u001b[0m\u001b[0;34m:\u001b[0m\u001b[0;34m\u001b[0m\u001b[0;34m\u001b[0m\u001b[0m\n\u001b[1;32m     43\u001b[0m         \u001b[0;32mif\u001b[0m \u001b[0mself\u001b[0m\u001b[0;34m.\u001b[0m\u001b[0mauto_collation\u001b[0m\u001b[0;34m:\u001b[0m\u001b[0;34m\u001b[0m\u001b[0;34m\u001b[0m\u001b[0m\n\u001b[0;32m---> 44\u001b[0;31m             \u001b[0mdata\u001b[0m \u001b[0;34m=\u001b[0m \u001b[0;34m[\u001b[0m\u001b[0mself\u001b[0m\u001b[0;34m.\u001b[0m\u001b[0mdataset\u001b[0m\u001b[0;34m[\u001b[0m\u001b[0midx\u001b[0m\u001b[0;34m]\u001b[0m \u001b[0;32mfor\u001b[0m \u001b[0midx\u001b[0m \u001b[0;32min\u001b[0m \u001b[0mpossibly_batched_index\u001b[0m\u001b[0;34m]\u001b[0m\u001b[0;34m\u001b[0m\u001b[0;34m\u001b[0m\u001b[0m\n\u001b[0m\u001b[1;32m     45\u001b[0m         \u001b[0;32melse\u001b[0m\u001b[0;34m:\u001b[0m\u001b[0;34m\u001b[0m\u001b[0;34m\u001b[0m\u001b[0m\n\u001b[1;32m     46\u001b[0m             \u001b[0mdata\u001b[0m \u001b[0;34m=\u001b[0m \u001b[0mself\u001b[0m\u001b[0;34m.\u001b[0m\u001b[0mdataset\u001b[0m\u001b[0;34m[\u001b[0m\u001b[0mpossibly_batched_index\u001b[0m\u001b[0;34m]\u001b[0m\u001b[0;34m\u001b[0m\u001b[0;34m\u001b[0m\u001b[0m\n",
      "\u001b[0;32m~/Documents/github_repository/cornell_dataset/train/cornell_pro.py\u001b[0m in \u001b[0;36m__getitem__\u001b[0;34m(self, idx)\u001b[0m\n\u001b[1;32m    124\u001b[0m         \u001b[0;31m# 载入深度图像\u001b[0m\u001b[0;34m\u001b[0m\u001b[0;34m\u001b[0m\u001b[0;34m\u001b[0m\u001b[0m\n\u001b[1;32m    125\u001b[0m         \u001b[0;32mif\u001b[0m \u001b[0mself\u001b[0m\u001b[0;34m.\u001b[0m\u001b[0minclude_depth\u001b[0m\u001b[0;34m:\u001b[0m\u001b[0;34m\u001b[0m\u001b[0;34m\u001b[0m\u001b[0m\n\u001b[0;32m--> 126\u001b[0;31m             \u001b[0mdepth_img\u001b[0m \u001b[0;34m=\u001b[0m \u001b[0mself\u001b[0m\u001b[0;34m.\u001b[0m\u001b[0mget_depth\u001b[0m\u001b[0;34m(\u001b[0m\u001b[0midx\u001b[0m\u001b[0;34m)\u001b[0m\u001b[0;34m\u001b[0m\u001b[0;34m\u001b[0m\u001b[0m\n\u001b[0m\u001b[1;32m    127\u001b[0m             \u001b[0mx\u001b[0m \u001b[0;34m=\u001b[0m \u001b[0mself\u001b[0m\u001b[0;34m.\u001b[0m\u001b[0mnumpy_to_torch\u001b[0m\u001b[0;34m(\u001b[0m\u001b[0mdepth_img\u001b[0m\u001b[0;34m)\u001b[0m\u001b[0;34m\u001b[0m\u001b[0;34m\u001b[0m\u001b[0m\n\u001b[1;32m    128\u001b[0m         \u001b[0;31m# 载入rgb图像\u001b[0m\u001b[0;34m\u001b[0m\u001b[0;34m\u001b[0m\u001b[0;34m\u001b[0m\u001b[0m\n",
      "\u001b[0;32m~/Documents/github_repository/cornell_dataset/train/cornell_pro.py\u001b[0m in \u001b[0;36mget_depth\u001b[0;34m(self, idx)\u001b[0m\n\u001b[1;32m    102\u001b[0m         \u001b[0mcenter\u001b[0m\u001b[0;34m,\u001b[0m\u001b[0mleft\u001b[0m\u001b[0;34m,\u001b[0m\u001b[0mtop\u001b[0m \u001b[0;34m=\u001b[0m \u001b[0mself\u001b[0m\u001b[0;34m.\u001b[0m\u001b[0m_get_crop_attrs\u001b[0m\u001b[0;34m(\u001b[0m\u001b[0midx\u001b[0m\u001b[0;34m)\u001b[0m\u001b[0;34m\u001b[0m\u001b[0;34m\u001b[0m\u001b[0m\n\u001b[1;32m    103\u001b[0m         \u001b[0mdepth_img\u001b[0m\u001b[0;34m.\u001b[0m\u001b[0mcrop\u001b[0m\u001b[0;34m(\u001b[0m\u001b[0;34m(\u001b[0m\u001b[0mleft\u001b[0m\u001b[0;34m,\u001b[0m\u001b[0mtop\u001b[0m\u001b[0;34m)\u001b[0m\u001b[0;34m,\u001b[0m\u001b[0;34m(\u001b[0m\u001b[0mleft\u001b[0m\u001b[0;34m+\u001b[0m\u001b[0mself\u001b[0m\u001b[0;34m.\u001b[0m\u001b[0moutput_size\u001b[0m\u001b[0;34m,\u001b[0m\u001b[0mtop\u001b[0m\u001b[0;34m+\u001b[0m\u001b[0mself\u001b[0m\u001b[0;34m.\u001b[0m\u001b[0moutput_size\u001b[0m\u001b[0;34m)\u001b[0m\u001b[0;34m)\u001b[0m\u001b[0;34m\u001b[0m\u001b[0;34m\u001b[0m\u001b[0m\n\u001b[0;32m--> 104\u001b[0;31m         \u001b[0mdepth_img\u001b[0m\u001b[0;34m.\u001b[0m\u001b[0mresize\u001b[0m\u001b[0;34m(\u001b[0m\u001b[0;34m(\u001b[0m\u001b[0mself\u001b[0m\u001b[0;34m.\u001b[0m\u001b[0moutput_size\u001b[0m\u001b[0;34m,\u001b[0m \u001b[0mself\u001b[0m\u001b[0;34m.\u001b[0m\u001b[0moutput_size\u001b[0m\u001b[0;34m)\u001b[0m\u001b[0;34m)\u001b[0m\u001b[0;34m\u001b[0m\u001b[0;34m\u001b[0m\u001b[0m\n\u001b[0m\u001b[1;32m    105\u001b[0m \u001b[0;34m\u001b[0m\u001b[0m\n\u001b[1;32m    106\u001b[0m         \u001b[0;32mreturn\u001b[0m \u001b[0mdepth_img\u001b[0m\u001b[0;34m.\u001b[0m\u001b[0mimg\u001b[0m\u001b[0;34m\u001b[0m\u001b[0;34m\u001b[0m\u001b[0m\n",
      "\u001b[0;32m~/Documents/github_repository/cornell_dataset/train/image_pro.py\u001b[0m in \u001b[0;36mresize\u001b[0;34m(self, shape)\u001b[0m\n\u001b[1;32m     60\u001b[0m             \u001b[0;32mreturn\u001b[0m\u001b[0;34m\u001b[0m\u001b[0;34m\u001b[0m\u001b[0m\n\u001b[1;32m     61\u001b[0m         \u001b[0mprint\u001b[0m\u001b[0;34m(\u001b[0m\u001b[0mself\u001b[0m\u001b[0;34m.\u001b[0m\u001b[0mimg\u001b[0m\u001b[0;34m.\u001b[0m\u001b[0mshape\u001b[0m\u001b[0;34m)\u001b[0m\u001b[0;34m\u001b[0m\u001b[0;34m\u001b[0m\u001b[0m\n\u001b[0;32m---> 62\u001b[0;31m         \u001b[0mself\u001b[0m\u001b[0;34m.\u001b[0m\u001b[0mimg\u001b[0m \u001b[0;34m=\u001b[0m \u001b[0mresize\u001b[0m\u001b[0;34m(\u001b[0m\u001b[0mself\u001b[0m\u001b[0;34m.\u001b[0m\u001b[0mimg\u001b[0m\u001b[0;34m,\u001b[0m \u001b[0mshape\u001b[0m\u001b[0;34m,\u001b[0m \u001b[0mpreserve_range\u001b[0m\u001b[0;34m=\u001b[0m\u001b[0;32mTrue\u001b[0m\u001b[0;34m)\u001b[0m\u001b[0;34m.\u001b[0m\u001b[0mastype\u001b[0m\u001b[0;34m(\u001b[0m\u001b[0mself\u001b[0m\u001b[0;34m.\u001b[0m\u001b[0mimg\u001b[0m\u001b[0;34m.\u001b[0m\u001b[0mdtype\u001b[0m\u001b[0;34m)\u001b[0m\u001b[0;34m\u001b[0m\u001b[0;34m\u001b[0m\u001b[0m\n\u001b[0m\u001b[1;32m     63\u001b[0m \u001b[0;34m\u001b[0m\u001b[0m\n\u001b[1;32m     64\u001b[0m \u001b[0;32mclass\u001b[0m \u001b[0mDepthImage\u001b[0m\u001b[0;34m(\u001b[0m\u001b[0mImage\u001b[0m\u001b[0;34m)\u001b[0m\u001b[0;34m:\u001b[0m\u001b[0;34m\u001b[0m\u001b[0;34m\u001b[0m\u001b[0m\n",
      "\u001b[0;32m~/anaconda3/envs/gg_cnn/lib/python3.6/site-packages/skimage/transform/_warps.py\u001b[0m in \u001b[0;36mresize\u001b[0;34m(image, output_shape, order, mode, cval, clip, preserve_range, anti_aliasing, anti_aliasing_sigma)\u001b[0m\n\u001b[1;32m    176\u001b[0m         out = warp(image, tform, output_shape=output_shape, order=order,\n\u001b[1;32m    177\u001b[0m                    \u001b[0mmode\u001b[0m\u001b[0;34m=\u001b[0m\u001b[0mmode\u001b[0m\u001b[0;34m,\u001b[0m \u001b[0mcval\u001b[0m\u001b[0;34m=\u001b[0m\u001b[0mcval\u001b[0m\u001b[0;34m,\u001b[0m \u001b[0mclip\u001b[0m\u001b[0;34m=\u001b[0m\u001b[0mclip\u001b[0m\u001b[0;34m,\u001b[0m\u001b[0;34m\u001b[0m\u001b[0;34m\u001b[0m\u001b[0m\n\u001b[0;32m--> 178\u001b[0;31m                    preserve_range=preserve_range)\n\u001b[0m\u001b[1;32m    179\u001b[0m \u001b[0;34m\u001b[0m\u001b[0m\n\u001b[1;32m    180\u001b[0m     \u001b[0;32melse\u001b[0m\u001b[0;34m:\u001b[0m  \u001b[0;31m# n-dimensional interpolation\u001b[0m\u001b[0;34m\u001b[0m\u001b[0;34m\u001b[0m\u001b[0m\n",
      "\u001b[0;32m~/anaconda3/envs/gg_cnn/lib/python3.6/site-packages/skimage/transform/_warps.py\u001b[0m in \u001b[0;36mwarp\u001b[0;34m(image, inverse_map, map_args, output_shape, order, mode, cval, clip, preserve_range)\u001b[0m\n\u001b[1;32m    826\u001b[0m     \u001b[0;32mif\u001b[0m \u001b[0mimage\u001b[0m\u001b[0;34m.\u001b[0m\u001b[0msize\u001b[0m \u001b[0;34m==\u001b[0m \u001b[0;36m0\u001b[0m\u001b[0;34m:\u001b[0m\u001b[0;34m\u001b[0m\u001b[0;34m\u001b[0m\u001b[0m\n\u001b[1;32m    827\u001b[0m         raise ValueError(\"Cannot warp empty image with dimensions\",\n\u001b[0;32m--> 828\u001b[0;31m                          image.shape)\n\u001b[0m\u001b[1;32m    829\u001b[0m \u001b[0;34m\u001b[0m\u001b[0m\n\u001b[1;32m    830\u001b[0m     \u001b[0morder\u001b[0m \u001b[0;34m=\u001b[0m \u001b[0m_validate_interpolation_order\u001b[0m\u001b[0;34m(\u001b[0m\u001b[0mimage\u001b[0m\u001b[0;34m.\u001b[0m\u001b[0mdtype\u001b[0m\u001b[0;34m,\u001b[0m \u001b[0morder\u001b[0m\u001b[0;34m)\u001b[0m\u001b[0;34m\u001b[0m\u001b[0;34m\u001b[0m\u001b[0m\n",
      "\u001b[0;31mValueError\u001b[0m: ('Cannot warp empty image with dimensions', (0, 300))"
     ]
    }
   ],
   "source": [
    "run()"
   ]
  },
  {
   "cell_type": "markdown",
   "metadata": {},
   "source": [
    "这边训练的时候，一开始没问题，后面报了这个错误，说是维度不匹配，有的图是[4,299,300]，这就说明是裁剪那块出了问题，上网查了一下也没什么结果，不过好在这是复现，ggcnn那边没报错，就说明它肯定是解决了这个问题的，cornell_data里面的get_depth和git_rgb有个resize函数，估计是解决这个问题的，我拿来试试"
   ]
  },
  {
   "cell_type": "markdown",
   "metadata": {},
   "source": [
    "果然解决了，不过又报了一个新的错误：'Cannot warp empty image with dimensions', (0, 300))"
   ]
  }
 ],
 "metadata": {
  "kernelspec": {
   "display_name": "Python 3",
   "language": "python",
   "name": "python3"
  },
  "language_info": {
   "codemirror_mode": {
    "name": "ipython",
    "version": 3
   },
   "file_extension": ".py",
   "mimetype": "text/x-python",
   "name": "python",
   "nbconvert_exporter": "python",
   "pygments_lexer": "ipython3",
   "version": "3.6.10"
  }
 },
 "nbformat": 4,
 "nbformat_minor": 4
}
