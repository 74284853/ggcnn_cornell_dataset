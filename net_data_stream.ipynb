{
 "cells": [
  {
   "cell_type": "markdown",
   "metadata": {},
   "source": [
    "# 建立明确网络和损失的输出输出流以及损失的计算定义\n",
    "- by 刘道会\n",
    "- 2020-08 于重庆大学"
   ]
  },
  {
   "cell_type": "markdown",
   "metadata": {},
   "source": [
    "# 1.应当给网络输入什么？\n",
    "输入的肯定是图像信息，但是需要原始的图像信息需要经过一些处理以及格式变换才能作为输出，其实这个过程中维度的变化倒不是很大（可能会resize），主要是经过处理后的图像所包含的信息的一些处理。\n",
    "\n",
    "因为可能会对图像进行很多操作，添加一些功能之类的，而且我们当然希望这些操作是可拓展的，所以说最好定义一个输入图像的类，然后需要什么功能就在类中为它定义函数，将最终的输出图像作为这个类一个属性，这样操作起来会非常方便。\n",
    "\n",
    "那么，就开始进行这个类的定义吧"
   ]
  },
  {
   "cell_type": "markdown",
   "metadata": {},
   "source": [
    "肯定要建立在之前工作的基础上，所以把前面的代码中要用到的部分copy一份过来"
   ]
  },
  {
   "cell_type": "code",
   "execution_count": 1,
   "metadata": {},
   "outputs": [],
   "source": [
    "import os\n",
    "import glob\n",
    "\n",
    "cornell_path = 'cornell'\n",
    "graspf = glob.glob(os.path.join(cornell_path,'*','pcd*cpos.txt'))\n",
    "graspf.sort()\n",
    "\n",
    "rgbf = [filename.replace('cpos.txt','r.png') for filename in graspf]\n",
    "depthf = [filename.replace('cpos.txt','d.tiff') for filename in graspf]\n"
   ]
  },
  {
   "cell_type": "code",
   "execution_count": 2,
   "metadata": {},
   "outputs": [],
   "source": [
    "import cv2\n",
    "import numpy as np\n",
    "\n",
    "class Image:\n",
    "    '''定义一个图像类，主要功能是将原始的图像输入转化为适合网络训练的格式并根据图像处理需求完成一些其他功能'''\n",
    "    def __init__(self,img):\n",
    "        '''\n",
    "        :功能 :类初始化函数\n",
    "        :参数 :ndarray,原始图像\n",
    "        '''\n",
    "        self.img = img\n",
    "    \n",
    "    @classmethod #注意，使用cls的时候要在该函数前面加装饰器声明\n",
    "    def from_file(cls,file_path):\n",
    "        '''\n",
    "        :功能           : 从原始图片的路径对其进行载入\n",
    "        :参数 file_path : str,原始图像所在的路径\n",
    "        :返回 class     : 由指定路径的原始图片实例化的Image类\n",
    "        :备注           : 这里用到的cls方法要学习一下\n",
    "        '''\n",
    "        return cls(cv2.imread(file_path))"
   ]
  },
  {
   "cell_type": "markdown",
   "metadata": {},
   "source": [
    "上面这就完成了这个类的基本定义，下面对它的两种初始化方法进行测试："
   ]
  },
  {
   "cell_type": "code",
   "execution_count": 3,
   "metadata": {},
   "outputs": [
    {
     "name": "stdout",
     "output_type": "stream",
     "text": [
      "(480, 640, 3)\n",
      "(480, 640, 3)\n",
      "[[[ True  True  True]\n",
      "  [ True  True  True]\n",
      "  [ True  True  True]\n",
      "  ...\n",
      "  [ True  True  True]\n",
      "  [ True  True  True]\n",
      "  [ True  True  True]]\n",
      "\n",
      " [[ True  True  True]\n",
      "  [ True  True  True]\n",
      "  [ True  True  True]\n",
      "  ...\n",
      "  [ True  True  True]\n",
      "  [ True  True  True]\n",
      "  [ True  True  True]]\n",
      "\n",
      " [[ True  True  True]\n",
      "  [ True  True  True]\n",
      "  [ True  True  True]\n",
      "  ...\n",
      "  [ True  True  True]\n",
      "  [ True  True  True]\n",
      "  [ True  True  True]]\n",
      "\n",
      " ...\n",
      "\n",
      " [[ True  True  True]\n",
      "  [ True  True  True]\n",
      "  [ True  True  True]\n",
      "  ...\n",
      "  [ True  True  True]\n",
      "  [ True  True  True]\n",
      "  [ True  True  True]]\n",
      "\n",
      " [[ True  True  True]\n",
      "  [ True  True  True]\n",
      "  [ True  True  True]\n",
      "  ...\n",
      "  [ True  True  True]\n",
      "  [ True  True  True]\n",
      "  [ True  True  True]]\n",
      "\n",
      " [[ True  True  True]\n",
      "  [ True  True  True]\n",
      "  [ True  True  True]\n",
      "  ...\n",
      "  [ True  True  True]\n",
      "  [ True  True  True]\n",
      "  [ True  True  True]]]\n"
     ]
    }
   ],
   "source": [
    "#第一种方法，直接传入原始图像来初始化\n",
    "img = cv2.imread(rgbf[0])\n",
    "\n",
    "class1 = Image(img)\n",
    "class2 = Image.from_file(rgbf[0])\n",
    "\n",
    "print(class1.img.shape)\n",
    "print(class2.img.shape)\n",
    "      \n",
    "print(class1.img == class2.img)"
   ]
  },
  {
   "cell_type": "markdown",
   "metadata": {},
   "source": [
    "下面为其添加一些需要用到的预处理操作"
   ]
  },
  {
   "cell_type": "code",
   "execution_count": 4,
   "metadata": {},
   "outputs": [],
   "source": [
    "#import cv2 #这块本来是用cv2.imread来做读取的，后面发现读不了tiff，所以就改用imageio了\n",
    "from imageio import imread\n",
    "import numpy as np\n",
    "\n",
    "class Image:\n",
    "    '''定义一个图像类，主要功能是将原始的图像输入转化为适合网络训练的格式并根据图像处理需求完成一些其他功能'''\n",
    "    def __init__(self,img):\n",
    "        '''\n",
    "        :功能 :类初始化函数\n",
    "        :参数 :ndarray,原始图像\n",
    "        '''\n",
    "        self.img = img\n",
    "    \n",
    "    @classmethod\n",
    "    def from_file(cls,file_path):\n",
    "        '''\n",
    "        :功能           : 从原始图片的路径对其进行载入\n",
    "        :参数 file_path : str,原始图像所在的路径\n",
    "        :返回 class     : 由指定路径的原始图片实例化的Image类\n",
    "        :备注           : 这里用到的cls方法要学习一下\n",
    "        '''\n",
    "        return cls(imread(file_path))\n",
    "    \n",
    "    def img_format(self):\n",
    "        '''\n",
    "        :功能 :将原始图像转换为指定格式\n",
    "        '''\n",
    "        pass\n",
    "    \n",
    "    def normalize(self):\n",
    "        '''\n",
    "        :功能 :将图像像素值标准化至[0,1]范围\n",
    "        '''\n",
    "        self.img = self.img.astype('float32')/255.0\n",
    "        self.img = self.img-self.img.mean()\n",
    "        \n",
    "    def crop(self):\n",
    "        '''\n",
    "        :功能 :对图像进行裁剪操作\n",
    "        '''\n",
    "        pass"
   ]
  },
  {
   "cell_type": "code",
   "execution_count": 5,
   "metadata": {},
   "outputs": [
    {
     "name": "stdout",
     "output_type": "stream",
     "text": [
      "标准化之前均值为170.608\n",
      "标准化之前最大值为251，最小值为1\n",
      "标准化之后均值为0.000\n",
      "标准化之后最大值为0.315，最小值为-0.665\n"
     ]
    }
   ],
   "source": [
    "#测试标准化函数的功能：\n",
    "\n",
    "rgbclass = Image.from_file(rgbf[0])\n",
    "\n",
    "print('标准化之前均值为%.3f' % rgbclass.img.mean())\n",
    "print('标准化之前最大值为%d，最小值为%d' % (rgbclass.img.max(),rgbclass.img.min()))\n",
    "\n",
    "rgbclass.normalize()\n",
    "\n",
    "print('标准化之后均值为%.3f' % rgbclass.img.mean())\n",
    "print('标准化之后最大值为%.3f，最小值为%.3f' % (rgbclass.img.max(),rgbclass.img.min()))"
   ]
  },
  {
   "cell_type": "code",
   "execution_count": 6,
   "metadata": {},
   "outputs": [
    {
     "name": "stdout",
     "output_type": "stream",
     "text": [
      "(480, 640, 3)\n"
     ]
    }
   ],
   "source": [
    "print(rgbclass.img.shape)"
   ]
  },
  {
   "cell_type": "markdown",
   "metadata": {},
   "source": [
    "到此预处理结束，图像信息就可以作为网络的输入信息了。"
   ]
  },
  {
   "cell_type": "markdown",
   "metadata": {},
   "source": [
    "然后仿照着这个再给深度图写一个载入的类"
   ]
  },
  {
   "cell_type": "code",
   "execution_count": 7,
   "metadata": {},
   "outputs": [],
   "source": [
    "class DepthImage(Image):\n",
    "    '''深度图像类，读取，载入，正则等预处理都是一样的，后面可能会添加一些针对深度图的专属处理功能'''\n",
    "    def __init__(self,img):\n",
    "        super(DepthImage,self).__init__(img)\n",
    "        \n",
    "    @classmethod\n",
    "    def from_file(cls,file_path):\n",
    "        '''\n",
    "        :功能           : 从原始图片的路径对其进行载入\n",
    "        :参数 file_path : str,原始图像所在的路径\n",
    "        :返回 class     : 由指定路径的原始图片实例化的Image类\n",
    "        :备注           : 这里用到的cls方法要学习一下\n",
    "        '''\n",
    "        return cls(imread(file_path))\n",
    "    \n",
    "    def normalize(self):\n",
    "        '''\n",
    "        :功能 :将图像像素值标准化至[0,1]范围\n",
    "        '''\n",
    "        self.img = self.img.astype('float32')/255.0\n",
    "        self.img = self.img-self.img.mean()"
   ]
  },
  {
   "cell_type": "code",
   "execution_count": 8,
   "metadata": {},
   "outputs": [],
   "source": [
    "a = DepthImage.from_file(depthf[0])"
   ]
  },
  {
   "cell_type": "code",
   "execution_count": 9,
   "metadata": {},
   "outputs": [
    {
     "data": {
      "text/plain": [
       "(480, 640)"
      ]
     },
     "execution_count": 9,
     "metadata": {},
     "output_type": "execute_result"
    }
   ],
   "source": [
    "a.img.shape"
   ]
  },
  {
   "cell_type": "markdown",
   "metadata": {},
   "source": [
    "# 2.如何设置网络的输出参数？\n",
    "网络的输出肯定是根据设置的表征参数来做的，也就是你怎么去定义一个抓取，比如这里的抓取通常使用五维信息参数（x,y,$\\theta$,width,h）h这个参数没什么意思，就是夹爪的指宽度，所以关键的信息就是四个（x,y,$\\theta$,width），我们选择这四个参数来确定一个抓取，而网络最终的预测输出要是一个抓取，那么网络最终的预测输出值就应该是这几个值的预测结果。所以，需要将现有的标注信息转化为本方法中所选择表征方法的几个参数，同时，对图像进行预处理做数据增强时应该保证这些标注也同步进行处理，因此，最好也定义一个类来对数据进行处理，功能就是将现有的标注转化为所需要的标注，同时，要有一些预处理的操作。\n",
    "\n",
    "表征抓取的方法如下图所示：\n",
    "![nihao](images/5parameters.png)"
   ]
  },
  {
   "cell_type": "markdown",
   "metadata": {},
   "source": [
    "首先还是一个一个地来，定义一个类，输入为一个抓取框的四个角点（每个点有两个坐标，所以共八个数据）信息，然后功能就是从这些点的坐标中提取出想要的信息。\n",
    "\n",
    "后面程序中所用到的(x0,y0)即对应图中的右上角点"
   ]
  },
  {
   "cell_type": "markdown",
   "metadata": {},
   "source": [
    "为了方便处理，这个类的输入设置为角点的坐标信息，要经过一步预先的提取，这一步上次的程序已经做过了，这里直接复制过来"
   ]
  },
  {
   "cell_type": "code",
   "execution_count": 10,
   "metadata": {},
   "outputs": [],
   "source": [
    "def str2num(point):\n",
    "    '''\n",
    "    :功能  :将字符串类型存储的抓取框脚点坐标取整并以元组形式返回\n",
    "    \n",
    "    :参数  :point,字符串，以字符串形式存储的一个点的坐标\n",
    "    :返回值 :列表，包含int型抓取点数据的列表[x,y]\n",
    "    '''\n",
    "    x,y = point.split()\n",
    "    x,y = int(round(float(x))),int(round(float(y)))\n",
    "    \n",
    "    return np.array([x,y])\n",
    "\n",
    "def get_rectangles(cornell_grasp_file):\n",
    "    '''\n",
    "    :功能  :从抓取文件中提取抓取框的坐标信息\n",
    "    \n",
    "    :参数  :cornell_grap_file:字符串，指向某个抓取文件的路径\n",
    "    :返回值 :列表，包含各个抓取矩形数据的列表\n",
    "    '''\n",
    "    grasp_rectangles = []\n",
    "    with open(cornell_grasp_file,'r') as f:\n",
    "        while True:\n",
    "            grasp_rectangle = []\n",
    "            point0 = f.readline().strip()\n",
    "            if not point0:\n",
    "                break\n",
    "            point1,point2,point3 = f.readline().strip(),f.readline().strip(),f.readline().strip()\n",
    "            grasp_rectangle = np.array([str2num(point0),\n",
    "                               str2num(point1),\n",
    "                               str2num(point2),\n",
    "                               str2num(point3)])\n",
    "            grasp_rectangles.append(grasp_rectangle)\n",
    "    \n",
    "    return grasp_rectangles\n"
   ]
  },
  {
   "cell_type": "code",
   "execution_count": 11,
   "metadata": {},
   "outputs": [
    {
     "name": "stdout",
     "output_type": "stream",
     "text": [
      "<class 'numpy.ndarray'>\n",
      "(4, 2)\n",
      "[[253 320]\n",
      " [309 324]\n",
      " [307 350]\n",
      " [251 346]]\n"
     ]
    }
   ],
   "source": [
    "#测试一下这个程序的功能是否符合预期\n",
    "\n",
    "rectangles0 = get_rectangles(graspf[0])\n",
    "\n",
    "print(type(rectangles0[0]))\n",
    "print(rectangles0[0].shape)\n",
    "print(rectangles0[0])\n",
    "\n",
    "#这里可以看出，rectangles0中的每个元素都是我们需要的一个四个点数据"
   ]
  },
  {
   "cell_type": "markdown",
   "metadata": {},
   "source": [
    "下面开始抓取框处理类的定义"
   ]
  },
  {
   "cell_type": "code",
   "execution_count": 12,
   "metadata": {},
   "outputs": [],
   "source": [
    "import numpy as np\n",
    "\n",
    "class Grasp:\n",
    "    '''定义一个抓取框处理类，主要功能是将原始的抓取框标注信息转化为训练所定义的表征信息，如中心位置，面积角度等，并根据图像处理需求完成一些相应的其他功能'''\n",
    "    def __init__(self,points):\n",
    "        '''\n",
    "        :功能        : 类初始化函数\n",
    "        :参数 points : 2darry,定义一个抓取框的四个角点坐标信息[[x1,y1],[x2,y2],[x3,y3],[x4,x4]]\n",
    "        '''\n",
    "        self.points = points"
   ]
  },
  {
   "cell_type": "code",
   "execution_count": 13,
   "metadata": {},
   "outputs": [],
   "source": [
    "gr = Grasp(rectangles0[0])"
   ]
  },
  {
   "cell_type": "code",
   "execution_count": 14,
   "metadata": {},
   "outputs": [
    {
     "data": {
      "text/plain": [
       "array([[253, 320],\n",
       "       [309, 324],\n",
       "       [307, 350],\n",
       "       [251, 346]])"
      ]
     },
     "execution_count": 14,
     "metadata": {},
     "output_type": "execute_result"
    }
   ],
   "source": [
    "gr.points"
   ]
  },
  {
   "cell_type": "markdown",
   "metadata": {},
   "source": [
    "首先计算抓取矩形框中心坐标，也就是计算这四个点的x均值和y均值，这个通过一行代码就可以实现\n"
   ]
  },
  {
   "cell_type": "code",
   "execution_count": 15,
   "metadata": {},
   "outputs": [
    {
     "name": "stdout",
     "output_type": "stream",
     "text": [
      "[280 335]\n"
     ]
    }
   ],
   "source": [
    "center = np.mean(gr.points,axis = 0).astype(np.int)\n",
    "print(center) "
   ]
  },
  {
   "cell_type": "markdown",
   "metadata": {},
   "source": [
    "然后计算抓取框的宽度（对应二指夹爪张开的宽度），只需要计算出对边的长度就行了，这里在前面实验的时候发现第一个点(x0,y0)到第二个点(x1,y1)，第三个点到第四个点代表的就是我们想要的机械爪张开宽度，所以，直接计算即可"
   ]
  },
  {
   "cell_type": "code",
   "execution_count": 16,
   "metadata": {},
   "outputs": [
    {
     "name": "stdout",
     "output_type": "stream",
     "text": [
      "56.142675390472796\n"
     ]
    }
   ],
   "source": [
    "x0,y0 = gr.points[0][0],gr.points[0][1]\n",
    "x1,y1 = gr.points[1][0],gr.points[1][1]\n",
    "\n",
    "dx = x0-x1\n",
    "dy = y0-y1\n",
    "\n",
    "width = np.sqrt(dx**2+dy**2)\n",
    "\n",
    "print(width)"
   ]
  },
  {
   "cell_type": "markdown",
   "metadata": {},
   "source": [
    "然后是抓取框的长度，虽然没什么用，但还是可以计算一下，通过第二个点到第三个点之间的距离计算即可"
   ]
  },
  {
   "cell_type": "code",
   "execution_count": 17,
   "metadata": {},
   "outputs": [
    {
     "name": "stdout",
     "output_type": "stream",
     "text": [
      "26.076809620810597\n"
     ]
    }
   ],
   "source": [
    "x1,y1 = gr.points[1][0],gr.points[1][1]\n",
    "x2,y2 = gr.points[2][0],gr.points[2][1]\n",
    "\n",
    "dx = x2-x1\n",
    "dy = y2-y1\n",
    "\n",
    "length = np.sqrt(dx**2+dy**2)\n",
    "\n",
    "print(length)"
   ]
  },
  {
   "cell_type": "markdown",
   "metadata": {},
   "source": [
    "下面是角度的计算，注意是和水平方向（x轴）的夹角：\n",
    "\n",
    "这里使用np.arctan2来计算夹角，这个函数的好处是可以指定最终角度所在的象限，只需要在输入值上给上符号就行了，但注意应该把y放在前面，比如（+y,+x）代表第一象限，（-y,+x）代表第四象限，具体可以参照这个网址：https://numpy.org/doc/stable/reference/generated/numpy.arctan2.html"
   ]
  },
  {
   "cell_type": "markdown",
   "metadata": {},
   "source": [
    "由图，计算这个角，还是用第一个点和第二个点的数据，这里我可以确定第一个点和第二个点连成的线是一条代表夹爪张开宽度的线，但具体在那边并不能确定，因为这一点在标注的时候他们就没有注意，如下图所示，这是不画出最后一条线的抓取矩形的效果，可以一定程度上反映出抓取框标注的顺序。\n",
    "![抓取框可视化](images/uncomplete_label.png)\n",
    "\n",
    "\n",
    "此外，关于角度，即使是和x轴的夹角，同一个条线也会两个不同的结果，但是这两个角是等价的，所以取其一便好，选择与x轴正方向的夹角即可，下面的这行代码的意思就是，计算出最终的角度并将其角度转换为了与x轴正方向所成的锐角，我直接从gg-cnn中摘抄过来了。"
   ]
  },
  {
   "cell_type": "code",
   "execution_count": 18,
   "metadata": {},
   "outputs": [
    {
     "name": "stdout",
     "output_type": "stream",
     "text": [
      "-0.07130746478529026\n"
     ]
    }
   ],
   "source": [
    "x0,y0 = gr.points[0][0],gr.points[0][1]\n",
    "x1,y1 = gr.points[1][0],gr.points[1][1]\n",
    "\n",
    "dx = x0-x1\n",
    "dy = y0-y1\n",
    "\n",
    "#我觉得这个地方给y加个负号是没有意义的，因为如上图所示，标注的情况是有很多种的，你也不知道最终dy是正是负，最后只要保证预测和标注处理方法一致就行了，当然，也可能作者有什么高见我没看懂。\n",
    "#angle = ((np.arctan2(-dy,dx) + np.pi/2) % np.pi - np.pi/2)/np.pi*180 如果要输出角度制的话就用这行代码\n",
    "angle = ((np.arctan2(-dy,dx) + np.pi/2) % np.pi - np.pi/2)\n",
    "print(angle)"
   ]
  },
  {
   "cell_type": "markdown",
   "metadata": {},
   "source": [
    "将第一个样本的标注框可视化后，发现角度确实是一个接近0的负角度，所以结果正确"
   ]
  },
  {
   "cell_type": "markdown",
   "metadata": {},
   "source": [
    "到这，我们用于表征一次抓取的四个参数就都提取出来了，把这几个功能集成到类里面，这块的完整代码如下："
   ]
  },
  {
   "cell_type": "code",
   "execution_count": 19,
   "metadata": {},
   "outputs": [],
   "source": [
    "import numpy as np\n",
    "from skimage.draw import polygon\n",
    "\n",
    "\n",
    "class Grasp:\n",
    "    '''定义一个抓取框处理类，主要功能是将由四个角点坐标定义的原始的抓取框提取转化为训练所定义的表征信息，如中心位置，面积角度等，并根据图像处理需求完成一些相应的其他功能'''\n",
    "    def __init__(self,points):\n",
    "        '''\n",
    "        :功能        : 类初始化函数\n",
    "        :参数 points : 2darry,定义一个抓取框的四个角点坐标信息[[x1,y1],[x2,y2],[x3,y3],[x4,x4]]\n",
    "        '''\n",
    "        self.points = points\n",
    "       \n",
    "    @property#类装饰器，可以让一个类的方法以属性的方式被调用\n",
    "    def center(self):\n",
    "        '''\n",
    "        :功能          : 计算本类中所包含的抓取框的中心点\n",
    "        :返回 1darray  : 本类所包含抓取框的中心点array[x,y]\n",
    "        '''\n",
    "        center = np.mean(self.points,axis = 0).astype(np.int)\n",
    "        return center\n",
    "    \n",
    "    @property\n",
    "    def width(self):\n",
    "        '''\n",
    "        :功能          : 计算本类中所包含的抓取框手指张开宽度width\n",
    "        :返回 1darray  : 本类所包含抓取框的长度[width]\n",
    "        '''\n",
    "        #第二个点和第三个点之间的间距长度\n",
    "        dx = self.points[0][0] - self.points[1][0]\n",
    "        dy = self.points[0][1] - self.points[1][1]\n",
    "        \n",
    "        return np.sqrt(dx**2+dy**2)\n",
    "    \n",
    "    @property\n",
    "    def length(self):\n",
    "        '''\n",
    "        :功能          : 计算本类中所包含的抓取框长度(手指张开宽度width的邻边)\n",
    "        :返回 1darray  : 本类所包含抓取框的长度[length]\n",
    "        '''\n",
    "        #第二个点和第三个点之间的间距长度\n",
    "        dx = self.points[1][0] - self.points[2][0]\n",
    "        dy = self.points[1][1] - self.points[2][1]\n",
    "        \n",
    "        return np.sqrt(dx**2+dy**2)\n",
    "    \n",
    "    @property\n",
    "    def angle(self):\n",
    "        '''\n",
    "        :功能          : 计算本类中所包含的抓取框相对于x轴正方向的偏转角度\n",
    "        :返回 1darray  : 本类所包含抓取框的旋转角度（弧度值）\n",
    "        ''' \n",
    "        \n",
    "        dx = self.points[0][0] - self.points[1][0]\n",
    "        dy = self.points[0][1] - self.points[1][1]\n",
    "        \n",
    "        return (np.arctan2(-dy,dx) + np.pi/2) % np.pi - np.pi/2\n",
    "    \n",
    "    def compact_polygon_coords(self,shape):\n",
    "        '''\n",
    "        :功能          : 计算并返回本抓取矩形内部点的坐标\n",
    "        :参数 shape    : tuple, optional.Image shape which is used to determine the maximum extent of output pixel coordinates.\n",
    "        :返回 ndarray  : rr,cc 本抓取框内部点的行列坐标\n",
    "        ''' \n",
    "        return polygon(self.points[:,0],self.points[:,1],shape)"
   ]
  },
  {
   "cell_type": "code",
   "execution_count": 20,
   "metadata": {},
   "outputs": [],
   "source": [
    "#下面测试定义的模型输出\n",
    "gr = Grasp(rectangles0[0])"
   ]
  },
  {
   "cell_type": "code",
   "execution_count": 21,
   "metadata": {},
   "outputs": [
    {
     "data": {
      "text/plain": [
       "array([280, 335])"
      ]
     },
     "execution_count": 21,
     "metadata": {},
     "output_type": "execute_result"
    }
   ],
   "source": [
    "gr.center"
   ]
  },
  {
   "cell_type": "code",
   "execution_count": 22,
   "metadata": {},
   "outputs": [
    {
     "data": {
      "text/plain": [
       "56.142675390472796"
      ]
     },
     "execution_count": 22,
     "metadata": {},
     "output_type": "execute_result"
    }
   ],
   "source": [
    "gr.width"
   ]
  },
  {
   "cell_type": "code",
   "execution_count": 23,
   "metadata": {},
   "outputs": [
    {
     "data": {
      "text/plain": [
       "26.076809620810597"
      ]
     },
     "execution_count": 23,
     "metadata": {},
     "output_type": "execute_result"
    }
   ],
   "source": [
    "gr.length"
   ]
  },
  {
   "cell_type": "code",
   "execution_count": 24,
   "metadata": {},
   "outputs": [
    {
     "data": {
      "text/plain": [
       "-0.07130746478529026"
      ]
     },
     "execution_count": 24,
     "metadata": {},
     "output_type": "execute_result"
    }
   ],
   "source": [
    "gr.angle"
   ]
  },
  {
   "cell_type": "markdown",
   "metadata": {},
   "source": [
    "有了这些参数之后，如何将其构建成为输出是一个值得考虑的问题，我之前一直想不懂该怎么搞，看了ggcnn之后才明白，是这样的，每个抓取框都是由上面的这几个参数完全定义的，而且抓取框也覆盖了图中的一个矩形范围，那么我就针对每个参数都生成一张映射图，比如一张图就代表角度，没有抓取框的区域，像素值全为0，有抓取框覆盖的区域，像素值就为该抓取框的角度值，这样，就建立了映射关系，前面的工作已经能够读出每个抓取框的各个参数的值，后面要做一个工作，就是把它所在的区域找出来，然后把这些值赋进去，这部分用到了compact_polygon_coords()函数，前面已经定义好了，就是直接使用现有函数，根据四个角点确定一个矩形，该函数（skimage.draw.polygon）可以返回该矩形内部点的坐标，然后直接赋值即可。"
   ]
  },
  {
   "cell_type": "code",
   "execution_count": 25,
   "metadata": {},
   "outputs": [
    {
     "name": "stdout",
     "output_type": "stream",
     "text": [
      "[253 309 307 251]\n",
      "[320 324 350 346]\n"
     ]
    }
   ],
   "source": [
    "print(gr.points[:,0])\n",
    "print(gr.points[:,1])"
   ]
  },
  {
   "cell_type": "markdown",
   "metadata": {},
   "source": [
    "测试一下这个新定义的compact_polygon_coords()函数是否正常工作"
   ]
  },
  {
   "cell_type": "code",
   "execution_count": 56,
   "metadata": {},
   "outputs": [
    {
     "data": {
      "image/png": "[encoded data removed]",
      "text/plain": [
       "<Figure size 432x288 with 2 Axes>"
      ]
     },
     "metadata": {
      "needs_background": "light"
     },
     "output_type": "display_data"
    }
   ],
   "source": [
    "import matplotlib.pyplot as plt\n",
    "import cv2\n",
    "img = np.zeros([300,300])#处理之前这个图的大小就是480*640\n",
    "\n",
    "rr,cc = gr.compact_polygon_coords((300,300))\n",
    "img[cc,rr] = 1.0#不晓得为什么这里我的rr,cc要反过来才对，而gg-cnn里面却没有反，估计是什么地方做了处理吧\n",
    "\n",
    "plt.subplot(211)\n",
    "plt.imshow(img)\n",
    "\n",
    "plt.subplot(212)\n",
    "plt.imshow(cv2.imread(rgbf[0]))\n",
    "\n",
    "plt.show()"
   ]
  },
  {
   "cell_type": "markdown",
   "metadata": {},
   "source": [
    "前面的工作其实已经结束了，做到后面的时候考虑到一个对象肯定是标注了多个抓取框的，而上面的类仅仅能通过四个点去定义一个抓取，出于后续工作方便操作的需求，这里又回来重新定义一个多抓取框类Grasps，能够一次性地从原始标注文件中读出全部的抓取框并生成上面的对象，同时，在这个多抓取框类中写函数的话也方便将同一对象中所包含的多个抓取框的信息融合到一起来作为真实标注。"
   ]
  },
  {
   "cell_type": "code",
   "execution_count": 27,
   "metadata": {},
   "outputs": [],
   "source": [
    "class Grasps:\n",
    "    '''定义一个多抓取框处理类，主要功能是从原始的标注文件中读出多个抓取框并将其构建成多个单一的抓取框Grasp类，同时能够对这些属于同一对象的多个抓取框对象进行一些数据的统一集成处理'''\n",
    "    def __init__(self,grs = None):\n",
    "        '''\n",
    "        :功能     : 多抓取框类初始化函数，功能是将属于一个对象的多个单独的抓取框集成到一个类里面来。\n",
    "        :参数 grs : list,包含一个对象中多个抓取框类的列表\n",
    "        '''\n",
    "        if grs:\n",
    "            self.grs = grs\n",
    "        else:\n",
    "            self.grs = []\n",
    "    \n",
    "    def generate_img(self,pos = True,angle = True,width = True,shape = (480,640)):\n",
    "        '''\n",
    "        :功能       :将本对象的多个的抓取框信息融合并生成指定的映射图，以这种方式返回定义一个抓取的多个参数，包括中心点，角度，宽度\n",
    "        :参数 pos   :bool,是否生成返回位置映射图\n",
    "        :参数 angle :bool,是否生成返回角度映射图\n",
    "        :参数 width :bool,是否生成返回夹爪宽度映射图\n",
    "        :参数 shape :tuple\n",
    "        :返回       :融合本对象的多个抓取框信息的映射图\n",
    "        '''\n",
    "        \n",
    "        if pos:\n",
    "            pos_out = np.zeros(shape)\n",
    "        else:\n",
    "            pos_out = None\n",
    "        if angle:\n",
    "            angle_out = np.zeros(shape)\n",
    "        else:\n",
    "            angle_out = None\n",
    "        if width:\n",
    "            width_out = np.zeros(shape)\n",
    "        else:\n",
    "            width_out = None\n",
    "        \n",
    "        for gr in self.grs:\n",
    "            rr,cc = gr.compact_polygon_coords(shape)#shape的指定还是很重要的，可以考虑图像边界\n",
    "            \n",
    "            if pos:\n",
    "                pos_out[cc,rr] = 1.0\n",
    "            if angle:\n",
    "                angle_out[cc,rr] = gr.angle\n",
    "            if width:\n",
    "                width_out[cc,rr] = gr.width\n",
    "\n",
    "        return pos_out,angle_out,width_out"
   ]
  },
  {
   "cell_type": "markdown",
   "metadata": {},
   "source": [
    "测试一下功能："
   ]
  },
  {
   "cell_type": "code",
   "execution_count": 28,
   "metadata": {},
   "outputs": [],
   "source": [
    "#使用之前定义好的程序从文件中载入抓取框\n",
    "rectangles = get_rectangles(graspf[0])"
   ]
  },
  {
   "cell_type": "code",
   "execution_count": 29,
   "metadata": {},
   "outputs": [],
   "source": [
    "#将多个抓取框先存到一个列表里面，然后用它构建一个刚定义的多抓取框对象\n",
    "grs = []\n",
    "for rectangle in rectangles:\n",
    "    grs.append(Grasp(rectangle))\n",
    "\n",
    "grasps = Grasps(grs)"
   ]
  },
  {
   "cell_type": "code",
   "execution_count": 30,
   "metadata": {
    "scrolled": true
   },
   "outputs": [
    {
     "data": {
      "text/plain": [
       "56.142675390472796"
      ]
     },
     "execution_count": 30,
     "metadata": {},
     "output_type": "execute_result"
    }
   ],
   "source": [
    "grasps.grs[0].width"
   ]
  },
  {
   "cell_type": "code",
   "execution_count": 31,
   "metadata": {},
   "outputs": [],
   "source": [
    "pos_img,angle_img,width_img = grasps.generate_img(shape = (480,640))"
   ]
  },
  {
   "cell_type": "code",
   "execution_count": 32,
   "metadata": {},
   "outputs": [
    {
     "data": {
      "image/png": "[encoded data removed]",
      "text/plain": [
       "<Figure size 432x288 with 4 Axes>"
      ]
     },
     "metadata": {
      "needs_background": "light"
     },
     "output_type": "display_data"
    }
   ],
   "source": [
    "plt.subplot(141)\n",
    "plt.imshow(cv2.imread(rgbf[0]))\n",
    "plt.title('raw_img')\n",
    "\n",
    "plt.subplot(142)\n",
    "plt.imshow(pos_img)\n",
    "plt.title('pos_img')\n",
    "\n",
    "plt.subplot(143)\n",
    "plt.imshow(angle_img)\n",
    "plt.title('angle_img')\n",
    "\n",
    "plt.subplot(144)\n",
    "plt.imshow(width_img)\n",
    "plt.title('width_img')\n",
    "\n",
    "plt.show()"
   ]
  },
  {
   "cell_type": "markdown",
   "metadata": {},
   "source": [
    "上面的方法还是集成度不够，需要先用函数读取框然后再生成类，下面给类添加一个从源文件载入的函数load_from_cornell_files"
   ]
  },
  {
   "cell_type": "code",
   "execution_count": 33,
   "metadata": {},
   "outputs": [],
   "source": [
    "class Grasps:\n",
    "    '''定义一个多抓取框处理类，主要功能是从原始的标注文件中读出多个抓取框并将其构建成多个单一的抓取框Grasp类，同时能够对这些属于同一对象的多个抓取框对象进行一些数据的统一集成处理'''\n",
    "    def __init__(self,grs = None):\n",
    "        '''\n",
    "        :功能     : 多抓取框类初始化函数，功能是将属于一个对象的多个单独的抓取框集成到一个类里面来。\n",
    "        :参数 grs : list,包含一个对象中多个抓取框类的列表\n",
    "        '''\n",
    "        if grs:\n",
    "            self.grs = grs\n",
    "        else:\n",
    "            self.grs = []\n",
    "    \n",
    "    @classmethod\n",
    "    def load_from_cornell_files(cls,cornell_grasp_files):\n",
    "        '''\n",
    "        :功能     : 从一个graspf文件中读取载入多个抓取框并构建成为这个类（其实就是从之前的那个get_rectangles改的）\n",
    "        :参数 grs : list,包含一个对象中多个抓取框类的列表\n",
    "        '''\n",
    "        grasp_rectangles = []\n",
    "        with open(cornell_grasp_files,'r') as f:\n",
    "            while True:\n",
    "                grasp_rectangle = []\n",
    "                point0 = f.readline().strip()\n",
    "                if not point0:\n",
    "                    break\n",
    "                point1,point2,point3 = f.readline().strip(),f.readline().strip(),f.readline().strip()\n",
    "                if point0[0] == 'N':#后面发现有些坐标点坐标是NaN，会报错，这里处理一下，暂时还不晓得gg-cnn里面怎么处理的\n",
    "                    break\n",
    "                grasp_rectangle = np.array([str2num(point0),\n",
    "                               str2num(point1),\n",
    "                               str2num(point2),\n",
    "                               str2num(point3)])\n",
    "                grasp_rectangles.append(Grasp(grasp_rectangle))#找出各个框后就直接用它构造Grasp对象了\n",
    "\n",
    "            return cls(grasp_rectangles)#返回实例化的类\n",
    "        \n",
    "    def generate_img(self,pos = True,angle = True,width = True,shape = (480,640)):\n",
    "        '''\n",
    "        :功能       :将本对象的多个的抓取框信息融合并生成指定的映射图，以这种方式返回定义一个抓取的多个参数，包括中心点，角度，宽度\n",
    "        :参数 pos   :bool,是否生成返回位置映射图\n",
    "        :参数 angle :bool,是否生成返回角度映射图\n",
    "        :参数 width :bool,是否生成返回夹爪宽度映射图\n",
    "        :参数 shape :tuple\n",
    "        :返回       :融合本对象的多个抓取框信息的映射图\n",
    "        '''\n",
    "        \n",
    "        if pos:\n",
    "            pos_out = np.zeros(shape)\n",
    "        else:\n",
    "            pos_out = None\n",
    "        if angle:\n",
    "            angle_out = np.zeros(shape)\n",
    "        else:\n",
    "            angle_out = None\n",
    "        if width:\n",
    "            width_out = np.zeros(shape)\n",
    "        else:\n",
    "            width_out = None\n",
    "        \n",
    "        for gr in self.grs:\n",
    "            rr,cc = gr.compact_polygon_coords(shape)#shape的指定还是很重要的，可以考虑图像边界\n",
    "            \n",
    "            if pos:\n",
    "                pos_out[cc,rr] = 1.0\n",
    "            if angle:\n",
    "                angle_out[cc,rr] = gr.angle\n",
    "            if width:\n",
    "                width_out[cc,rr] = gr.width\n",
    "\n",
    "        return pos_out,angle_out,width_out"
   ]
  },
  {
   "cell_type": "code",
   "execution_count": 34,
   "metadata": {},
   "outputs": [],
   "source": [
    "grasps = Grasps.load_from_cornell_files(graspf[0])"
   ]
  },
  {
   "cell_type": "code",
   "execution_count": 35,
   "metadata": {},
   "outputs": [
    {
     "data": {
      "image/png": "[encoded data removed]",
      "text/plain": [
       "<Figure size 432x288 with 4 Axes>"
      ]
     },
     "metadata": {
      "needs_background": "light"
     },
     "output_type": "display_data"
    }
   ],
   "source": [
    "pos_img,angle_img,width_img = grasps.generate_img(shape = (480,640))\n",
    "plt.subplot(141)\n",
    "plt.imshow(cv2.imread(rgbf[0]))\n",
    "plt.title('raw_img')\n",
    "\n",
    "plt.subplot(142)\n",
    "plt.imshow(pos_img)\n",
    "plt.title('pos_img')\n",
    "\n",
    "plt.subplot(143)\n",
    "plt.imshow(angle_img)\n",
    "plt.title('angle_img')\n",
    "\n",
    "plt.subplot(144)\n",
    "plt.imshow(width_img)\n",
    "plt.title('width_img')\n",
    "\n",
    "plt.show()"
   ]
  },
  {
   "cell_type": "markdown",
   "metadata": {},
   "source": [
    "可以看到，结果输出是一样的，这个类到目前位置就定义完了，Grasp这个类是针对一个抓取框来将其坐标信息提取转化为中心坐标，角度，宽度等信息的，然后Grasps这个类是将输入同一个对象的多个抓取框信息整合的一个类"
   ]
  },
  {
   "cell_type": "markdown",
   "metadata": {},
   "source": [
    "# 3.数据集的封装\n",
    "为了可以更方便地喂入torch的网络，最好使用torh的dataset和dataloader进行封装，这个之前做过一次了，不过用的是Iterable类，这里应该使用map类，不过都差不多，那么就定义一个cornell数据集载入类如下："
   ]
  },
  {
   "cell_type": "code",
   "execution_count": 36,
   "metadata": {},
   "outputs": [],
   "source": [
    "# 这个类的定义过程之前在mnist数据集的过程中已经学得比较明确了，直接照搬流程，确定输入输出即可\n",
    "# 另外，这个地方的一个难点在于，需要将输入和输出都添加封装进来，因为毕竟是数据集嘛，肯定要既有输入也要有target的\n",
    "import torch\n",
    "\n",
    "class Cornell(torch.utils.data.Dataset):\n",
    "    #载入cornell数据集的类\n",
    "    def __init__(self,file_dir,include_depth=True,include_rgb=True,start = 0.0,end = 1.0):\n",
    "        '''\n",
    "        :功能               : 数据集封装类的初始化函数，功能包括数据集读取，数据集划分，其他参数初始化等\n",
    "        :参数 file_dir      : str,按照官方文档的示例和之前的经验，这里需要读入数据集，所以需要指定数据的存放路径\n",
    "        :参数 include_depth : bool,是否包含depth图像输入\n",
    "        :参数 include_rgb   : bool,是否包含rgb图像输入\n",
    "        :参数 start,end     : float,为了方便数据集的拆分，这里定义添加两个边界参数start,end\n",
    "        :返回 None\n",
    "        ''' \n",
    "        super(Cornell,self).__init__()\n",
    "        \n",
    "        #一些参数的传递\n",
    "        self.include_depth = include_depth\n",
    "        self.include_rgb = include_rgb\n",
    "        \n",
    "        #去指定路径载入数据集数据\n",
    "        graspf = glob.glob(os.path.join(file_dir,'*','pcd*cpos.txt'))\n",
    "        graspf.sort()\n",
    "        \n",
    "        \n",
    "        l = len(graspf)\n",
    "        if l == 0:\n",
    "            raise FileNotFoundError('没有查找到数据集，请检查路径{}'.format(file_dir))\n",
    "        \n",
    "        rgbf = [filename.replace('cpos.txt','r.png') for filename in graspf]\n",
    "        depthf = [filename.replace('cpos.txt','d.tiff') for filename in graspf]\n",
    "        \n",
    "        #按照设定的边界参数对数据进行划分并指定为类的属性\n",
    "        self.graspf = graspf[int(l*start):int(l*end)]\n",
    "        self.rgbf = rgbf[int(l*start):int(l*end)]\n",
    "        self.depthf = depthf[int(l*start):int(l*end)]\n",
    "    @staticmethod\n",
    "    def numpy_to_torch(s):\n",
    "        '''\n",
    "        :功能     :将输入的numpy数组转化为torch张量，并指定数据类型，如果数据没有channel维度，就给它加上这个维度\n",
    "        :参数 s   :numpy ndarray,要转换的数组\n",
    "        :返回     :tensor,转换后的torch张量\n",
    "        '''\n",
    "        if len(s.shape) == 2:\n",
    "            return torch.from_numpy(np.expand_dims(s, 0).astype(np.float32))\n",
    "        else:\n",
    "            return torch.from_numpy(s.astype(np.float32))\n",
    "    \n",
    "    def get_rgb(self,idx):\n",
    "        '''\n",
    "        :功能     :读取返回指定id的rgb图像\n",
    "        :参数 idx :int,要读取的数据id\n",
    "        :返回     :ndarray,处理好后的rgb图像\n",
    "        '''\n",
    "        rgb_img = Image.from_file(self.rgbf[idx])\n",
    "        rgb_img.normalize()\n",
    "        \n",
    "        return rgb_img.img\n",
    "    \n",
    "    #因为有时候只输入RGB三通道信息，所以，定义两个返回函数，一个读取RGB一个读取深度\n",
    "    def get_depth(self,idx):\n",
    "        '''\n",
    "        :功能     :读取返回指定id的depth图像\n",
    "        :参数 idx :int,要读取的数据id\n",
    "        :返回     :ndarray,处理好后的depth图像\n",
    "        '''\n",
    "        #目前这个DepthImage类还没有定义，后面仿照Image类给它定义一下\n",
    "        depth_img = DepthImage.from_file(self.depthf[idx])\n",
    "        depth_img.normalize()\n",
    "        \n",
    "        return depth_img.img\n",
    "    \n",
    "    def get_grasp(self,idx):\n",
    "        '''\n",
    "        :功能       :读取返回指定id的抓取标注参数并将多个抓取框的参数返回融合\n",
    "        :参数 idx   :int,要读取的数据id\n",
    "        :参数 pos   :bool,是否生成返回位置映射图\n",
    "        :参数 angle :bool,是否生成返回角度映射图\n",
    "        :参数 width :bool,是否生成返回夹爪宽度映射图\n",
    "        :返回       :以图片的方式返回定义一个抓取的多个参数，包括中心点，角度，宽度和长度\n",
    "        '''\n",
    "        grasp_rectangles = Grasps.load_from_cornell_files(self.graspf[idx])\n",
    "        pos_img,angle_img,width_img = grasp_rectangles.generate_img(shape = (480,640))\n",
    "        \n",
    "        return pos_img,angle_img,width_img\n",
    "    def __getitem__(self,idx):\n",
    "        # 载入深度图像\n",
    "        if self.include_depth:\n",
    "            depth_img = self.get_depth(idx)\n",
    "            x = self.numpy_to_torch(depth_img)\n",
    "        # 载入rgb图像\n",
    "        if self.include_rgb:\n",
    "            rgb_img = self.get_rgb(idx)\n",
    "            #torch是要求channel-first的，检测一下，如果读进来的图片是channel-last就调整一下，ggcnn中目前我没看到在哪调整的，但肯定是做了的\n",
    "            if rgb_img.shape[2] == 3:\n",
    "                rgb_img = np.moveaxis(rgb_img,2,0)\n",
    "            x = self.numpy_to_torch(rgb_img)\n",
    "        if self.include_depth and self.include_rgb:#如果灰度信息和rgb信息都要的话，就把他们堆到一起构成一个四通道的输入，\n",
    "            x = self.numpy_to_torch(\n",
    "                np.concatenate(\n",
    "                    (np.expand_dims(depth_img,0),rgb_img),0\n",
    "                )\n",
    "            )\n",
    "            \n",
    "        # 载入抓取标注参数\n",
    "        pos_img,angle_img,width_img = self.get_grasp(idx)\n",
    "        # 处理一下角度信息，因为这个角度值区间比较大，不怎么好处理，所以用两个三角函数把它映射一下：\n",
    "        cos_img = self.numpy_to_torch(np.cos(2*angle_img))\n",
    "        sin_img = self.numpy_to_torch(np.sin(2*angle_img))\n",
    "        \n",
    "        pos_img = self.numpy_to_torch(pos_img)\n",
    "        \n",
    "        # 限定抓取宽度范围并将其映射到[0,1]\n",
    "        width_img = np.clip(width_img, 0.0, 150.0)/150.0\n",
    "        width_img = self.numpy_to_torch(width_img)\n",
    "        \n",
    "        return x,(pos_img,cos_img,sin_img,width_img)\n",
    "    \n",
    "    #映射类型的数据集，别忘了定义这个函数\n",
    "    def __len__(self):\n",
    "        return len(self.graspf)"
   ]
  },
  {
   "cell_type": "code",
   "execution_count": 37,
   "metadata": {},
   "outputs": [],
   "source": [
    "cornell_data = Cornell('cornell')"
   ]
  },
  {
   "cell_type": "code",
   "execution_count": 38,
   "metadata": {},
   "outputs": [],
   "source": [
    "dataset = torch.utils.data.DataLoader(cornell_data,batch_size = 64)"
   ]
  },
  {
   "cell_type": "code",
   "execution_count": 39,
   "metadata": {},
   "outputs": [
    {
     "name": "stdout",
     "output_type": "stream",
     "text": [
      "torch.Size([64, 4, 480, 640]) torch.Size([64, 1, 480, 640]) torch.Size([64, 1, 480, 640]) torch.Size([64, 1, 480, 640]) torch.Size([64, 1, 480, 640])\n",
      "torch.Size([64, 4, 480, 640]) torch.Size([64, 1, 480, 640]) torch.Size([64, 1, 480, 640]) torch.Size([64, 1, 480, 640]) torch.Size([64, 1, 480, 640])\n",
      "torch.Size([64, 4, 480, 640]) torch.Size([64, 1, 480, 640]) torch.Size([64, 1, 480, 640]) torch.Size([64, 1, 480, 640]) torch.Size([64, 1, 480, 640])\n",
      "torch.Size([64, 4, 480, 640]) torch.Size([64, 1, 480, 640]) torch.Size([64, 1, 480, 640]) torch.Size([64, 1, 480, 640]) torch.Size([64, 1, 480, 640])\n",
      "torch.Size([64, 4, 480, 640]) torch.Size([64, 1, 480, 640]) torch.Size([64, 1, 480, 640]) torch.Size([64, 1, 480, 640]) torch.Size([64, 1, 480, 640])\n",
      "torch.Size([64, 4, 480, 640]) torch.Size([64, 1, 480, 640]) torch.Size([64, 1, 480, 640]) torch.Size([64, 1, 480, 640]) torch.Size([64, 1, 480, 640])\n",
      "torch.Size([64, 4, 480, 640]) torch.Size([64, 1, 480, 640]) torch.Size([64, 1, 480, 640]) torch.Size([64, 1, 480, 640]) torch.Size([64, 1, 480, 640])\n",
      "torch.Size([64, 4, 480, 640]) torch.Size([64, 1, 480, 640]) torch.Size([64, 1, 480, 640]) torch.Size([64, 1, 480, 640]) torch.Size([64, 1, 480, 640])\n",
      "torch.Size([64, 4, 480, 640]) torch.Size([64, 1, 480, 640]) torch.Size([64, 1, 480, 640]) torch.Size([64, 1, 480, 640]) torch.Size([64, 1, 480, 640])\n",
      "torch.Size([64, 4, 480, 640]) torch.Size([64, 1, 480, 640]) torch.Size([64, 1, 480, 640]) torch.Size([64, 1, 480, 640]) torch.Size([64, 1, 480, 640])\n",
      "torch.Size([64, 4, 480, 640]) torch.Size([64, 1, 480, 640]) torch.Size([64, 1, 480, 640]) torch.Size([64, 1, 480, 640]) torch.Size([64, 1, 480, 640])\n",
      "torch.Size([64, 4, 480, 640]) torch.Size([64, 1, 480, 640]) torch.Size([64, 1, 480, 640]) torch.Size([64, 1, 480, 640]) torch.Size([64, 1, 480, 640])\n",
      "torch.Size([64, 4, 480, 640]) torch.Size([64, 1, 480, 640]) torch.Size([64, 1, 480, 640]) torch.Size([64, 1, 480, 640]) torch.Size([64, 1, 480, 640])\n",
      "torch.Size([53, 4, 480, 640]) torch.Size([53, 1, 480, 640]) torch.Size([53, 1, 480, 640]) torch.Size([53, 1, 480, 640]) torch.Size([53, 1, 480, 640])\n"
     ]
    }
   ],
   "source": [
    "for x,y in dataset:\n",
    "    print(x.shape,y[0].shape,y[1].shape,y[2].shape,y[3].shape)"
   ]
  },
  {
   "cell_type": "markdown",
   "metadata": {},
   "source": [
    "从上面的shape看起码是没有问题的"
   ]
  },
  {
   "cell_type": "markdown",
   "metadata": {},
   "source": [
    "# 4.网络模型的建立\n",
    "数据集处理封装完毕之后，问题的关键就到了建立网络模型预测的阶段，相对而言，这块要跑通的话是比较容易的，关键就是效果好不好的问题，网络名称和结构直接照搬GG-CNN的即可，开干。"
   ]
  },
  {
   "cell_type": "code",
   "execution_count": 40,
   "metadata": {},
   "outputs": [],
   "source": [
    "import torch.nn as nn\n",
    "import torch.nn.functional as F\n",
    "\n",
    "#网络参数定义\n",
    "filter_sizes = [32, 16, 8, 8, 16, 32]\n",
    "kernel_sizes = [9, 5, 3, 3, 5, 9]\n",
    "strides = [3, 2, 2, 2, 2, 3]\n",
    "\n",
    "class GGCNN(nn.Module):\n",
    "    #定义抓取预测模型的结构、前向传递过程以及损失计算\n",
    "    \n",
    "    def __init__(self,input_channels = 1):\n",
    "        '''\n",
    "        :功能                  :类初始化函数\n",
    "        :参数 input_channels   :int,输入数据的通道数，1或3或4\n",
    "        :返回                  :None\n",
    "        '''\n",
    "        super(GGCNN,self).__init__()\n",
    "        \n",
    "        #网络结构定义，直接照搬GGCNN 三层卷积三层反卷积\n",
    "        self.conv1 = nn.Conv2d(input_channels,filter_sizes[0],kernel_sizes[0],stride=strides[0],padding=3)\n",
    "        self.conv2 = nn.Conv2d(filter_sizes[0], filter_sizes[1],kernel_sizes[1], stride=strides[1], padding=2)\n",
    "        self.conv3 = nn.Conv2d(filter_sizes[1], filter_sizes[2],kernel_sizes[2], stride=strides[2], padding=1)\n",
    "        \n",
    "        self.convt1 = nn.ConvTranspose2d(filter_sizes[2], filter_sizes[3], kernel_sizes[3], stride=strides[3], padding=1, output_padding=1)\n",
    "        self.convt2 = nn.ConvTranspose2d(filter_sizes[3], filter_sizes[4], kernel_sizes[4], stride=strides[4], padding=2, output_padding=1)\n",
    "        self.convt3 = nn.ConvTranspose2d(filter_sizes[4], filter_sizes[5], kernel_sizes[5], stride=strides[5], padding=3, output_padding=1)\n",
    "        \n",
    "        self.pos_output = nn.Conv2d(filter_sizes[5], 1, kernel_size=2)\n",
    "        self.cos_output = nn.Conv2d(filter_sizes[5], 1, kernel_size=2)\n",
    "        self.sin_output = nn.Conv2d(filter_sizes[5], 1, kernel_size=2)\n",
    "        self.width_output = nn.Conv2d(filter_sizes[5], 1, kernel_size=2)\n",
    "        \n",
    "        #使用Glorot初始化法初始化权重\n",
    "        for m in self.modules():\n",
    "            if isinstance(m, (nn.Conv2d, nn.ConvTranspose2d)):\n",
    "                nn.init.xavier_uniform_(m.weight, gain=1)\n",
    "        \n",
    "    def forward(self, x):\n",
    "        '''\n",
    "        :功能     :前向传播函数\n",
    "        :参数 x   :tensors,一次网络输入\n",
    "        :返回     :tensors，各参数的预测结果\n",
    "        '''\n",
    "        x = F.relu(self.conv1(x))\n",
    "        x = F.relu(self.conv2(x))\n",
    "        x = F.relu(self.conv3(x))\n",
    "        x = F.relu(self.convt1(x))\n",
    "        x = F.relu(self.convt2(x))\n",
    "        x = F.relu(self.convt3(x))\n",
    "\n",
    "        pos_output = self.pos_output(x)\n",
    "        cos_output = self.cos_output(x)\n",
    "        sin_output = self.sin_output(x)\n",
    "        width_output = self.width_output(x)\n",
    "\n",
    "        return pos_output, cos_output, sin_output, width_output\n",
    "\n",
    "    def compute_loss(self, xc, yc):\n",
    "        '''\n",
    "        :功能      :损失计算函数\n",
    "        :参数 xc   :tensors,一次网络输入\n",
    "        :参数 yc   :tensors,网络输入对应真实标注信息\n",
    "        :返回      :dict，各损失和预测结果\n",
    "        '''\n",
    "        y_pos, y_cos, y_sin, y_width = yc\n",
    "        pos_pred, cos_pred, sin_pred, width_pred = self(xc)\n",
    "\n",
    "        p_loss = F.mse_loss(pos_pred, y_pos)\n",
    "        cos_loss = F.mse_loss(cos_pred, y_cos)\n",
    "        sin_loss = F.mse_loss(sin_pred, y_sin)\n",
    "        width_loss = F.mse_loss(width_pred, y_width)\n",
    "\n",
    "        return {\n",
    "            'loss': p_loss + cos_loss + sin_loss + width_loss,\n",
    "            'losses': {\n",
    "                'p_loss': p_loss,\n",
    "                'cos_loss': cos_loss,\n",
    "                'sin_loss': sin_loss,\n",
    "                'width_loss': width_loss\n",
    "            },\n",
    "            'pred': {\n",
    "                'pos': pos_pred,\n",
    "                'cos': cos_pred,\n",
    "                'sin': sin_pred,\n",
    "                'width': width_pred\n",
    "            }\n",
    "        }"
   ]
  },
  {
   "cell_type": "code",
   "execution_count": 41,
   "metadata": {},
   "outputs": [],
   "source": [
    "net = GGCNN(input_channels=4)"
   ]
  },
  {
   "cell_type": "markdown",
   "metadata": {},
   "source": [
    "# 5.如何进行网络的损失计算\n",
    "\n",
    "其实经过前面的所有定义，网络的输入输出已经确定了，理论上说，现在就可以开始训练，计算损失，反向传播优化了，但是，有个问题，就是图像尺度匹配的问题，前面我一路写过来，其实是对ggcnn的程序做了大量删减的，力求基本功能可以实现，图像处理，数据增强等这中我都是删减掉了的，所以说我现在的数据集中的图像，输入图像的长宽还是默认的480*640，没有做任何的修剪增强，输出图像的尺度也是设置的480*640,首先这个输入并不是一个方形就不说了，根据上面的网络参数，最后输出的形状是什么我现在都不能确定，可能是要存在问题的，问题的解决方式也很简单，就是把ggcnn中关于图像裁剪这块的程序添加进来即可，但是呢，本着探索的精神，自己做点工作吧，所以，首先我现在想先测试一下网络的输出"
   ]
  },
  {
   "cell_type": "code",
   "execution_count": 42,
   "metadata": {},
   "outputs": [],
   "source": [
    "#首先准备好一个样本的数据\n",
    "cornell_data = Cornell('cornell')\n",
    "dataset = torch.utils.data.DataLoader(cornell_data,batch_size = 1)\n",
    "for x,y in dataset:\n",
    "    xc = x\n",
    "    yc = y\n",
    "    break"
   ]
  },
  {
   "cell_type": "markdown",
   "metadata": {},
   "source": [
    "检查一下这个输入输出有没得问题"
   ]
  },
  {
   "cell_type": "code",
   "execution_count": 43,
   "metadata": {},
   "outputs": [
    {
     "name": "stdout",
     "output_type": "stream",
     "text": [
      "torch.Size([1, 4, 480, 640])\n",
      "torch.Size([1, 1, 480, 640]) torch.Size([1, 1, 480, 640]) torch.Size([1, 1, 480, 640]) torch.Size([1, 1, 480, 640])\n"
     ]
    }
   ],
   "source": [
    "#先看一下形状\n",
    "print(xc.shape)\n",
    "print(yc[0].shape,yc[1].shape,yc[2].shape,yc[3].shape)"
   ]
  },
  {
   "cell_type": "markdown",
   "metadata": {},
   "source": [
    "看上去没啥问题，再看看内容"
   ]
  },
  {
   "cell_type": "code",
   "execution_count": 44,
   "metadata": {},
   "outputs": [
    {
     "data": {
      "text/plain": [
       "torch.Size([4, 480, 640])"
      ]
     },
     "execution_count": 44,
     "metadata": {},
     "output_type": "execute_result"
    }
   ],
   "source": [
    "xc[0].shape"
   ]
  },
  {
   "cell_type": "code",
   "execution_count": 45,
   "metadata": {},
   "outputs": [
    {
     "data": {
      "text/plain": [
       "(4, 480, 640)"
      ]
     },
     "execution_count": 45,
     "metadata": {},
     "output_type": "execute_result"
    }
   ],
   "source": [
    "xc[0].data.numpy().shape"
   ]
  },
  {
   "cell_type": "code",
   "execution_count": 46,
   "metadata": {},
   "outputs": [
    {
     "name": "stderr",
     "output_type": "stream",
     "text": [
      "Clipping input data to the valid range for imshow with RGB data ([0..1] for floats or [0..255] for integers).\n"
     ]
    },
    {
     "data": {
      "image/png": "[encoded data removed]",
      "text/plain": [
       "<Figure size 432x288 with 2 Axes>"
      ]
     },
     "metadata": {
      "needs_background": "light"
     },
     "output_type": "display_data"
    }
   ],
   "source": [
    "plt.subplot(211)\n",
    "plt.imshow(xc[0][0].data.numpy())\n",
    "plt.subplot(212)\n",
    "plt.imshow(np.moveaxis(xc[0][0:3].data.numpy()*255,0,2))\n",
    "plt.show()"
   ]
  },
  {
   "cell_type": "markdown",
   "metadata": {},
   "source": [
    "能可视化出来说明没太大问题，颜色看着不正常可能是因为正则化的原因。"
   ]
  },
  {
   "cell_type": "code",
   "execution_count": 47,
   "metadata": {},
   "outputs": [
    {
     "data": {
      "text/plain": [
       "torch.Size([1, 480, 640])"
      ]
     },
     "execution_count": 47,
     "metadata": {},
     "output_type": "execute_result"
    }
   ],
   "source": [
    "yc[0][0].shape"
   ]
  },
  {
   "cell_type": "code",
   "execution_count": 48,
   "metadata": {},
   "outputs": [
    {
     "data": {
      "image/png": "[encoded data removed]",
      "text/plain": [
       "<Figure size 432x288 with 4 Axes>"
      ]
     },
     "metadata": {
      "needs_background": "light"
     },
     "output_type": "display_data"
    }
   ],
   "source": [
    "plt.subplot(141)\n",
    "plt.imshow(yc[0][0][0].data.numpy())\n",
    "plt.subplot(142)\n",
    "plt.imshow(yc[1][0][0].data.numpy())\n",
    "plt.subplot(143)\n",
    "plt.imshow(yc[2][0][0].data.numpy())\n",
    "plt.subplot(144)\n",
    "plt.imshow(yc[3][0][0].data.numpy())\n",
    "\n",
    "plt.show()"
   ]
  },
  {
   "cell_type": "markdown",
   "metadata": {},
   "source": [
    "这个看起来也没啥问题"
   ]
  },
  {
   "cell_type": "code",
   "execution_count": 49,
   "metadata": {},
   "outputs": [],
   "source": [
    "#实例化网络\n",
    "net = GGCNN(4)\n",
    "\n",
    "pos,cos,sin,width = net.forward(xc)"
   ]
  },
  {
   "cell_type": "code",
   "execution_count": 50,
   "metadata": {},
   "outputs": [
    {
     "data": {
      "text/plain": [
       "torch.Size([1, 1, 480, 648])"
      ]
     },
     "execution_count": 50,
     "metadata": {},
     "output_type": "execute_result"
    }
   ],
   "source": [
    "pos.shape"
   ]
  },
  {
   "cell_type": "code",
   "execution_count": 51,
   "metadata": {},
   "outputs": [
    {
     "data": {
      "text/plain": [
       "torch.Size([1, 1, 480, 648])"
      ]
     },
     "execution_count": 51,
     "metadata": {},
     "output_type": "execute_result"
    }
   ],
   "source": [
    "cos.shape"
   ]
  },
  {
   "cell_type": "code",
   "execution_count": 52,
   "metadata": {},
   "outputs": [
    {
     "data": {
      "text/plain": [
       "torch.Size([1, 1, 480, 648])"
      ]
     },
     "execution_count": 52,
     "metadata": {},
     "output_type": "execute_result"
    }
   ],
   "source": [
    "sin.shape"
   ]
  },
  {
   "cell_type": "code",
   "execution_count": 53,
   "metadata": {},
   "outputs": [
    {
     "data": {
      "text/plain": [
       "torch.Size([1, 1, 480, 648])"
      ]
     },
     "execution_count": 53,
     "metadata": {},
     "output_type": "execute_result"
    }
   ],
   "source": [
    "width.shape"
   ]
  },
  {
   "cell_type": "markdown",
   "metadata": {},
   "source": [
    "看，这个形状就跟预期想得就不太一样，这样损失的计算肯定就会出问题，解决方式有俩，要么调节网络的参数使得输出匹配，要么调节输入的尺寸让它来经过这个网络之后能输出合适的参数。"
   ]
  },
  {
   "cell_type": "markdown",
   "metadata": {},
   "source": [
    "下面先集成一下之前的这些函数到一个py文件，然后调节好输入输出之后就开始训练"
   ]
  }
 ],
 "metadata": {
  "kernelspec": {
   "display_name": "Python 3",
   "language": "python",
   "name": "python3"
  },
  "language_info": {
   "codemirror_mode": {
    "name": "ipython",
    "version": 3
   },
   "file_extension": ".py",
   "mimetype": "text/x-python",
   "name": "python",
   "nbconvert_exporter": "python",
   "pygments_lexer": "ipython3",
   "version": "3.7.7"
  }
 },
 "nbformat": 4,
 "nbformat_minor": 4
}
