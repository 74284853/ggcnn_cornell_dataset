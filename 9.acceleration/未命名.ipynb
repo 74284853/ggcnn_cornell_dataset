{
 "cells": [
  {
   "cell_type": "markdown",
   "metadata": {},
   "source": [
    "# 训练的提速\n",
    "实际训练后发现，速度没有预想得那么快，打开GPU性能窗口发现大多数时间GPU只是显存占用，算力占用为0,而CPU确实占满了的。\n",
    "[GPU](../images/GPU.png)，经过测试和查阅资料，发现是因为CPU的读取速度过慢导致跟不上GPU的运算，进而使得大部分时间都是消耗在CPU调用数据，GPU都是闲置的，如果只有我的电脑这样倒也没啥，可能说明我的CPU比较垃圾，但是在kaggle上的测试也是这样[kaggle](../images/kaggle.png)，进一步查阅资料和测试发现，合理设置num_workers可以缓解这一问题，不同num_workers的耗时对比见下图[time_consume_w.png](../images/time_consume_w.png),可以看到，训练的时间基本都是稳定的，占比很小，占大头的都是进入和退出for循环和epoch，这个都是CPU读取数据的耗时，下面测试各种优化方法，看看哪种有效。"
   ]
  },
  {
   "cell_type": "markdown",
   "metadata": {},
   "source": [
    "## "
   ]
  }
 ],
 "metadata": {
  "kernelspec": {
   "display_name": "Python 3",
   "language": "python",
   "name": "python3"
  },
  "language_info": {
   "codemirror_mode": {
    "name": "ipython",
    "version": 3
   },
   "file_extension": ".py",
   "mimetype": "text/x-python",
   "name": "python",
   "nbconvert_exporter": "python",
   "pygments_lexer": "ipython3",
   "version": "3.6.10"
  }
 },
 "nbformat": 4,
 "nbformat_minor": 4
}
