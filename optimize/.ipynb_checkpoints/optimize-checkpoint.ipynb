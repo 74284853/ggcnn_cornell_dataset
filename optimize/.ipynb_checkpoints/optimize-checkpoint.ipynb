{
 "cells": [
  {
   "cell_type": "markdown",
   "metadata": {},
   "source": [
    "# 真正的图像增强扩充数据集调优"
   ]
  },
  {
   "cell_type": "markdown",
   "metadata": {},
   "source": [
    "之前的图像处理主要是做了图像的裁剪和平移，这两个操作对于训练来讲可以说是必需的，否则数据集的质量就太差了，如前工作，网络已经可以正常训练工作了，但精度只有80%左右（validate_main2.py)，现在做一些真正的数据增强操作，包括旋转，缩放等（当然还是局限于GG-CNN范围内，，把这块工作做完的话，后面就真正开始自己独立的内容添加了。"
   ]
  },
  {
   "cell_type": "markdown",
   "metadata": {},
   "source": [
    "这部分内容的修改主要围绕几个图像类，抓取类以及数据集类来实现，具体操作就是在抓取类和图像类里面添加可以实现旋转缩放的函数功能，然后在数据集载入类里面调用这些功能实现效果。\n",
    "\n",
    "开整！"
   ]
  },
  {
   "cell_type": "markdown",
   "metadata": {},
   "source": [
    "## 1.对图像类功能的添加\n",
    "\n",
    "### 1.1 Image 类\n",
    "先直接照搬原先的image_pro内容"
   ]
  },
  {
   "cell_type": "code",
   "execution_count": 2,
   "metadata": {},
   "outputs": [],
   "source": [
    "from imageio import imread\n",
    "\n",
    "from skimage.transform import resize"
   ]
  },
  {
   "cell_type": "code",
   "execution_count": 3,
   "metadata": {},
   "outputs": [],
   "source": [
    "#这是添加数据增强之前的\n",
    "class Image:\n",
    "    '''定义一个图像类，主要功能是将原始的图像输入转化为适合网络训练的格式并根据图像处理需求完成一些其他功能'''\n",
    "    def __init__(self,img):\n",
    "        '''\n",
    "        :功能 :类初始化函数\n",
    "        :参数 :ndarray,原始图像\n",
    "        '''\n",
    "        self.img = img\n",
    "    \n",
    "    @classmethod\n",
    "    def from_file(cls,file_path):\n",
    "        '''\n",
    "        :功能           : 从原始图片的路径对其进行载入\n",
    "        :参数 file_path : str,原始图像所在的路径\n",
    "        :返回 class     : 由指定路径的原始图片实例化的Image类\n",
    "        :备注           : 这里用到的cls方法要学习一下\n",
    "        '''\n",
    "        return cls(imread(file_path))\n",
    "    \n",
    "    def img_format(self):\n",
    "        '''\n",
    "        :功能 :将原始图像转换为指定格式\n",
    "        '''\n",
    "        pass\n",
    "    \n",
    "    def normalize(self):\n",
    "        '''\n",
    "        :功能 :将图像像素值标准化至[0,1]范围\n",
    "        '''\n",
    "        self.img = self.img.astype('float32')/255.0\n",
    "        self.img = self.img-self.img.mean()\n",
    "        \n",
    "    def crop(self,top_left, bottom_right):\n",
    "        '''\n",
    "        :功能              :按照给定参数对图像进行裁剪操作\n",
    "        :参数 top_left     :ndarray,要裁剪区域的左上角点坐标\n",
    "        :参数 bottom_right :ndarray,要裁剪区域的右下角点坐标\n",
    "        '''\n",
    "        self.img = self.img[top_left[1]:bottom_right[1], top_left[0]:bottom_right[0]]\n",
    "    \n",
    "    def resize(self,shape):\n",
    "        '''\n",
    "        :功能           :将图片resize成指定的shape\n",
    "        :参数 shape     :ndarray,要裁剪区域的左上角点坐标\n",
    "        '''\n",
    "        if self.img.shape == shape:\n",
    "            return\n",
    "        self.img = resize(self.img, shape, preserve_range=True).astype(self.img.dtype)"
   ]
  },
  {
   "cell_type": "code",
   "execution_count": 4,
   "metadata": {},
   "outputs": [],
   "source": [
    "from skimage.transform import rotate, resize\n",
    "class Image:\n",
    "    '''定义一个图像类，主要功能是将原始的图像输入转化为适合网络训练的格式并根据图像处理需求完成一些其他功能'''\n",
    "    def __init__(self,img):\n",
    "        '''\n",
    "        :功能 :类初始化函数\n",
    "        :参数 :ndarray,原始图像\n",
    "        '''\n",
    "        self.img = img\n",
    "    \n",
    "    @classmethod\n",
    "    def from_file(cls,file_path):\n",
    "        '''\n",
    "        :功能           : 从原始图片的路径对其进行载入\n",
    "        :参数 file_path : str,原始图像所在的路径\n",
    "        :返回 class     : 由指定路径的原始图片实例化的Image类\n",
    "        :备注           : 这里用到的cls方法要学习一下\n",
    "        '''\n",
    "        return cls(imread(file_path))\n",
    "    \n",
    "    def img_format(self):\n",
    "        '''\n",
    "        :功能 :将原始图像转换为指定格式\n",
    "        '''\n",
    "        pass\n",
    "    \n",
    "    def normalize(self):\n",
    "        '''\n",
    "        :功能 :将图像像素值标准化至[0,1]范围\n",
    "        '''\n",
    "        self.img = self.img.astype('float32')/255.0\n",
    "        self.img = self.img-self.img.mean()\n",
    "        \n",
    "    def crop(self,top_left, bottom_right):\n",
    "        '''\n",
    "        :功能              :按照给定参数对图像进行裁剪操作\n",
    "        :参数 top_left     :ndarray,要裁剪区域的左上角点坐标\n",
    "        :参数 bottom_right :ndarray,要裁剪区域的右下角点坐标\n",
    "        '''\n",
    "        self.img = self.img[top_left[1]:bottom_right[1], top_left[0]:bottom_right[0]]\n",
    "    \n",
    "    def resize(self,shape):\n",
    "        '''\n",
    "        :功能           :将图片resize成指定的shape\n",
    "        :参数 shape     :ndarray,要裁剪区域的左上角点坐标\n",
    "        '''\n",
    "        if self.img.shape == shape:\n",
    "            return\n",
    "        self.img = resize(self.img, shape, preserve_range=True).astype(self.img.dtype)\n",
    "    \n",
    "    def rotate(self,angle,center = None):\n",
    "        '''\n",
    "        :功能           :将图片绕指定中心旋转指定角度\n",
    "        :参数 angle     :要旋转的角度（弧度制）\n",
    "        :参数 center    :旋转中心像素坐标，如不指定则默认为图像中心像素坐标\n",
    "        '''\n",
    "        if center is not None:\n",
    "            center = (center[0],center[1])#不管你原来什么数据类型，这里都变成tuple\n",
    "        self.img = rotate(self.img,angle/np.pi*180,center = center,mode = 'symmetric',preserve_range = True).astype(self.img.dtype)"
   ]
  },
  {
   "cell_type": "markdown",
   "metadata": {},
   "source": [
    "这就定义完了旋转的函数，按照我这么谨慎的性格，应该写一个测试一个，干。"
   ]
  },
  {
   "cell_type": "code",
   "execution_count": null,
   "metadata": {},
   "outputs": [],
   "source": [
    "import os\n",
    "import glob\n",
    "\n",
    "import numpy as np\n",
    "import matplotlib.pyplot as plt\n",
    "cornell_path = \"cornell\"\n",
    "graspf = glob.glob(os.path.join(cornell_path,'*','pcd*cpos.txt'))\n",
    "graspf.sort()\n",
    "\n",
    "rgbf = [filename.replace('cpos.txt','r.png') for filename in graspf]\n",
    "depthf = [filename.replace('cpos.txt','d.tiff') for filename in graspf]"
   ]
  }
 ],
 "metadata": {
  "kernelspec": {
   "display_name": "Python 3",
   "language": "python",
   "name": "python3"
  },
  "language_info": {
   "codemirror_mode": {
    "name": "ipython",
    "version": 3
   },
   "file_extension": ".py",
   "mimetype": "text/x-python",
   "name": "python",
   "nbconvert_exporter": "python",
   "pygments_lexer": "ipython3",
   "version": "3.7.7"
  }
 },
 "nbformat": 4,
 "nbformat_minor": 4
}
