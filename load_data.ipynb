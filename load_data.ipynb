{
 "cells": [
  {
   "cell_type": "markdown",
   "metadata": {},
   "source": [
    "# 先从原始数据层面进行分析 \n",
    "- by 刘道会\n",
    "- 2020年7月于重庆大学"
   ]
  },
  {
   "cell_type": "markdown",
   "metadata": {},
   "source": [
    "# 1.载入读取数据"
   ]
  },
  {
   "cell_type": "markdown",
   "metadata": {},
   "source": [
    "cornell的数据下载后是7个压缩包，如下所示："
   ]
  },
  {
   "cell_type": "code",
   "execution_count": null,
   "metadata": {},
   "outputs": [],
   "source": [
    "import os\n",
    "os.chdir('/home/ldh/Documents/github_repository/cornell_dataset/cornell')#这是我的路径"
   ]
  },
  {
   "cell_type": "code",
   "execution_count": null,
   "metadata": {},
   "outputs": [],
   "source": [
    "os.listdir()"
   ]
  },
  {
   "cell_type": "markdown",
   "metadata": {},
   "source": [
    "解压操作可以手动完成，无需编程，完后得到这些文件（外加一个背景图片）"
   ]
  },
  {
   "cell_type": "code",
   "execution_count": null,
   "metadata": {},
   "outputs": [],
   "source": [
    "data = os.listdir()\n",
    "data.sort()\n",
    "print('\\n'.join(data))"
   ]
  },
  {
   "cell_type": "markdown",
   "metadata": {},
   "source": [
    "查看每个文件夹下的内容："
   ]
  },
  {
   "cell_type": "code",
   "execution_count": null,
   "metadata": {},
   "outputs": [],
   "source": [
    "os.chdir('01')"
   ]
  },
  {
   "cell_type": "code",
   "execution_count": null,
   "metadata": {},
   "outputs": [],
   "source": [
    "os.listdir()"
   ]
  },
  {
   "cell_type": "markdown",
   "metadata": {},
   "source": [
    "可以看到，文件共有5种，分别是：\n",
    "- pcd****.txt     :样本对应的点云文件\n",
    "- pcd****cneg.txt :样本的失败抓取框标注\n",
    "- pcd****cpos.txt :样本的正确抓取标注\n",
    "- pcd****r.png    :样本的RGB图像\n",
    "- pcd****d.tiff   :由点云生成的样本深度图像（数据集中本不包含此文件，自己写程序生成，具体的程序gg-cnn中有给出）"
   ]
  },
  {
   "cell_type": "markdown",
   "metadata": {},
   "source": [
    "初步的操作计划先不管点云，围绕RGB和Depth图像和抓取框标注展开，先对其进行可视化"
   ]
  },
  {
   "cell_type": "code",
   "execution_count": null,
   "metadata": {},
   "outputs": [],
   "source": [
    "os.chdir('/home/ldh/Documents/github_repository/cornell_dataset')#这是我的路径"
   ]
  },
  {
   "cell_type": "code",
   "execution_count": null,
   "metadata": {},
   "outputs": [],
   "source": [
    "import glob"
   ]
  },
  {
   "cell_type": "markdown",
   "metadata": {},
   "source": [
    "使用glob模块来解析所有的目标数据路径：\n",
    "\n",
    "The glob module finds all the pathnames matching a specified pattern according to the rules used by the Unix shell, although results are returned in arbitrary order. \n",
    "\n",
    "glob模块可以检索出所有符合特定路径格式要求（按照unix 命令行规则）的路径名，但是返回的结果顺序是随机的\n",
    "\n",
    "详见：https://docs.python.org/3/library/glob.html"
   ]
  },
  {
   "cell_type": "code",
   "execution_count": null,
   "metadata": {},
   "outputs": [],
   "source": [
    "help(glob.glob)"
   ]
  },
  {
   "cell_type": "code",
   "execution_count": null,
   "metadata": {},
   "outputs": [],
   "source": [
    "cornell_path = 'cornell'\n",
    "graspf = glob.glob(os.path.join(cornell_path,'*','pcd*cpos.txt'))\n",
    "graspf.sort()"
   ]
  },
  {
   "cell_type": "code",
   "execution_count": null,
   "metadata": {},
   "outputs": [],
   "source": [
    "help(os.path.join)#注意此join非彼join，是os.path模块里面自带的构造文件路径的函数"
   ]
  },
  {
   "cell_type": "code",
   "execution_count": null,
   "metadata": {},
   "outputs": [],
   "source": [
    "graspf[0:10]"
   ]
  },
  {
   "cell_type": "markdown",
   "metadata": {},
   "source": [
    "用这种方式来查找读取文件的好处非常明显，跟cd到指定目录然后listdir相比，这种可以直接返回完整的文件路径，而不需要再进行构造。"
   ]
  },
  {
   "cell_type": "markdown",
   "metadata": {},
   "source": [
    "之前也看到了，这数据的格式命名都很有规律，所以可以根据这个抓取文件的路径名来构造其他的文件名"
   ]
  },
  {
   "cell_type": "code",
   "execution_count": null,
   "metadata": {},
   "outputs": [],
   "source": [
    "rgbf = [filename.replace('cpos.txt','r.png') for filename in graspf]\n",
    "depthf = [filename.replace('cpos.txt','d.tiff') for filename in graspf]"
   ]
  },
  {
   "cell_type": "code",
   "execution_count": null,
   "metadata": {},
   "outputs": [],
   "source": [
    "print('\\n'.join(rgbf[0:10]))\n",
    "print('\\n'.join(depthf[0:10]))"
   ]
  },
  {
   "cell_type": "markdown",
   "metadata": {},
   "source": [
    "可视化一下来看看效果"
   ]
  },
  {
   "cell_type": "code",
   "execution_count": null,
   "metadata": {},
   "outputs": [],
   "source": [
    "from PIL import Image\n",
    "import matplotlib.pyplot as plt\n",
    "\n",
    "for i in range(9):\n",
    "    img = Image.open(rgbf[i])\n",
    "    plt.subplot(331+i)\n",
    "    plt.imshow(img)\n",
    "plt.show()\n",
    "\n",
    "for i in range(9):\n",
    "    img = Image.open(depthf[i])\n",
    "    plt.subplot(331+i)\n",
    "    plt.imshow(img)\n",
    "plt.show()"
   ]
  },
  {
   "cell_type": "markdown",
   "metadata": {},
   "source": [
    "图片正常显示，说明文件路径无误。"
   ]
  },
  {
   "cell_type": "markdown",
   "metadata": {},
   "source": [
    "# 2.对数据进行处理\n",
    "## 2.1可视化抓取框标注"
   ]
  },
  {
   "cell_type": "code",
   "execution_count": null,
   "metadata": {},
   "outputs": [],
   "source": [
    "#先打开一个文件看一下怎么存的\n",
    "with open(graspf[0],'r') as f:\n",
    "    grasp_data = f.read()"
   ]
  },
  {
   "cell_type": "code",
   "execution_count": null,
   "metadata": {},
   "outputs": [],
   "source": [
    "print(grasp_data)"
   ]
  },
  {
   "cell_type": "markdown",
   "metadata": {},
   "source": [
    "我记得之前的帮助文件里面写了，这个里面就是点的坐标，每一行就是一个点，每四个点就是一个抓取矩形。"
   ]
  },
  {
   "cell_type": "markdown",
   "metadata": {},
   "source": [
    "因为它按行区分，所以换个读取函数，按行读取比较好"
   ]
  },
  {
   "cell_type": "code",
   "execution_count": null,
   "metadata": {},
   "outputs": [],
   "source": [
    "with open(graspf[0],'r') as f:\n",
    "    grasp_data = f.readlines()"
   ]
  },
  {
   "cell_type": "code",
   "execution_count": null,
   "metadata": {},
   "outputs": [],
   "source": [
    "grasp_data"
   ]
  },
  {
   "cell_type": "code",
   "execution_count": null,
   "metadata": {},
   "outputs": [],
   "source": [
    "grasp_data = [grasp.strip() for grasp in grasp_data]#去除末尾换行符"
   ]
  },
  {
   "cell_type": "code",
   "execution_count": null,
   "metadata": {},
   "outputs": [],
   "source": [
    "grasp_data"
   ]
  },
  {
   "cell_type": "markdown",
   "metadata": {},
   "source": [
    "接下来要从里面把框的数据读出来并按照一个框一个框的格式区分"
   ]
  },
  {
   "cell_type": "code",
   "execution_count": null,
   "metadata": {},
   "outputs": [],
   "source": [
    "\n",
    "def str2num(point):\n",
    "    '''\n",
    "    :参数  :point,字符串，以字符串形式存储的一个点的坐标\n",
    "    :返回值 :列表，包含int型抓取点数据的列表[x,y]\n",
    "    \n",
    "    '''\n",
    "    x,y = point.split()\n",
    "    x,y = int(round(float(x))),int(round(float(y)))\n",
    "    \n",
    "    return (x,y)\n",
    "\n",
    "def get_rectangle(cornell_grasp_file):\n",
    "    '''\n",
    "    :参数  :cornell_grap_file:字符串，指向某个抓取文件的路径\n",
    "    :返回值 :列表，包含各个抓取矩形数据的列表\n",
    "    \n",
    "    '''\n",
    "    grasp_rectangles = []\n",
    "    with open(cornell_grasp_file,'r') as f:\n",
    "        while True:\n",
    "            grasp_rectangle = []\n",
    "            point0 = f.readline().strip()\n",
    "            if not point0:\n",
    "                break\n",
    "            point1,point2,point3 = f.readline().strip(),f.readline().strip(),f.readline().strip()\n",
    "            grasp_rectangle = [str2num(point0),\n",
    "                               str2num(point1),\n",
    "                               str2num(point2),\n",
    "                               str2num(point3)]\n",
    "            grasp_rectangles.append(grasp_rectangle)\n",
    "    \n",
    "    return grasp_rectangles"
   ]
  },
  {
   "cell_type": "code",
   "execution_count": null,
   "metadata": {},
   "outputs": [],
   "source": [
    "grs = get_rectangle(graspf[0])"
   ]
  },
  {
   "cell_type": "code",
   "execution_count": null,
   "metadata": {},
   "outputs": [],
   "source": [
    "grs"
   ]
  },
  {
   "cell_type": "markdown",
   "metadata": {},
   "source": [
    "因为matplotlib只能画这种竖直的矩形：\n",
    ":                +------------------+\n",
    ":                |             |\n",
    ":              height            |\n",
    ":                |             |\n",
    ":               (xy)---- width -----+"
   ]
  },
  {
   "cell_type": "code",
   "execution_count": null,
   "metadata": {},
   "outputs": [],
   "source": [
    "import cv2"
   ]
  },
  {
   "cell_type": "code",
   "execution_count": null,
   "metadata": {},
   "outputs": [],
   "source": [
    "img = cv2.imread(rgbf[0])"
   ]
  },
  {
   "cell_type": "code",
   "execution_count": null,
   "metadata": {},
   "outputs": [],
   "source": [
    "for gr in grs:\n",
    "    for i in range(3):\n",
    "        img = cv2.line(img,gr[i],gr[i+1],5)\n",
    "    img = cv2.line(img,gr[3],gr[0],5) "
   ]
  },
  {
   "cell_type": "code",
   "execution_count": null,
   "metadata": {},
   "outputs": [],
   "source": [
    "cv2.imshow('img',img)\n",
    "cv2.waitKey(10000)"
   ]
  },
  {
   "cell_type": "code",
   "execution_count": null,
   "metadata": {
    "scrolled": true
   },
   "outputs": [],
   "source": [
    "plt.imshow(img)\n",
    "plt.show()"
   ]
  },
  {
   "cell_type": "markdown",
   "metadata": {},
   "source": [
    "## 完整程序如下：\n"
   ]
  },
  {
   "cell_type": "code",
   "execution_count": null,
   "metadata": {},
   "outputs": [],
   "source": []
  },
  {
   "cell_type": "code",
   "execution_count": null,
   "metadata": {},
   "outputs": [],
   "source": [
    "import os\n",
    "import glob\n",
    "import cv2\n",
    "import random\n",
    "import numpy as np\n",
    "\n",
    "cornell_path = \"cornell\"\n",
    "graspf = glob.glob(os.path.join(cornell_path,'*','pcd*cpos.txt'))\n",
    "graspf.sort()\n",
    "\n",
    "rgbf = [filename.replace('cpos.txt','r.png') for filename in graspf]\n",
    "depthf = [filename.replace('cpos.txt','d.tiff') for filename in graspf]\n",
    "\n",
    "\n",
    "#总结一下部分代码的定位，其实有关后面内容的到这基本就结束了，就是一个读入，后面的几个函数都是可视化抓取框用的，要说用处也有一些，但对训练没用，对人有用而已。\n",
    "\n",
    "\n",
    "\n",
    "def str2num(point):\n",
    "    '''\n",
    "    :功能  :将字符串类型存储的抓取框脚点坐标取整并以元组形式返回\n",
    "    \n",
    "    :参数  :point,字符串，以字符串形式存储的一个点的坐标\n",
    "    :返回值 :列表，包含int型抓取点数据的列表[x,y]\n",
    "    '''\n",
    "    x,y = point.split()\n",
    "    x,y = int(round(float(x))),int(round(float(y)))\n",
    "    \n",
    "    return (x,y)#如果想在后面可视化框的话，这里就得返回元组类型的数据，或者后面再类型转换为元组\n",
    "\n",
    "def get_rectangles(cornell_grasp_file):\n",
    "    '''\n",
    "    :功能  :从抓取文件中提取抓取框的坐标信息\n",
    "    \n",
    "    :参数  :cornell_grap_file:字符串，指向某个抓取文件的路径\n",
    "    :返回值 :列表，包含各个抓取矩形数据的列表\n",
    "    '''\n",
    "    grasp_rectangles = []\n",
    "    with open(cornell_grasp_file,'r') as f:\n",
    "        while True:\n",
    "            grasp_rectangle = []\n",
    "            point0 = f.readline().strip()\n",
    "            if not point0:\n",
    "                break\n",
    "            point1,point2,point3 = f.readline().strip(),f.readline().strip(),f.readline().strip()\n",
    "            grasp_rectangle = [str2num(point0),\n",
    "                               str2num(point1),\n",
    "                               str2num(point2),\n",
    "                               str2num(point3)]\n",
    "            grasp_rectangles.append(grasp_rectangle)\n",
    "    \n",
    "    return grasp_rectangles\n",
    "\n",
    "def draw_rectangles(img_path,grasp_path):\n",
    "    '''\n",
    "    :功能  :在指定的图片上绘制添加相应的抓取标注框\n",
    "    \n",
    "    :参数  :img_path:字符串，指向某个RGB图片的路径\n",
    "    :参数  :grasp_path:字符串，指向某个抓取文件的路径\n",
    "    :返回值 :numpy数组，已经添加完抓取框的img数组\n",
    "    '''\n",
    "    img_path = img_path\n",
    "    grasp_path = grasp_path\n",
    "    \n",
    "    img = cv2.imread(img_path)\n",
    "    grs = get_rectangles(grasp_path)\n",
    "    \n",
    "    for gr in grs:\n",
    "        #产生随机颜色\n",
    "        color = (random.randint(0,255),random.randint(0,255),random.randint(0,255))\n",
    "        #绘制添加矩形框\n",
    "        for i in range(3): #因为一个框只有四条线，所以这里是3\n",
    "            img = cv2.line(img,gr[i],gr[i+1],color,3)\n",
    "        img = cv2.line(img,gr[3],gr[0],color,2) #补上最后一条封闭的线\n",
    "    \n",
    "    cv2.imshow('img',img)\n",
    "    cv2.waitKey(1000)\n",
    "    \n",
    "    return img\n",
    "\n",
    "if __name__ == \"__main__\":\n",
    "    img = draw_rectangles(rgbf[0],graspf[0])\n",
    "#jupyter好像用不了 parser，所以这里就没用"
   ]
  }
 ],
 "metadata": {
  "kernelspec": {
   "display_name": "Python 3",
   "language": "python",
   "name": "python3"
  },
  "language_info": {
   "codemirror_mode": {
    "name": "ipython",
    "version": 3
   },
   "file_extension": ".py",
   "mimetype": "text/x-python",
   "name": "python",
   "nbconvert_exporter": "python",
   "pygments_lexer": "ipython3",
   "version": "3.7.7"
  }
 },
 "nbformat": 4,
 "nbformat_minor": 4
}
